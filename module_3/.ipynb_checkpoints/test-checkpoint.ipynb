{
 "cells": [
  {
   "cell_type": "markdown",
   "metadata": {},
   "source": [
    "![title](img/200.png)\n",
    "# Predict TripAdvisor Rating - module_3\n",
    "\n",
    "\n",
    "\n"
   ]
  },
  {
   "cell_type": "markdown",
   "metadata": {},
   "source": [
    "## 1. Импорт нужных библиотек"
   ]
  },
  {
   "cell_type": "code",
   "execution_count": 1,
   "metadata": {
    "_cell_guid": "b1076dfc-b9ad-4769-8c92-a6c4dae69d19",
    "_uuid": "8f2839f25d086af736a60e9eeb907d3b93b6e0e5",
    "execution": {
     "iopub.execute_input": "2021-06-28T10:26:40.878984Z",
     "iopub.status.busy": "2021-06-28T10:26:40.878651Z",
     "iopub.status.idle": "2021-06-28T10:26:43.540692Z",
     "shell.execute_reply": "2021-06-28T10:26:43.540137Z",
     "shell.execute_reply.started": "2021-06-28T10:26:40.878900Z"
    }
   },
   "outputs": [],
   "source": [
    "import numpy as np # linear algebra\n",
    "import pandas as pd # data processing, CSV file I/O (e.g. pd.read_csv)\n",
    "\n",
    "import matplotlib.pyplot as plt\n",
    "import seaborn as sns \n",
    "import missingno as msno\n",
    "%matplotlib inline\n",
    "\n",
    "# Загружаем специальный удобный инструмент для разделения датасета:\n",
    "from sklearn.model_selection import train_test_split\n",
    "\n",
    "# import os\n",
    "# for dirname, _, filenames in os.walk('/kaggle/input'):\n",
    "#     for filename in filenames:\n",
    "#         print(os.path.join(dirname, filename))\n",
    "        \n",
    "import re\n",
    "from datetime import datetime, timedelta\n",
    "import math\n",
    "import ast"
   ]
  },
  {
   "cell_type": "code",
   "execution_count": 2,
   "metadata": {},
   "outputs": [
    {
     "name": "stdout",
     "output_type": "stream",
     "text": [
      "1.21.0\n"
     ]
    }
   ],
   "source": [
    "print(np.__version__)"
   ]
  },
  {
   "cell_type": "code",
   "execution_count": 3,
   "metadata": {
    "execution": {
     "iopub.execute_input": "2021-06-28T10:26:53.710548Z",
     "iopub.status.busy": "2021-06-28T10:26:53.710265Z",
     "iopub.status.idle": "2021-06-28T10:26:53.713756Z",
     "shell.execute_reply": "2021-06-28T10:26:53.713215Z",
     "shell.execute_reply.started": "2021-06-28T10:26:53.710506Z"
    }
   },
   "outputs": [],
   "source": [
    "# всегда фиксируйте RANDOM_SEED, чтобы ваши эксперименты были воспроизводимы!\n",
    "RANDOM_SEED = 42"
   ]
  },
  {
   "cell_type": "code",
   "execution_count": 4,
   "metadata": {
    "execution": {
     "iopub.execute_input": "2021-06-28T10:26:55.482516Z",
     "iopub.status.busy": "2021-06-28T10:26:55.482238Z",
     "iopub.status.idle": "2021-06-28T10:26:58.290539Z",
     "shell.execute_reply": "2021-06-28T10:26:58.289627Z",
     "shell.execute_reply.started": "2021-06-28T10:26:55.482469Z"
    }
   },
   "outputs": [
    {
     "name": "stderr",
     "output_type": "stream",
     "text": [
      "WARNING: Could not generate requirement for distribution -umpy 1.16.5 (c:\\users\\user\\anaconda3\\lib\\site-packages): Parse error at \"'-umpy==1'\": Expected W:(abcd...)\n"
     ]
    }
   ],
   "source": [
    "# зафиксируем версию пакетов, чтобы эксперименты были воспроизводимы:\n",
    "!pip freeze > requirements.txt"
   ]
  },
  {
   "cell_type": "markdown",
   "metadata": {},
   "source": [
    "## 2. Загрузка данных"
   ]
  },
  {
   "cell_type": "code",
   "execution_count": 5,
   "metadata": {},
   "outputs": [],
   "source": [
    "df_train = pd.read_csv('main_task.csv')\n",
    "df_test = pd.read_csv('kaggle_task.csv')\n",
    "sample_submission = pd.read_csv('sample_submission.csv')"
   ]
  },
  {
   "cell_type": "markdown",
   "metadata": {},
   "source": [
    "## 3. EDA"
   ]
  },
  {
   "cell_type": "code",
   "execution_count": 6,
   "metadata": {
    "execution": {
     "iopub.execute_input": "2021-06-28T10:27:12.387868Z",
     "iopub.status.busy": "2021-06-28T10:27:12.387572Z",
     "iopub.status.idle": "2021-06-28T10:27:12.431301Z",
     "shell.execute_reply": "2021-06-28T10:27:12.430523Z",
     "shell.execute_reply.started": "2021-06-28T10:27:12.387816Z"
    },
    "scrolled": true
   },
   "outputs": [
    {
     "data": {
      "text/plain": [
       "<bound method DataFrame.info of       Restaurant_id       City  \\\n",
       "0           id_5569      Paris   \n",
       "1           id_1535  Stockholm   \n",
       "2            id_352     London   \n",
       "3           id_3456     Berlin   \n",
       "4            id_615     Munich   \n",
       "...             ...        ...   \n",
       "39995        id_499      Milan   \n",
       "39996       id_6340      Paris   \n",
       "39997       id_1649  Stockholm   \n",
       "39998        id_640     Warsaw   \n",
       "39999       id_4824      Milan   \n",
       "\n",
       "                                           Cuisine Style  Ranking  Rating  \\\n",
       "0                ['European', 'French', 'International']   5570.0     3.5   \n",
       "1                                                    NaN   1537.0     4.0   \n",
       "2      ['Japanese', 'Sushi', 'Asian', 'Grill', 'Veget...    353.0     4.5   \n",
       "3                                                    NaN   3458.0     5.0   \n",
       "4      ['German', 'Central European', 'Vegetarian Fri...    621.0     4.0   \n",
       "...                                                  ...      ...     ...   \n",
       "39995  ['Italian', 'Vegetarian Friendly', 'Vegan Opti...    500.0     4.5   \n",
       "39996  ['French', 'American', 'Bar', 'European', 'Veg...   6341.0     3.5   \n",
       "39997                              ['Japanese', 'Sushi']   1652.0     4.5   \n",
       "39998  ['Polish', 'European', 'Eastern European', 'Ce...    641.0     4.0   \n",
       "39999                                        ['Spanish']   4827.0     3.0   \n",
       "\n",
       "      Price Range  Number of Reviews  \\\n",
       "0        $$ - $$$              194.0   \n",
       "1             NaN               10.0   \n",
       "2            $$$$              688.0   \n",
       "3             NaN                3.0   \n",
       "4        $$ - $$$               84.0   \n",
       "...           ...                ...   \n",
       "39995    $$ - $$$               79.0   \n",
       "39996    $$ - $$$              542.0   \n",
       "39997         NaN                4.0   \n",
       "39998    $$ - $$$               70.0   \n",
       "39999    $$ - $$$              260.0   \n",
       "\n",
       "                                                 Reviews  \\\n",
       "0      [['Good food at your doorstep', 'A good hotel ...   \n",
       "1      [['Unique cuisine', 'Delicious Nepalese food']...   \n",
       "2      [['Catch up with friends', 'Not exceptional'],...   \n",
       "3                                               [[], []]   \n",
       "4      [['Best place to try a Bavarian food', 'Nice b...   \n",
       "...                                                  ...   \n",
       "39995  [['The real Italian experience!', 'Wonderful f...   \n",
       "39996  [['Parisian atmosphere', 'Bit pricey but inter...   \n",
       "39997  [['Good by swedish standards', 'A hidden jewel...   \n",
       "39998  [['Underground restaurant', 'Oldest Restaurant...   \n",
       "39999  [['Average', 'Nice an informal'], ['01/31/2016...   \n",
       "\n",
       "                                                  URL_TA     ID_TA  \n",
       "0      /Restaurant_Review-g187147-d1912643-Reviews-R_...  d1912643  \n",
       "1      /Restaurant_Review-g189852-d7992032-Reviews-Bu...  d7992032  \n",
       "2      /Restaurant_Review-g186338-d8632781-Reviews-RO...  d8632781  \n",
       "3      /Restaurant_Review-g187323-d1358776-Reviews-Es...  d1358776  \n",
       "4      /Restaurant_Review-g187309-d6864963-Reviews-Au...  d6864963  \n",
       "...                                                  ...       ...  \n",
       "39995  /Restaurant_Review-g187849-d2104414-Reviews-Ro...  d2104414  \n",
       "39996  /Restaurant_Review-g187147-d1800036-Reviews-La...  d1800036  \n",
       "39997  /Restaurant_Review-g189852-d947615-Reviews-Sus...   d947615  \n",
       "39998  /Restaurant_Review-g274856-d1100838-Reviews-Ho...  d1100838  \n",
       "39999  /Restaurant_Review-g187849-d1109020-Reviews-Ta...  d1109020  \n",
       "\n",
       "[40000 rows x 10 columns]>"
      ]
     },
     "execution_count": 6,
     "metadata": {},
     "output_type": "execute_result"
    }
   ],
   "source": [
    "df_train.info"
   ]
  },
  {
   "cell_type": "code",
   "execution_count": 7,
   "metadata": {
    "execution": {
     "iopub.execute_input": "2021-06-28T10:28:16.914227Z",
     "iopub.status.busy": "2021-06-28T10:28:16.913952Z",
     "iopub.status.idle": "2021-06-28T10:28:16.929317Z",
     "shell.execute_reply": "2021-06-28T10:28:16.928648Z",
     "shell.execute_reply.started": "2021-06-28T10:28:16.914185Z"
    }
   },
   "outputs": [
    {
     "data": {
      "text/html": [
       "<div>\n",
       "<style scoped>\n",
       "    .dataframe tbody tr th:only-of-type {\n",
       "        vertical-align: middle;\n",
       "    }\n",
       "\n",
       "    .dataframe tbody tr th {\n",
       "        vertical-align: top;\n",
       "    }\n",
       "\n",
       "    .dataframe thead th {\n",
       "        text-align: right;\n",
       "    }\n",
       "</style>\n",
       "<table border=\"1\" class=\"dataframe\">\n",
       "  <thead>\n",
       "    <tr style=\"text-align: right;\">\n",
       "      <th></th>\n",
       "      <th>Restaurant_id</th>\n",
       "      <th>City</th>\n",
       "      <th>Cuisine Style</th>\n",
       "      <th>Ranking</th>\n",
       "      <th>Rating</th>\n",
       "      <th>Price Range</th>\n",
       "      <th>Number of Reviews</th>\n",
       "      <th>Reviews</th>\n",
       "      <th>URL_TA</th>\n",
       "      <th>ID_TA</th>\n",
       "    </tr>\n",
       "  </thead>\n",
       "  <tbody>\n",
       "    <tr>\n",
       "      <td>0</td>\n",
       "      <td>id_5569</td>\n",
       "      <td>Paris</td>\n",
       "      <td>['European', 'French', 'International']</td>\n",
       "      <td>5570.0</td>\n",
       "      <td>3.5</td>\n",
       "      <td>$$ - $$$</td>\n",
       "      <td>194.0</td>\n",
       "      <td>[['Good food at your doorstep', 'A good hotel ...</td>\n",
       "      <td>/Restaurant_Review-g187147-d1912643-Reviews-R_...</td>\n",
       "      <td>d1912643</td>\n",
       "    </tr>\n",
       "    <tr>\n",
       "      <td>1</td>\n",
       "      <td>id_1535</td>\n",
       "      <td>Stockholm</td>\n",
       "      <td>NaN</td>\n",
       "      <td>1537.0</td>\n",
       "      <td>4.0</td>\n",
       "      <td>NaN</td>\n",
       "      <td>10.0</td>\n",
       "      <td>[['Unique cuisine', 'Delicious Nepalese food']...</td>\n",
       "      <td>/Restaurant_Review-g189852-d7992032-Reviews-Bu...</td>\n",
       "      <td>d7992032</td>\n",
       "    </tr>\n",
       "    <tr>\n",
       "      <td>2</td>\n",
       "      <td>id_352</td>\n",
       "      <td>London</td>\n",
       "      <td>['Japanese', 'Sushi', 'Asian', 'Grill', 'Veget...</td>\n",
       "      <td>353.0</td>\n",
       "      <td>4.5</td>\n",
       "      <td>$$$$</td>\n",
       "      <td>688.0</td>\n",
       "      <td>[['Catch up with friends', 'Not exceptional'],...</td>\n",
       "      <td>/Restaurant_Review-g186338-d8632781-Reviews-RO...</td>\n",
       "      <td>d8632781</td>\n",
       "    </tr>\n",
       "    <tr>\n",
       "      <td>3</td>\n",
       "      <td>id_3456</td>\n",
       "      <td>Berlin</td>\n",
       "      <td>NaN</td>\n",
       "      <td>3458.0</td>\n",
       "      <td>5.0</td>\n",
       "      <td>NaN</td>\n",
       "      <td>3.0</td>\n",
       "      <td>[[], []]</td>\n",
       "      <td>/Restaurant_Review-g187323-d1358776-Reviews-Es...</td>\n",
       "      <td>d1358776</td>\n",
       "    </tr>\n",
       "    <tr>\n",
       "      <td>4</td>\n",
       "      <td>id_615</td>\n",
       "      <td>Munich</td>\n",
       "      <td>['German', 'Central European', 'Vegetarian Fri...</td>\n",
       "      <td>621.0</td>\n",
       "      <td>4.0</td>\n",
       "      <td>$$ - $$$</td>\n",
       "      <td>84.0</td>\n",
       "      <td>[['Best place to try a Bavarian food', 'Nice b...</td>\n",
       "      <td>/Restaurant_Review-g187309-d6864963-Reviews-Au...</td>\n",
       "      <td>d6864963</td>\n",
       "    </tr>\n",
       "  </tbody>\n",
       "</table>\n",
       "</div>"
      ],
      "text/plain": [
       "  Restaurant_id       City                                      Cuisine Style  \\\n",
       "0       id_5569      Paris            ['European', 'French', 'International']   \n",
       "1       id_1535  Stockholm                                                NaN   \n",
       "2        id_352     London  ['Japanese', 'Sushi', 'Asian', 'Grill', 'Veget...   \n",
       "3       id_3456     Berlin                                                NaN   \n",
       "4        id_615     Munich  ['German', 'Central European', 'Vegetarian Fri...   \n",
       "\n",
       "   Ranking  Rating Price Range  Number of Reviews  \\\n",
       "0   5570.0     3.5    $$ - $$$              194.0   \n",
       "1   1537.0     4.0         NaN               10.0   \n",
       "2    353.0     4.5        $$$$              688.0   \n",
       "3   3458.0     5.0         NaN                3.0   \n",
       "4    621.0     4.0    $$ - $$$               84.0   \n",
       "\n",
       "                                             Reviews  \\\n",
       "0  [['Good food at your doorstep', 'A good hotel ...   \n",
       "1  [['Unique cuisine', 'Delicious Nepalese food']...   \n",
       "2  [['Catch up with friends', 'Not exceptional'],...   \n",
       "3                                           [[], []]   \n",
       "4  [['Best place to try a Bavarian food', 'Nice b...   \n",
       "\n",
       "                                              URL_TA     ID_TA  \n",
       "0  /Restaurant_Review-g187147-d1912643-Reviews-R_...  d1912643  \n",
       "1  /Restaurant_Review-g189852-d7992032-Reviews-Bu...  d7992032  \n",
       "2  /Restaurant_Review-g186338-d8632781-Reviews-RO...  d8632781  \n",
       "3  /Restaurant_Review-g187323-d1358776-Reviews-Es...  d1358776  \n",
       "4  /Restaurant_Review-g187309-d6864963-Reviews-Au...  d6864963  "
      ]
     },
     "execution_count": 7,
     "metadata": {},
     "output_type": "execute_result"
    }
   ],
   "source": [
    "df_train.head(5)"
   ]
  },
  {
   "cell_type": "code",
   "execution_count": 8,
   "metadata": {
    "execution": {
     "iopub.execute_input": "2021-06-28T10:28:18.528087Z",
     "iopub.status.busy": "2021-06-28T10:28:18.527815Z",
     "iopub.status.idle": "2021-06-28T10:28:18.545025Z",
     "shell.execute_reply": "2021-06-28T10:28:18.544024Z",
     "shell.execute_reply.started": "2021-06-28T10:28:18.528047Z"
    },
    "scrolled": true
   },
   "outputs": [
    {
     "data": {
      "text/plain": [
       "<bound method DataFrame.info of      Restaurant_id        City  \\\n",
       "0             id_0       Paris   \n",
       "1             id_1    Helsinki   \n",
       "2             id_2   Edinburgh   \n",
       "3             id_3      London   \n",
       "4             id_4  Bratislava   \n",
       "...            ...         ...   \n",
       "9995       id_9995      London   \n",
       "9996       id_9996      Lisbon   \n",
       "9997       id_9997       Milan   \n",
       "9998       id_9998       Milan   \n",
       "9999       id_9999       Paris   \n",
       "\n",
       "                                          Cuisine Style  Ranking Price Range  \\\n",
       "0                                        ['Bar', 'Pub']  12963.0    $$ - $$$   \n",
       "1     ['European', 'Scandinavian', 'Gluten Free Opti...    106.0    $$ - $$$   \n",
       "2                               ['Vegetarian Friendly']    810.0    $$ - $$$   \n",
       "3     ['Italian', 'Mediterranean', 'European', 'Vege...   1669.0        $$$$   \n",
       "4     ['Italian', 'Mediterranean', 'European', 'Seaf...     37.0        $$$$   \n",
       "...                                                 ...      ...         ...   \n",
       "9995  ['Caribbean', 'Barbecue', 'Jamaican', 'Vegetar...   4367.0           $   \n",
       "9996       ['Indian', 'Asian', 'Nepali', 'Bangladeshi']   2612.0    $$ - $$$   \n",
       "9997                                                NaN   5562.0         NaN   \n",
       "9998                                        ['Italian']   4010.0         NaN   \n",
       "9999                                                NaN   6791.0         NaN   \n",
       "\n",
       "      Number of Reviews                                            Reviews  \\\n",
       "0                   4.0                                           [[], []]   \n",
       "1                  97.0  [['Very good reviews!', 'Fine dining in Hakani...   \n",
       "2                  28.0  [['Better than the Links', 'Ivy Black'], ['12/...   \n",
       "3                 202.0  [['Most exquisite', 'Delicious and authentic']...   \n",
       "4                 162.0  [['Always the best in bratislava', 'Very good ...   \n",
       "...                 ...                                                ...   \n",
       "9995               28.0  [['By far best Chicken burgers and wings in L....   \n",
       "9996                2.0               [['Ok indian food'], ['11/25/2017']]   \n",
       "9997                2.0                                           [[], []]   \n",
       "9998                2.0                                           [[], []]   \n",
       "9999               14.0  [['Ethiopian Dining in Pleasant Space'], ['07/...   \n",
       "\n",
       "                                                 URL_TA      ID_TA  \n",
       "0     /Restaurant_Review-g187147-d10746918-Reviews-L...  d10746918  \n",
       "1     /Restaurant_Review-g189934-d6674944-Reviews-Ra...   d6674944  \n",
       "2     /Restaurant_Review-g186525-d13129638-Reviews-B...  d13129638  \n",
       "3     /Restaurant_Review-g186338-d680417-Reviews-Qui...    d680417  \n",
       "4     /Restaurant_Review-g274924-d1112354-Reviews-Ma...   d1112354  \n",
       "...                                                 ...        ...  \n",
       "9995  /Restaurant_Review-g186338-d11916827-Reviews-C...  d11916827  \n",
       "9996  /Restaurant_Review-g189158-d12701633-Reviews-C...  d12701633  \n",
       "9997  /Restaurant_Review-g187849-d13198194-Reviews-Q...  d13198194  \n",
       "9998  /Restaurant_Review-g187849-d3862815-Reviews-La...   d3862815  \n",
       "9999  /Restaurant_Review-g187147-d10342814-Reviews-L...  d10342814  \n",
       "\n",
       "[10000 rows x 9 columns]>"
      ]
     },
     "execution_count": 8,
     "metadata": {},
     "output_type": "execute_result"
    }
   ],
   "source": [
    "df_test.info"
   ]
  },
  {
   "cell_type": "code",
   "execution_count": 9,
   "metadata": {
    "execution": {
     "iopub.execute_input": "2021-06-28T10:28:21.461205Z",
     "iopub.status.busy": "2021-06-28T10:28:21.460932Z",
     "iopub.status.idle": "2021-06-28T10:28:21.476471Z",
     "shell.execute_reply": "2021-06-28T10:28:21.475686Z",
     "shell.execute_reply.started": "2021-06-28T10:28:21.461170Z"
    }
   },
   "outputs": [
    {
     "data": {
      "text/html": [
       "<div>\n",
       "<style scoped>\n",
       "    .dataframe tbody tr th:only-of-type {\n",
       "        vertical-align: middle;\n",
       "    }\n",
       "\n",
       "    .dataframe tbody tr th {\n",
       "        vertical-align: top;\n",
       "    }\n",
       "\n",
       "    .dataframe thead th {\n",
       "        text-align: right;\n",
       "    }\n",
       "</style>\n",
       "<table border=\"1\" class=\"dataframe\">\n",
       "  <thead>\n",
       "    <tr style=\"text-align: right;\">\n",
       "      <th></th>\n",
       "      <th>Restaurant_id</th>\n",
       "      <th>City</th>\n",
       "      <th>Cuisine Style</th>\n",
       "      <th>Ranking</th>\n",
       "      <th>Price Range</th>\n",
       "      <th>Number of Reviews</th>\n",
       "      <th>Reviews</th>\n",
       "      <th>URL_TA</th>\n",
       "      <th>ID_TA</th>\n",
       "    </tr>\n",
       "  </thead>\n",
       "  <tbody>\n",
       "    <tr>\n",
       "      <td>0</td>\n",
       "      <td>id_0</td>\n",
       "      <td>Paris</td>\n",
       "      <td>['Bar', 'Pub']</td>\n",
       "      <td>12963.0</td>\n",
       "      <td>$$ - $$$</td>\n",
       "      <td>4.0</td>\n",
       "      <td>[[], []]</td>\n",
       "      <td>/Restaurant_Review-g187147-d10746918-Reviews-L...</td>\n",
       "      <td>d10746918</td>\n",
       "    </tr>\n",
       "    <tr>\n",
       "      <td>1</td>\n",
       "      <td>id_1</td>\n",
       "      <td>Helsinki</td>\n",
       "      <td>['European', 'Scandinavian', 'Gluten Free Opti...</td>\n",
       "      <td>106.0</td>\n",
       "      <td>$$ - $$$</td>\n",
       "      <td>97.0</td>\n",
       "      <td>[['Very good reviews!', 'Fine dining in Hakani...</td>\n",
       "      <td>/Restaurant_Review-g189934-d6674944-Reviews-Ra...</td>\n",
       "      <td>d6674944</td>\n",
       "    </tr>\n",
       "    <tr>\n",
       "      <td>2</td>\n",
       "      <td>id_2</td>\n",
       "      <td>Edinburgh</td>\n",
       "      <td>['Vegetarian Friendly']</td>\n",
       "      <td>810.0</td>\n",
       "      <td>$$ - $$$</td>\n",
       "      <td>28.0</td>\n",
       "      <td>[['Better than the Links', 'Ivy Black'], ['12/...</td>\n",
       "      <td>/Restaurant_Review-g186525-d13129638-Reviews-B...</td>\n",
       "      <td>d13129638</td>\n",
       "    </tr>\n",
       "    <tr>\n",
       "      <td>3</td>\n",
       "      <td>id_3</td>\n",
       "      <td>London</td>\n",
       "      <td>['Italian', 'Mediterranean', 'European', 'Vege...</td>\n",
       "      <td>1669.0</td>\n",
       "      <td>$$$$</td>\n",
       "      <td>202.0</td>\n",
       "      <td>[['Most exquisite', 'Delicious and authentic']...</td>\n",
       "      <td>/Restaurant_Review-g186338-d680417-Reviews-Qui...</td>\n",
       "      <td>d680417</td>\n",
       "    </tr>\n",
       "    <tr>\n",
       "      <td>4</td>\n",
       "      <td>id_4</td>\n",
       "      <td>Bratislava</td>\n",
       "      <td>['Italian', 'Mediterranean', 'European', 'Seaf...</td>\n",
       "      <td>37.0</td>\n",
       "      <td>$$$$</td>\n",
       "      <td>162.0</td>\n",
       "      <td>[['Always the best in bratislava', 'Very good ...</td>\n",
       "      <td>/Restaurant_Review-g274924-d1112354-Reviews-Ma...</td>\n",
       "      <td>d1112354</td>\n",
       "    </tr>\n",
       "    <tr>\n",
       "      <td>5</td>\n",
       "      <td>id_5</td>\n",
       "      <td>Paris</td>\n",
       "      <td>['French', 'Cafe', 'Fast Food']</td>\n",
       "      <td>5093.0</td>\n",
       "      <td>$</td>\n",
       "      <td>24.0</td>\n",
       "      <td>[['Lunch Break', 'Good to Quick Bite'], ['09/0...</td>\n",
       "      <td>/Restaurant_Review-g187147-d8458643-Reviews-Le...</td>\n",
       "      <td>d8458643</td>\n",
       "    </tr>\n",
       "    <tr>\n",
       "      <td>6</td>\n",
       "      <td>id_6</td>\n",
       "      <td>Lisbon</td>\n",
       "      <td>['European', 'Portuguese']</td>\n",
       "      <td>3704.0</td>\n",
       "      <td>$</td>\n",
       "      <td>2.0</td>\n",
       "      <td>[[], []]</td>\n",
       "      <td>/Restaurant_Review-g189158-d8758873-Reviews-Li...</td>\n",
       "      <td>d8758873</td>\n",
       "    </tr>\n",
       "    <tr>\n",
       "      <td>7</td>\n",
       "      <td>id_7</td>\n",
       "      <td>Budapest</td>\n",
       "      <td>NaN</td>\n",
       "      <td>2330.0</td>\n",
       "      <td>NaN</td>\n",
       "      <td>NaN</td>\n",
       "      <td>[[], []]</td>\n",
       "      <td>/Restaurant_Review-g274887-d8286886-Reviews-Be...</td>\n",
       "      <td>d8286886</td>\n",
       "    </tr>\n",
       "  </tbody>\n",
       "</table>\n",
       "</div>"
      ],
      "text/plain": [
       "  Restaurant_id        City  \\\n",
       "0          id_0       Paris   \n",
       "1          id_1    Helsinki   \n",
       "2          id_2   Edinburgh   \n",
       "3          id_3      London   \n",
       "4          id_4  Bratislava   \n",
       "5          id_5       Paris   \n",
       "6          id_6      Lisbon   \n",
       "7          id_7    Budapest   \n",
       "\n",
       "                                       Cuisine Style  Ranking Price Range  \\\n",
       "0                                     ['Bar', 'Pub']  12963.0    $$ - $$$   \n",
       "1  ['European', 'Scandinavian', 'Gluten Free Opti...    106.0    $$ - $$$   \n",
       "2                            ['Vegetarian Friendly']    810.0    $$ - $$$   \n",
       "3  ['Italian', 'Mediterranean', 'European', 'Vege...   1669.0        $$$$   \n",
       "4  ['Italian', 'Mediterranean', 'European', 'Seaf...     37.0        $$$$   \n",
       "5                    ['French', 'Cafe', 'Fast Food']   5093.0           $   \n",
       "6                         ['European', 'Portuguese']   3704.0           $   \n",
       "7                                                NaN   2330.0         NaN   \n",
       "\n",
       "   Number of Reviews                                            Reviews  \\\n",
       "0                4.0                                           [[], []]   \n",
       "1               97.0  [['Very good reviews!', 'Fine dining in Hakani...   \n",
       "2               28.0  [['Better than the Links', 'Ivy Black'], ['12/...   \n",
       "3              202.0  [['Most exquisite', 'Delicious and authentic']...   \n",
       "4              162.0  [['Always the best in bratislava', 'Very good ...   \n",
       "5               24.0  [['Lunch Break', 'Good to Quick Bite'], ['09/0...   \n",
       "6                2.0                                           [[], []]   \n",
       "7                NaN                                           [[], []]   \n",
       "\n",
       "                                              URL_TA      ID_TA  \n",
       "0  /Restaurant_Review-g187147-d10746918-Reviews-L...  d10746918  \n",
       "1  /Restaurant_Review-g189934-d6674944-Reviews-Ra...   d6674944  \n",
       "2  /Restaurant_Review-g186525-d13129638-Reviews-B...  d13129638  \n",
       "3  /Restaurant_Review-g186338-d680417-Reviews-Qui...    d680417  \n",
       "4  /Restaurant_Review-g274924-d1112354-Reviews-Ma...   d1112354  \n",
       "5  /Restaurant_Review-g187147-d8458643-Reviews-Le...   d8458643  \n",
       "6  /Restaurant_Review-g189158-d8758873-Reviews-Li...   d8758873  \n",
       "7  /Restaurant_Review-g274887-d8286886-Reviews-Be...   d8286886  "
      ]
     },
     "execution_count": 9,
     "metadata": {},
     "output_type": "execute_result"
    }
   ],
   "source": [
    "df_test.head(8)"
   ]
  },
  {
   "cell_type": "code",
   "execution_count": 10,
   "metadata": {
    "execution": {
     "iopub.execute_input": "2021-06-28T10:28:33.660272Z",
     "iopub.status.busy": "2021-06-28T10:28:33.659999Z",
     "iopub.status.idle": "2021-06-28T10:28:33.669380Z",
     "shell.execute_reply": "2021-06-28T10:28:33.668514Z",
     "shell.execute_reply.started": "2021-06-28T10:28:33.660230Z"
    }
   },
   "outputs": [
    {
     "data": {
      "text/html": [
       "<div>\n",
       "<style scoped>\n",
       "    .dataframe tbody tr th:only-of-type {\n",
       "        vertical-align: middle;\n",
       "    }\n",
       "\n",
       "    .dataframe tbody tr th {\n",
       "        vertical-align: top;\n",
       "    }\n",
       "\n",
       "    .dataframe thead th {\n",
       "        text-align: right;\n",
       "    }\n",
       "</style>\n",
       "<table border=\"1\" class=\"dataframe\">\n",
       "  <thead>\n",
       "    <tr style=\"text-align: right;\">\n",
       "      <th></th>\n",
       "      <th>Restaurant_id</th>\n",
       "      <th>Rating</th>\n",
       "    </tr>\n",
       "  </thead>\n",
       "  <tbody>\n",
       "    <tr>\n",
       "      <td>0</td>\n",
       "      <td>id_0</td>\n",
       "      <td>2.0</td>\n",
       "    </tr>\n",
       "    <tr>\n",
       "      <td>1</td>\n",
       "      <td>id_1</td>\n",
       "      <td>2.5</td>\n",
       "    </tr>\n",
       "    <tr>\n",
       "      <td>2</td>\n",
       "      <td>id_2</td>\n",
       "      <td>4.0</td>\n",
       "    </tr>\n",
       "    <tr>\n",
       "      <td>3</td>\n",
       "      <td>id_3</td>\n",
       "      <td>1.0</td>\n",
       "    </tr>\n",
       "    <tr>\n",
       "      <td>4</td>\n",
       "      <td>id_4</td>\n",
       "      <td>4.0</td>\n",
       "    </tr>\n",
       "  </tbody>\n",
       "</table>\n",
       "</div>"
      ],
      "text/plain": [
       "  Restaurant_id  Rating\n",
       "0          id_0     2.0\n",
       "1          id_1     2.5\n",
       "2          id_2     4.0\n",
       "3          id_3     1.0\n",
       "4          id_4     4.0"
      ]
     },
     "execution_count": 10,
     "metadata": {},
     "output_type": "execute_result"
    }
   ],
   "source": [
    "sample_submission.head(5)"
   ]
  },
  {
   "cell_type": "code",
   "execution_count": 11,
   "metadata": {
    "execution": {
     "iopub.execute_input": "2021-06-28T10:28:39.074259Z",
     "iopub.status.busy": "2021-06-28T10:28:39.073952Z",
     "iopub.status.idle": "2021-06-28T10:28:39.085939Z",
     "shell.execute_reply": "2021-06-28T10:28:39.085202Z",
     "shell.execute_reply.started": "2021-06-28T10:28:39.074207Z"
    }
   },
   "outputs": [
    {
     "data": {
      "text/plain": [
       "<bound method DataFrame.info of      Restaurant_id  Rating\n",
       "0             id_0     2.0\n",
       "1             id_1     2.5\n",
       "2             id_2     4.0\n",
       "3             id_3     1.0\n",
       "4             id_4     4.0\n",
       "...            ...     ...\n",
       "9995       id_9995     3.0\n",
       "9996       id_9996     1.5\n",
       "9997       id_9997     4.5\n",
       "9998       id_9998     1.0\n",
       "9999       id_9999     2.5\n",
       "\n",
       "[10000 rows x 2 columns]>"
      ]
     },
     "execution_count": 11,
     "metadata": {},
     "output_type": "execute_result"
    }
   ],
   "source": [
    "sample_submission.info"
   ]
  },
  {
   "cell_type": "code",
   "execution_count": 12,
   "metadata": {
    "execution": {
     "iopub.execute_input": "2021-06-28T10:29:41.678600Z",
     "iopub.status.busy": "2021-06-28T10:29:41.678092Z",
     "iopub.status.idle": "2021-06-28T10:29:41.720916Z",
     "shell.execute_reply": "2021-06-28T10:29:41.720343Z",
     "shell.execute_reply.started": "2021-06-28T10:29:41.678557Z"
    }
   },
   "outputs": [],
   "source": [
    "# ВАЖНО! дря корректной обработки признаков объединяем трейн и тест в один датасет\n",
    "df_train['sample'] = 1 # помечаем где у нас трейн\n",
    "df_test['sample'] = 0 # помечаем где у нас тест\n",
    "df_test['Rating'] = 0 # в тесте у нас нет значения Rating, мы его должны предсказать, по этому пока просто заполняем нулями\n",
    "\n",
    "data = df_test.append(df_train, sort=False).reset_index(drop=True) # объединяем"
   ]
  },
  {
   "cell_type": "code",
   "execution_count": 13,
   "metadata": {
    "execution": {
     "iopub.execute_input": "2021-06-28T10:29:44.765868Z",
     "iopub.status.busy": "2021-06-28T10:29:44.765364Z",
     "iopub.status.idle": "2021-06-28T10:29:44.804955Z",
     "shell.execute_reply": "2021-06-28T10:29:44.804169Z",
     "shell.execute_reply.started": "2021-06-28T10:29:44.765827Z"
    },
    "scrolled": true
   },
   "outputs": [
    {
     "data": {
      "text/plain": [
       "<bound method DataFrame.info of       Restaurant_id        City  \\\n",
       "0              id_0       Paris   \n",
       "1              id_1    Helsinki   \n",
       "2              id_2   Edinburgh   \n",
       "3              id_3      London   \n",
       "4              id_4  Bratislava   \n",
       "...             ...         ...   \n",
       "49995        id_499       Milan   \n",
       "49996       id_6340       Paris   \n",
       "49997       id_1649   Stockholm   \n",
       "49998        id_640      Warsaw   \n",
       "49999       id_4824       Milan   \n",
       "\n",
       "                                           Cuisine Style  Ranking Price Range  \\\n",
       "0                                         ['Bar', 'Pub']  12963.0    $$ - $$$   \n",
       "1      ['European', 'Scandinavian', 'Gluten Free Opti...    106.0    $$ - $$$   \n",
       "2                                ['Vegetarian Friendly']    810.0    $$ - $$$   \n",
       "3      ['Italian', 'Mediterranean', 'European', 'Vege...   1669.0        $$$$   \n",
       "4      ['Italian', 'Mediterranean', 'European', 'Seaf...     37.0        $$$$   \n",
       "...                                                  ...      ...         ...   \n",
       "49995  ['Italian', 'Vegetarian Friendly', 'Vegan Opti...    500.0    $$ - $$$   \n",
       "49996  ['French', 'American', 'Bar', 'European', 'Veg...   6341.0    $$ - $$$   \n",
       "49997                              ['Japanese', 'Sushi']   1652.0         NaN   \n",
       "49998  ['Polish', 'European', 'Eastern European', 'Ce...    641.0    $$ - $$$   \n",
       "49999                                        ['Spanish']   4827.0    $$ - $$$   \n",
       "\n",
       "       Number of Reviews                                            Reviews  \\\n",
       "0                    4.0                                           [[], []]   \n",
       "1                   97.0  [['Very good reviews!', 'Fine dining in Hakani...   \n",
       "2                   28.0  [['Better than the Links', 'Ivy Black'], ['12/...   \n",
       "3                  202.0  [['Most exquisite', 'Delicious and authentic']...   \n",
       "4                  162.0  [['Always the best in bratislava', 'Very good ...   \n",
       "...                  ...                                                ...   \n",
       "49995               79.0  [['The real Italian experience!', 'Wonderful f...   \n",
       "49996              542.0  [['Parisian atmosphere', 'Bit pricey but inter...   \n",
       "49997                4.0  [['Good by swedish standards', 'A hidden jewel...   \n",
       "49998               70.0  [['Underground restaurant', 'Oldest Restaurant...   \n",
       "49999              260.0  [['Average', 'Nice an informal'], ['01/31/2016...   \n",
       "\n",
       "                                                  URL_TA      ID_TA  sample  \\\n",
       "0      /Restaurant_Review-g187147-d10746918-Reviews-L...  d10746918       0   \n",
       "1      /Restaurant_Review-g189934-d6674944-Reviews-Ra...   d6674944       0   \n",
       "2      /Restaurant_Review-g186525-d13129638-Reviews-B...  d13129638       0   \n",
       "3      /Restaurant_Review-g186338-d680417-Reviews-Qui...    d680417       0   \n",
       "4      /Restaurant_Review-g274924-d1112354-Reviews-Ma...   d1112354       0   \n",
       "...                                                  ...        ...     ...   \n",
       "49995  /Restaurant_Review-g187849-d2104414-Reviews-Ro...   d2104414       1   \n",
       "49996  /Restaurant_Review-g187147-d1800036-Reviews-La...   d1800036       1   \n",
       "49997  /Restaurant_Review-g189852-d947615-Reviews-Sus...    d947615       1   \n",
       "49998  /Restaurant_Review-g274856-d1100838-Reviews-Ho...   d1100838       1   \n",
       "49999  /Restaurant_Review-g187849-d1109020-Reviews-Ta...   d1109020       1   \n",
       "\n",
       "       Rating  \n",
       "0         0.0  \n",
       "1         0.0  \n",
       "2         0.0  \n",
       "3         0.0  \n",
       "4         0.0  \n",
       "...       ...  \n",
       "49995     4.5  \n",
       "49996     3.5  \n",
       "49997     4.5  \n",
       "49998     4.0  \n",
       "49999     3.0  \n",
       "\n",
       "[50000 rows x 11 columns]>"
      ]
     },
     "execution_count": 13,
     "metadata": {},
     "output_type": "execute_result"
    }
   ],
   "source": [
    "data.info"
   ]
  },
  {
   "cell_type": "markdown",
   "metadata": {},
   "source": [
    "### Подробнее по признакам:\n",
    "* City: Город \n",
    "* Cuisine Style: Кухня\n",
    "* Ranking: Ранг ресторана относительно других ресторанов в этом городе\n",
    "* Price Range: Цены в ресторане в 3 категориях\n",
    "* Number of Reviews: Количество отзывов\n",
    "* Reviews: 2 последних отзыва и даты этих отзывов\n",
    "* URL_TA: страница ресторана на 'www.tripadvisor.com' \n",
    "* ID_TA: ID ресторана в TripAdvisor\n",
    "* Rating: Рейтинг ресторана"
   ]
  },
  {
   "cell_type": "code",
   "execution_count": 14,
   "metadata": {
    "execution": {
     "iopub.execute_input": "2021-06-28T10:29:52.968583Z",
     "iopub.status.busy": "2021-06-28T10:29:52.968266Z",
     "iopub.status.idle": "2021-06-28T10:29:52.988362Z",
     "shell.execute_reply": "2021-06-28T10:29:52.987728Z",
     "shell.execute_reply.started": "2021-06-28T10:29:52.968528Z"
    }
   },
   "outputs": [
    {
     "data": {
      "text/html": [
       "<div>\n",
       "<style scoped>\n",
       "    .dataframe tbody tr th:only-of-type {\n",
       "        vertical-align: middle;\n",
       "    }\n",
       "\n",
       "    .dataframe tbody tr th {\n",
       "        vertical-align: top;\n",
       "    }\n",
       "\n",
       "    .dataframe thead th {\n",
       "        text-align: right;\n",
       "    }\n",
       "</style>\n",
       "<table border=\"1\" class=\"dataframe\">\n",
       "  <thead>\n",
       "    <tr style=\"text-align: right;\">\n",
       "      <th></th>\n",
       "      <th>Restaurant_id</th>\n",
       "      <th>City</th>\n",
       "      <th>Cuisine Style</th>\n",
       "      <th>Ranking</th>\n",
       "      <th>Price Range</th>\n",
       "      <th>Number of Reviews</th>\n",
       "      <th>Reviews</th>\n",
       "      <th>URL_TA</th>\n",
       "      <th>ID_TA</th>\n",
       "      <th>sample</th>\n",
       "      <th>Rating</th>\n",
       "    </tr>\n",
       "  </thead>\n",
       "  <tbody>\n",
       "    <tr>\n",
       "      <td>22900</td>\n",
       "      <td>id_2848</td>\n",
       "      <td>London</td>\n",
       "      <td>['European', 'Eastern European', 'Central Euro...</td>\n",
       "      <td>2853.0</td>\n",
       "      <td>$$ - $$$</td>\n",
       "      <td>78.0</td>\n",
       "      <td>[['Great Hungarian restaurant', 'Very good foo...</td>\n",
       "      <td>/Restaurant_Review-g186338-d8005547-Reviews-Th...</td>\n",
       "      <td>d8005547</td>\n",
       "      <td>1</td>\n",
       "      <td>4.0</td>\n",
       "    </tr>\n",
       "    <tr>\n",
       "      <td>27473</td>\n",
       "      <td>id_5033</td>\n",
       "      <td>London</td>\n",
       "      <td>NaN</td>\n",
       "      <td>5042.0</td>\n",
       "      <td>NaN</td>\n",
       "      <td>42.0</td>\n",
       "      <td>[['A Decent Patty !', 'Hit the spot!'], ['12/2...</td>\n",
       "      <td>/Restaurant_Review-g186338-d10850410-Reviews-P...</td>\n",
       "      <td>d10850410</td>\n",
       "      <td>1</td>\n",
       "      <td>4.0</td>\n",
       "    </tr>\n",
       "    <tr>\n",
       "      <td>6634</td>\n",
       "      <td>id_6634</td>\n",
       "      <td>Prague</td>\n",
       "      <td>['Sushi', 'Fusion', 'Czech', 'Vegetarian Frien...</td>\n",
       "      <td>184.0</td>\n",
       "      <td>$$ - $$$</td>\n",
       "      <td>1398.0</td>\n",
       "      <td>[['Good food and good service', 'pretty good']...</td>\n",
       "      <td>/Restaurant_Review-g274707-d1568048-Reviews-Co...</td>\n",
       "      <td>d1568048</td>\n",
       "      <td>0</td>\n",
       "      <td>0.0</td>\n",
       "    </tr>\n",
       "    <tr>\n",
       "      <td>28174</td>\n",
       "      <td>id_938</td>\n",
       "      <td>Madrid</td>\n",
       "      <td>NaN</td>\n",
       "      <td>939.0</td>\n",
       "      <td>NaN</td>\n",
       "      <td>41.0</td>\n",
       "      <td>[[], []]</td>\n",
       "      <td>/Restaurant_Review-g187514-d991697-Reviews-Ast...</td>\n",
       "      <td>d991697</td>\n",
       "      <td>1</td>\n",
       "      <td>5.0</td>\n",
       "    </tr>\n",
       "    <tr>\n",
       "      <td>16706</td>\n",
       "      <td>id_2749</td>\n",
       "      <td>Brussels</td>\n",
       "      <td>['Belgian', 'European', 'Street Food']</td>\n",
       "      <td>2750.0</td>\n",
       "      <td>$</td>\n",
       "      <td>10.0</td>\n",
       "      <td>[['Nice lunchspot!'], ['07/17/2015']]</td>\n",
       "      <td>/Restaurant_Review-g188644-d8180128-Reviews-Se...</td>\n",
       "      <td>d8180128</td>\n",
       "      <td>1</td>\n",
       "      <td>3.5</td>\n",
       "    </tr>\n",
       "  </tbody>\n",
       "</table>\n",
       "</div>"
      ],
      "text/plain": [
       "      Restaurant_id      City  \\\n",
       "22900       id_2848    London   \n",
       "27473       id_5033    London   \n",
       "6634        id_6634    Prague   \n",
       "28174        id_938    Madrid   \n",
       "16706       id_2749  Brussels   \n",
       "\n",
       "                                           Cuisine Style  Ranking Price Range  \\\n",
       "22900  ['European', 'Eastern European', 'Central Euro...   2853.0    $$ - $$$   \n",
       "27473                                                NaN   5042.0         NaN   \n",
       "6634   ['Sushi', 'Fusion', 'Czech', 'Vegetarian Frien...    184.0    $$ - $$$   \n",
       "28174                                                NaN    939.0         NaN   \n",
       "16706             ['Belgian', 'European', 'Street Food']   2750.0           $   \n",
       "\n",
       "       Number of Reviews                                            Reviews  \\\n",
       "22900               78.0  [['Great Hungarian restaurant', 'Very good foo...   \n",
       "27473               42.0  [['A Decent Patty !', 'Hit the spot!'], ['12/2...   \n",
       "6634              1398.0  [['Good food and good service', 'pretty good']...   \n",
       "28174               41.0                                           [[], []]   \n",
       "16706               10.0              [['Nice lunchspot!'], ['07/17/2015']]   \n",
       "\n",
       "                                                  URL_TA      ID_TA  sample  \\\n",
       "22900  /Restaurant_Review-g186338-d8005547-Reviews-Th...   d8005547       1   \n",
       "27473  /Restaurant_Review-g186338-d10850410-Reviews-P...  d10850410       1   \n",
       "6634   /Restaurant_Review-g274707-d1568048-Reviews-Co...   d1568048       0   \n",
       "28174  /Restaurant_Review-g187514-d991697-Reviews-Ast...    d991697       1   \n",
       "16706  /Restaurant_Review-g188644-d8180128-Reviews-Se...   d8180128       1   \n",
       "\n",
       "       Rating  \n",
       "22900     4.0  \n",
       "27473     4.0  \n",
       "6634      0.0  \n",
       "28174     5.0  \n",
       "16706     3.5  "
      ]
     },
     "execution_count": 14,
     "metadata": {},
     "output_type": "execute_result"
    }
   ],
   "source": [
    "data.sample(5)"
   ]
  },
  {
   "cell_type": "markdown",
   "metadata": {},
   "source": [
    "Columns to PEP-8 format:"
   ]
  },
  {
   "cell_type": "code",
   "execution_count": 15,
   "metadata": {},
   "outputs": [
    {
     "data": {
      "text/plain": [
       "Index(['Restaurant_id', 'City', 'Cuisine Style', 'Ranking', 'Price Range',\n",
       "       'Number of Reviews', 'Reviews', 'URL_TA', 'ID_TA', 'sample', 'Rating'],\n",
       "      dtype='object')"
      ]
     },
     "execution_count": 15,
     "metadata": {},
     "output_type": "execute_result"
    }
   ],
   "source": [
    "data.columns"
   ]
  },
  {
   "cell_type": "code",
   "execution_count": 16,
   "metadata": {},
   "outputs": [],
   "source": [
    "data_col = list(data.columns)\n",
    "new_df_col = []"
   ]
  },
  {
   "cell_type": "code",
   "execution_count": 17,
   "metadata": {},
   "outputs": [
    {
     "data": {
      "text/plain": [
       "['restaurant_id',\n",
       " 'city',\n",
       " 'cuisine_style',\n",
       " 'ranking',\n",
       " 'price_range',\n",
       " 'number_of_reviews',\n",
       " 'reviews',\n",
       " 'url_ta',\n",
       " 'id_ta',\n",
       " 'sample',\n",
       " 'rating']"
      ]
     },
     "execution_count": 17,
     "metadata": {},
     "output_type": "execute_result"
    }
   ],
   "source": [
    "for columns in data_col:\n",
    "    new_df_col.append(columns.replace(' ', '_').lower())\n",
    "\n",
    "new_df_col"
   ]
  },
  {
   "cell_type": "code",
   "execution_count": 18,
   "metadata": {},
   "outputs": [],
   "source": [
    "data.columns = new_df_col"
   ]
  },
  {
   "cell_type": "code",
   "execution_count": 19,
   "metadata": {},
   "outputs": [
    {
     "data": {
      "text/plain": [
       "Index(['restaurant_id', 'city', 'cuisine_style', 'ranking', 'price_range',\n",
       "       'number_of_reviews', 'reviews', 'url_ta', 'id_ta', 'sample', 'rating'],\n",
       "      dtype='object')"
      ]
     },
     "execution_count": 19,
     "metadata": {},
     "output_type": "execute_result"
    }
   ],
   "source": [
    "data.columns"
   ]
  },
  {
   "cell_type": "code",
   "execution_count": 20,
   "metadata": {},
   "outputs": [
    {
     "data": {
      "text/plain": [
       "<matplotlib.axes._subplots.AxesSubplot at 0x1bfc694cec8>"
      ]
     },
     "execution_count": 20,
     "metadata": {},
     "output_type": "execute_result"
    },
    {
     "data": {
      "image/png": "[encoded data removed]",
      "text/plain": [
       "<Figure size 1800x720 with 1 Axes>"
      ]
     },
     "metadata": {
      "needs_background": "light"
     },
     "output_type": "display_data"
    }
   ],
   "source": [
    "msno.matrix(data, sparkline=False)"
   ]
  },
  {
   "cell_type": "markdown",
   "metadata": {},
   "source": [
    "#### Как видим, большинство признаков у нас требует очистки и предварительной обработки."
   ]
  },
  {
   "cell_type": "code",
   "execution_count": 21,
   "metadata": {},
   "outputs": [
    {
     "data": {
      "text/html": [
       "<div>\n",
       "<style scoped>\n",
       "    .dataframe tbody tr th:only-of-type {\n",
       "        vertical-align: middle;\n",
       "    }\n",
       "\n",
       "    .dataframe tbody tr th {\n",
       "        vertical-align: top;\n",
       "    }\n",
       "\n",
       "    .dataframe thead th {\n",
       "        text-align: right;\n",
       "    }\n",
       "</style>\n",
       "<table border=\"1\" class=\"dataframe\">\n",
       "  <thead>\n",
       "    <tr style=\"text-align: right;\">\n",
       "      <th></th>\n",
       "      <th>missing_values</th>\n",
       "      <th>percent</th>\n",
       "    </tr>\n",
       "  </thead>\n",
       "  <tbody>\n",
       "    <tr>\n",
       "      <td>price_range</td>\n",
       "      <td>17361</td>\n",
       "      <td>34.72</td>\n",
       "    </tr>\n",
       "    <tr>\n",
       "      <td>cuisine_style</td>\n",
       "      <td>11590</td>\n",
       "      <td>23.18</td>\n",
       "    </tr>\n",
       "    <tr>\n",
       "      <td>number_of_reviews</td>\n",
       "      <td>3200</td>\n",
       "      <td>6.40</td>\n",
       "    </tr>\n",
       "    <tr>\n",
       "      <td>reviews</td>\n",
       "      <td>2</td>\n",
       "      <td>0.00</td>\n",
       "    </tr>\n",
       "    <tr>\n",
       "      <td>rating</td>\n",
       "      <td>0</td>\n",
       "      <td>0.00</td>\n",
       "    </tr>\n",
       "    <tr>\n",
       "      <td>sample</td>\n",
       "      <td>0</td>\n",
       "      <td>0.00</td>\n",
       "    </tr>\n",
       "    <tr>\n",
       "      <td>id_ta</td>\n",
       "      <td>0</td>\n",
       "      <td>0.00</td>\n",
       "    </tr>\n",
       "    <tr>\n",
       "      <td>url_ta</td>\n",
       "      <td>0</td>\n",
       "      <td>0.00</td>\n",
       "    </tr>\n",
       "    <tr>\n",
       "      <td>ranking</td>\n",
       "      <td>0</td>\n",
       "      <td>0.00</td>\n",
       "    </tr>\n",
       "    <tr>\n",
       "      <td>city</td>\n",
       "      <td>0</td>\n",
       "      <td>0.00</td>\n",
       "    </tr>\n",
       "    <tr>\n",
       "      <td>restaurant_id</td>\n",
       "      <td>0</td>\n",
       "      <td>0.00</td>\n",
       "    </tr>\n",
       "  </tbody>\n",
       "</table>\n",
       "</div>"
      ],
      "text/plain": [
       "                   missing_values  percent\n",
       "price_range                 17361    34.72\n",
       "cuisine_style               11590    23.18\n",
       "number_of_reviews            3200     6.40\n",
       "reviews                         2     0.00\n",
       "rating                          0     0.00\n",
       "sample                          0     0.00\n",
       "id_ta                           0     0.00\n",
       "url_ta                          0     0.00\n",
       "ranking                         0     0.00\n",
       "city                            0     0.00\n",
       "restaurant_id                   0     0.00"
      ]
     },
     "execution_count": 21,
     "metadata": {},
     "output_type": "execute_result"
    },
    {
     "data": {
      "image/png": "[encoded data removed]",
      "text/plain": [
       "<Figure size 1080x432 with 1 Axes>"
      ]
     },
     "metadata": {
      "needs_background": "light"
     },
     "output_type": "display_data"
    }
   ],
   "source": [
    "def na_checks(dataset):\n",
    "    \"\"\"Функция для визуализации пропусков в датасете\"\"\"\n",
    "    total = dataset.isnull().sum().sort_values(ascending=False)\n",
    "    percent = round((dataset.isnull().sum()/dataset.isnull().count()\n",
    "                     ).sort_values(ascending=False)*100, 2)\n",
    "    missing_data = pd.concat([total, percent], axis=1, keys=[\n",
    "                             'missing_values', 'percent'])\n",
    "    f, ax = plt.subplots(figsize=(15, 6))\n",
    "    plt.xticks(rotation='90')\n",
    "    sns.barplot(x=missing_data.index, y=missing_data['percent'])\n",
    "    plt.xlabel('Features', fontsize=15)\n",
    "    plt.ylabel('Percent missing', fontsize=15)\n",
    "    plt.title('Percent missing by feature', fontsize=15)\n",
    "    return missing_data\n",
    "\n",
    "na_checks(data)"
   ]
  },
  {
   "cell_type": "markdown",
   "metadata": {},
   "source": [
    "## Проверка на уникальность\n",
    "Проверим полностью дублирующиеся строки\n",
    "\n"
   ]
  },
  {
   "cell_type": "code",
   "execution_count": 22,
   "metadata": {},
   "outputs": [
    {
     "data": {
      "text/plain": [
       "False    50000\n",
       "dtype: int64"
      ]
     },
     "execution_count": 22,
     "metadata": {},
     "output_type": "execute_result"
    }
   ],
   "source": [
    "data.duplicated(subset=None, keep='first').value_counts()"
   ]
  },
  {
   "cell_type": "markdown",
   "metadata": {},
   "source": [
    "Полностью дублирующихся строк нет."
   ]
  },
  {
   "cell_type": "markdown",
   "metadata": {},
   "source": [
    "Проверим отдельные поля датасета на наличие повторений и дубликатов"
   ]
  },
  {
   "cell_type": "markdown",
   "metadata": {},
   "source": [
    "### 'restaurant_id'\n"
   ]
  },
  {
   "cell_type": "code",
   "execution_count": 23,
   "metadata": {},
   "outputs": [
    {
     "data": {
      "text/plain": [
       "9287"
      ]
     },
     "execution_count": 23,
     "metadata": {},
     "output_type": "execute_result"
    }
   ],
   "source": [
    "len(data['restaurant_id'].value_counts().loc[lambda x : x > 1].index)\n"
   ]
  },
  {
   "cell_type": "markdown",
   "metadata": {},
   "source": [
    "Как видно есть повторяющиеся значения. Выясним, что они означают."
   ]
  },
  {
   "cell_type": "code",
   "execution_count": 24,
   "metadata": {},
   "outputs": [
    {
     "data": {
      "text/plain": [
       "Index(['id_227', 'id_871', 'id_436', 'id_633', 'id_344', 'id_534', 'id_321',\n",
       "       'id_430', 'id_71', 'id_585', 'id_792', 'id_200', 'id_367', 'id_256',\n",
       "       'id_589', 'id_1076', 'id_364', 'id_335', 'id_167', 'id_206'],\n",
       "      dtype='object')"
      ]
     },
     "execution_count": 24,
     "metadata": {},
     "output_type": "execute_result"
    }
   ],
   "source": [
    "data['restaurant_id'].value_counts().loc[lambda x : x > 1].index[:20]"
   ]
  },
  {
   "cell_type": "code",
   "execution_count": 25,
   "metadata": {},
   "outputs": [
    {
     "data": {
      "text/html": [
       "<div>\n",
       "<style scoped>\n",
       "    .dataframe tbody tr th:only-of-type {\n",
       "        vertical-align: middle;\n",
       "    }\n",
       "\n",
       "    .dataframe tbody tr th {\n",
       "        vertical-align: top;\n",
       "    }\n",
       "\n",
       "    .dataframe thead th {\n",
       "        text-align: right;\n",
       "    }\n",
       "</style>\n",
       "<table border=\"1\" class=\"dataframe\">\n",
       "  <thead>\n",
       "    <tr style=\"text-align: right;\">\n",
       "      <th></th>\n",
       "      <th>restaurant_id</th>\n",
       "      <th>city</th>\n",
       "      <th>cuisine_style</th>\n",
       "      <th>ranking</th>\n",
       "      <th>price_range</th>\n",
       "      <th>number_of_reviews</th>\n",
       "      <th>reviews</th>\n",
       "      <th>url_ta</th>\n",
       "      <th>id_ta</th>\n",
       "      <th>sample</th>\n",
       "      <th>rating</th>\n",
       "    </tr>\n",
       "  </thead>\n",
       "  <tbody>\n",
       "    <tr>\n",
       "      <td>14275</td>\n",
       "      <td>id_871</td>\n",
       "      <td>Prague</td>\n",
       "      <td>['Czech', 'European', 'Eastern European']</td>\n",
       "      <td>872.0</td>\n",
       "      <td>$</td>\n",
       "      <td>66.0</td>\n",
       "      <td>[['Good food, reasonable prices, Czech beer t....</td>\n",
       "      <td>/Restaurant_Review-g274707-d4767690-Reviews-Re...</td>\n",
       "      <td>d4767690</td>\n",
       "      <td>1</td>\n",
       "      <td>4.5</td>\n",
       "    </tr>\n",
       "    <tr>\n",
       "      <td>47161</td>\n",
       "      <td>id_871</td>\n",
       "      <td>Paris</td>\n",
       "      <td>['Lebanese', 'Mediterranean', 'Middle Eastern'...</td>\n",
       "      <td>872.0</td>\n",
       "      <td>$$ - $$$</td>\n",
       "      <td>476.0</td>\n",
       "      <td>[['Great food and lovely atmosphere', 'Beautif...</td>\n",
       "      <td>/Restaurant_Review-g187147-d719561-Reviews-Res...</td>\n",
       "      <td>d719561</td>\n",
       "      <td>1</td>\n",
       "      <td>4.0</td>\n",
       "    </tr>\n",
       "    <tr>\n",
       "      <td>46816</td>\n",
       "      <td>id_871</td>\n",
       "      <td>Brussels</td>\n",
       "      <td>['Italian', 'Pizza', 'European', 'Mediterranea...</td>\n",
       "      <td>872.0</td>\n",
       "      <td>$$ - $$$</td>\n",
       "      <td>39.0</td>\n",
       "      <td>[['I lovely this family restaurant', 'Good piz...</td>\n",
       "      <td>/Restaurant_Review-g188644-d4608409-Reviews-La...</td>\n",
       "      <td>d4608409</td>\n",
       "      <td>1</td>\n",
       "      <td>4.0</td>\n",
       "    </tr>\n",
       "    <tr>\n",
       "      <td>13239</td>\n",
       "      <td>id_871</td>\n",
       "      <td>Zurich</td>\n",
       "      <td>['Bar', 'Pub']</td>\n",
       "      <td>875.0</td>\n",
       "      <td>NaN</td>\n",
       "      <td>3.0</td>\n",
       "      <td>[['Schlager central'], ['04/11/2015']]</td>\n",
       "      <td>/Restaurant_Review-g188113-d7904953-Reviews-Pe...</td>\n",
       "      <td>d7904953</td>\n",
       "      <td>1</td>\n",
       "      <td>4.5</td>\n",
       "    </tr>\n",
       "    <tr>\n",
       "      <td>41369</td>\n",
       "      <td>id_871</td>\n",
       "      <td>Warsaw</td>\n",
       "      <td>['Vietnamese']</td>\n",
       "      <td>872.0</td>\n",
       "      <td>$$ - $$$</td>\n",
       "      <td>20.0</td>\n",
       "      <td>[['Feels like they are further improving', 'De...</td>\n",
       "      <td>/Restaurant_Review-g274856-d9979918-Reviews-Re...</td>\n",
       "      <td>d9979918</td>\n",
       "      <td>1</td>\n",
       "      <td>4.0</td>\n",
       "    </tr>\n",
       "  </tbody>\n",
       "</table>\n",
       "</div>"
      ],
      "text/plain": [
       "      restaurant_id      city  \\\n",
       "14275        id_871    Prague   \n",
       "47161        id_871     Paris   \n",
       "46816        id_871  Brussels   \n",
       "13239        id_871    Zurich   \n",
       "41369        id_871    Warsaw   \n",
       "\n",
       "                                           cuisine_style  ranking price_range  \\\n",
       "14275          ['Czech', 'European', 'Eastern European']    872.0           $   \n",
       "47161  ['Lebanese', 'Mediterranean', 'Middle Eastern'...    872.0    $$ - $$$   \n",
       "46816  ['Italian', 'Pizza', 'European', 'Mediterranea...    872.0    $$ - $$$   \n",
       "13239                                     ['Bar', 'Pub']    875.0         NaN   \n",
       "41369                                     ['Vietnamese']    872.0    $$ - $$$   \n",
       "\n",
       "       number_of_reviews                                            reviews  \\\n",
       "14275               66.0  [['Good food, reasonable prices, Czech beer t....   \n",
       "47161              476.0  [['Great food and lovely atmosphere', 'Beautif...   \n",
       "46816               39.0  [['I lovely this family restaurant', 'Good piz...   \n",
       "13239                3.0             [['Schlager central'], ['04/11/2015']]   \n",
       "41369               20.0  [['Feels like they are further improving', 'De...   \n",
       "\n",
       "                                                  url_ta     id_ta  sample  \\\n",
       "14275  /Restaurant_Review-g274707-d4767690-Reviews-Re...  d4767690       1   \n",
       "47161  /Restaurant_Review-g187147-d719561-Reviews-Res...   d719561       1   \n",
       "46816  /Restaurant_Review-g188644-d4608409-Reviews-La...  d4608409       1   \n",
       "13239  /Restaurant_Review-g188113-d7904953-Reviews-Pe...  d7904953       1   \n",
       "41369  /Restaurant_Review-g274856-d9979918-Reviews-Re...  d9979918       1   \n",
       "\n",
       "       rating  \n",
       "14275     4.5  \n",
       "47161     4.0  \n",
       "46816     4.0  \n",
       "13239     4.5  \n",
       "41369     4.0  "
      ]
     },
     "execution_count": 25,
     "metadata": {},
     "output_type": "execute_result"
    }
   ],
   "source": [
    "data[data['restaurant_id'] == 'id_871'].sample(5)"
   ]
  },
  {
   "cell_type": "markdown",
   "metadata": {
    "execution": {
     "iopub.execute_input": "2021-06-01T14:25:26.862007Z",
     "iopub.status.busy": "2021-06-01T14:25:26.861517Z",
     "iopub.status.idle": "2021-06-01T14:25:26.870484Z",
     "shell.execute_reply": "2021-06-01T14:25:26.869277Z",
     "shell.execute_reply.started": "2021-06-01T14:25:26.861947Z"
    }
   },
   "source": [
    "Строки с одинаковым 'Restaurant_id' имеют различные, не повторяющиеся поля как городов, типов кухонь, так и идентификаторов ID_TA. Можно предположить, что это не ошибка данных,  скорее всего поле означает  не конкретный ресторан, а сеть  ресторанов или одного владельца.\n"
   ]
  },
  {
   "cell_type": "markdown",
   "metadata": {},
   "source": [
    "### 'city'"
   ]
  },
  {
   "cell_type": "code",
   "execution_count": 26,
   "metadata": {},
   "outputs": [
    {
     "data": {
      "text/plain": [
       "Amsterdam     1372\n",
       "Athens         776\n",
       "Barcelona     3395\n",
       "Berlin        2705\n",
       "Bratislava     380\n",
       "Brussels      1314\n",
       "Budapest      1021\n",
       "Copenhagen     819\n",
       "Dublin         836\n",
       "Edinburgh      745\n",
       "Geneva         590\n",
       "Hamburg       1186\n",
       "Helsinki       475\n",
       "Krakow         554\n",
       "Lisbon        1647\n",
       "Ljubljana      222\n",
       "London        7193\n",
       "Luxembourg     263\n",
       "Lyon          1126\n",
       "Madrid        3813\n",
       "Milan         2694\n",
       "Munich        1145\n",
       "Oporto         642\n",
       "Oslo           488\n",
       "Paris         6108\n",
       "Prague        1816\n",
       "Rome          2589\n",
       "Stockholm     1033\n",
       "Vienna        1443\n",
       "Warsaw         925\n",
       "Zurich         685\n",
       "Name: city, dtype: int64"
      ]
     },
     "execution_count": 26,
     "metadata": {},
     "output_type": "execute_result"
    }
   ],
   "source": [
    "data['city'].value_counts().sort_index(ascending=True)"
   ]
  },
  {
   "cell_type": "code",
   "execution_count": 27,
   "metadata": {},
   "outputs": [],
   "source": [
    "cities_list = list(data['city'].value_counts().index)"
   ]
  },
  {
   "cell_type": "markdown",
   "metadata": {},
   "source": [
    "C названиями городов все в порядке"
   ]
  },
  {
   "cell_type": "markdown",
   "metadata": {},
   "source": [
    "## 'cuisine_style'"
   ]
  },
  {
   "cell_type": "markdown",
   "metadata": {},
   "source": [
    "У данного признака присутствую пропуске в наборе данных."
   ]
  },
  {
   "cell_type": "markdown",
   "metadata": {},
   "source": [
    "Посмотрим более детально какие кухни преобладают в общей выборке и отдельно по городам."
   ]
  },
  {
   "cell_type": "code",
   "execution_count": 28,
   "metadata": {},
   "outputs": [
    {
     "data": {
      "text/plain": [
       "NaN                             11590\n",
       "['Italian']                      1332\n",
       "['French']                       1019\n",
       "['Spanish']                       860\n",
       "['French', 'European']            503\n",
       "['Cafe']                          500\n",
       "['Pizza']                         454\n",
       "['Italian', 'Pizza']              422\n",
       "['Chinese']                       418\n",
       "['European', 'Portuguese']        415\n",
       "['Mediterranean']                 311\n",
       "['Bar', 'Pub']                    307\n",
       "['Mediterranean', 'Spanish']      293\n",
       "['Vegetarian Friendly']           276\n",
       "['Indian']                        270\n",
       "['Fast Food']                     263\n",
       "['International']                 247\n",
       "['Japanese']                      247\n",
       "['European']                      245\n",
       "['Italian', 'Mediterranean']      245\n",
       "Name: cuisine_style, dtype: int64"
      ]
     },
     "execution_count": 28,
     "metadata": {},
     "output_type": "execute_result"
    }
   ],
   "source": [
    "data['cuisine_style'].value_counts(dropna=False).head(20)"
   ]
  },
  {
   "cell_type": "code",
   "execution_count": 29,
   "metadata": {},
   "outputs": [
    {
     "data": {
      "text/plain": [
       "cuisine_style\n",
       "['Bar', 'British', 'Pub']                           209\n",
       "['British']                                         148\n",
       "['Cafe']                                            122\n",
       "['Indian']                                           99\n",
       "['Italian']                                          93\n",
       "['Bar', 'British', 'Pub', 'Vegetarian Friendly']     87\n",
       "['Chinese']                                          75\n",
       "['Chinese', 'Asian']                                 68\n",
       "['Bar', 'Pub']                                       59\n",
       "['Fast Food']                                        55\n",
       "Name: cuisine_style, dtype: int64"
      ]
     },
     "execution_count": 29,
     "metadata": {},
     "output_type": "execute_result"
    }
   ],
   "source": [
    "data[['city', 'cuisine_style']].groupby('city')['cuisine_style'].value_counts()['London'].head(10)"
   ]
  },
  {
   "cell_type": "code",
   "execution_count": 30,
   "metadata": {},
   "outputs": [
    {
     "data": {
      "text/plain": [
       "\"['Bar', 'British', 'Pub']\""
      ]
     },
     "execution_count": 30,
     "metadata": {},
     "output_type": "execute_result"
    }
   ],
   "source": [
    "data[['city', 'cuisine_style']].groupby('city')['cuisine_style'].value_counts()['London'].head(1).index[0]"
   ]
  },
  {
   "cell_type": "markdown",
   "metadata": {},
   "source": [
    "Посчитаем количество встречающихся стилей кухонь в предлагаемых наборах стилей."
   ]
  },
  {
   "cell_type": "code",
   "execution_count": 31,
   "metadata": {},
   "outputs": [
    {
     "data": {
      "text/plain": [
       "{'Salvadoran': 1,\n",
       " 'Xinjiang': 1,\n",
       " 'Burmese': 1,\n",
       " 'Latvian': 1,\n",
       " 'Yunnan': 2,\n",
       " 'Polynesian': 2,\n",
       " 'Fujian': 2,\n",
       " 'Welsh': 3,\n",
       " 'Azerbaijani': 3,\n",
       " 'Caucasian': 4,\n",
       " 'Native American': 5,\n",
       " 'Uzbek': 5,\n",
       " 'Canadian': 7,\n",
       " 'New Zealand': 7,\n",
       " 'Ecuadorean': 8,\n",
       " 'Albanian': 8,\n",
       " 'Minority Chinese': 12,\n",
       " 'Central Asian': 12,\n",
       " 'Romanian': 13,\n",
       " 'Chilean': 16,\n",
       " 'Armenian': 17,\n",
       " 'Filipino': 17,\n",
       " 'Georgian': 18,\n",
       " 'Mongolian': 20,\n",
       " 'Ukrainian': 20,\n",
       " 'Singaporean': 21,\n",
       " 'Cambodian': 22,\n",
       " 'Tunisian': 23,\n",
       " 'Hawaiian': 23,\n",
       " 'Southwestern': 24,\n",
       " 'Egyptian': 24,\n",
       " 'Afghani': 27,\n",
       " 'Cajun & Creole': 27,\n",
       " 'Tibetan': 29,\n",
       " 'Colombian': 30,\n",
       " 'Sri Lankan': 30,\n",
       " 'Taiwanese': 30,\n",
       " 'Cuban': 32,\n",
       " 'Croatian': 33,\n",
       " 'Australian': 36,\n",
       " 'Jamaican': 36,\n",
       " 'Malaysian': 38,\n",
       " 'Ethiopian': 51,\n",
       " 'Venezuelan': 51,\n",
       " 'Kosher': 56,\n",
       " 'Arabic': 58,\n",
       " 'Russian': 66,\n",
       " 'Indonesian': 71,\n",
       " 'Persian': 77,\n",
       " 'Slovenian': 85,\n",
       " 'Israeli': 90,\n",
       " 'Norwegian': 96,\n",
       " 'Bangladeshi': 100,\n",
       " 'Balti': 104,\n",
       " 'Nepali': 121,\n",
       " 'Caribbean': 124,\n",
       " 'Peruvian': 130,\n",
       " 'Pakistani': 140,\n",
       " 'Brazilian': 152,\n",
       " 'Central American': 168,\n",
       " 'Moroccan': 173,\n",
       " 'African': 193,\n",
       " 'Scottish': 199,\n",
       " 'Korean': 206,\n",
       " 'Argentinean': 214,\n",
       " 'Swiss': 223,\n",
       " 'Swedish': 223,\n",
       " 'Danish': 225,\n",
       " 'Brew Pub': 299,\n",
       " 'Belgian': 335,\n",
       " 'Street Food': 336,\n",
       " 'Irish': 352,\n",
       " 'Dutch': 368,\n",
       " 'Latin': 373,\n",
       " 'Diner': 375,\n",
       " 'Lebanese': 397,\n",
       " 'Hungarian': 444,\n",
       " 'Scandinavian': 449,\n",
       " 'Polish': 453,\n",
       " 'Austrian': 462,\n",
       " 'Delicatessen': 473,\n",
       " 'South American': 490,\n",
       " 'Mexican': 572,\n",
       " 'Turkish': 574,\n",
       " 'Gastropub': 608,\n",
       " 'Grill': 617,\n",
       " 'Vietnamese': 622,\n",
       " 'Eastern European': 629,\n",
       " 'Soups': 630,\n",
       " 'Contemporary': 652,\n",
       " 'Barbecue': 710,\n",
       " 'Steakhouse': 729,\n",
       " 'Czech': 745,\n",
       " 'Fusion': 748,\n",
       " 'Healthy': 758,\n",
       " 'Greek': 768,\n",
       " 'Halal': 773,\n",
       " 'German': 820,\n",
       " 'Wine Bar': 877,\n",
       " 'Thai': 923,\n",
       " 'Middle Eastern': 980,\n",
       " 'Indian': 1328,\n",
       " 'Portuguese': 1385,\n",
       " 'Chinese': 1446,\n",
       " 'Sushi': 1450,\n",
       " 'American': 1642,\n",
       " 'Central European': 1727,\n",
       " 'Japanese': 1860,\n",
       " 'Seafood': 1878,\n",
       " 'International': 1966,\n",
       " 'British': 1992,\n",
       " 'Fast Food': 2122,\n",
       " 'Cafe': 2883,\n",
       " 'Pub': 3058,\n",
       " 'Spanish': 3456,\n",
       " 'Pizza': 3502,\n",
       " 'Asian': 3786,\n",
       " 'French': 3970,\n",
       " 'Bar': 4094,\n",
       " 'Gluten Free Options': 5185,\n",
       " 'Vegan Options': 5684,\n",
       " 'Italian': 7433,\n",
       " 'Mediterranean': 7820,\n",
       " 'European': 12561,\n",
       " 'Vegetarian Friendly': 14021}"
      ]
     },
     "execution_count": 31,
     "metadata": {},
     "output_type": "execute_result"
    }
   ],
   "source": [
    "cuisine_dict = {}\n",
    "styles_count = []\n",
    "for style_set in data[data['cuisine_style'].notna()]['cuisine_style']:\n",
    "    style_set_list = style_set.replace('\"', '').replace('[', '').replace(']', '').replace(\"'\", \"\").\\\n",
    "                    replace(', ', ',').split(',') \n",
    "    styles_count.append(len(style_set_list))\n",
    "    for cuisine_style in style_set_list:\n",
    "        if cuisine_style in cuisine_dict:\n",
    "            cuisine_dict[cuisine_style] += 1\n",
    "        else:\n",
    "            cuisine_dict[cuisine_style] = 1\n",
    "# max_value_style = max(cuisine_dict.values())\n",
    "# top_cuisine_style = {k: v for k, v in cuisine_dict.items() if v == max_value_style}\n",
    "# top_cuisine_style\n",
    "sorted_cuisine_dict = {}\n",
    "sorted_keys = sorted(cuisine_dict, key=cuisine_dict.get)  # [1, 3, 2]\n",
    "\n",
    "for w in sorted_keys:\n",
    "    sorted_cuisine_dict[w] = cuisine_dict[w]\n",
    "\n",
    "sorted_cuisine_dict"
   ]
  },
  {
   "cell_type": "markdown",
   "metadata": {},
   "source": [
    "## Мой метод парсинга cusine_style"
   ]
  },
  {
   "cell_type": "code",
   "execution_count": 32,
   "metadata": {},
   "outputs": [],
   "source": [
    "df_cuisine = data['cuisine_style']"
   ]
  },
  {
   "cell_type": "code",
   "execution_count": 33,
   "metadata": {},
   "outputs": [
    {
     "data": {
      "text/html": [
       "<div>\n",
       "<style scoped>\n",
       "    .dataframe tbody tr th:only-of-type {\n",
       "        vertical-align: middle;\n",
       "    }\n",
       "\n",
       "    .dataframe tbody tr th {\n",
       "        vertical-align: top;\n",
       "    }\n",
       "\n",
       "    .dataframe thead th {\n",
       "        text-align: right;\n",
       "    }\n",
       "</style>\n",
       "<table border=\"1\" class=\"dataframe\">\n",
       "  <thead>\n",
       "    <tr style=\"text-align: right;\">\n",
       "      <th></th>\n",
       "      <th>cuisine_style</th>\n",
       "    </tr>\n",
       "  </thead>\n",
       "  <tbody>\n",
       "    <tr>\n",
       "      <td>0</td>\n",
       "      <td>['Bar', 'Pub']</td>\n",
       "    </tr>\n",
       "    <tr>\n",
       "      <td>1</td>\n",
       "      <td>['European', 'Scandinavian', 'Gluten Free Opti...</td>\n",
       "    </tr>\n",
       "    <tr>\n",
       "      <td>2</td>\n",
       "      <td>['Vegetarian Friendly']</td>\n",
       "    </tr>\n",
       "    <tr>\n",
       "      <td>3</td>\n",
       "      <td>['Italian', 'Mediterranean', 'European', 'Vege...</td>\n",
       "    </tr>\n",
       "    <tr>\n",
       "      <td>4</td>\n",
       "      <td>['Italian', 'Mediterranean', 'European', 'Seaf...</td>\n",
       "    </tr>\n",
       "    <tr>\n",
       "      <td>...</td>\n",
       "      <td>...</td>\n",
       "    </tr>\n",
       "    <tr>\n",
       "      <td>49995</td>\n",
       "      <td>['Italian', 'Vegetarian Friendly', 'Vegan Opti...</td>\n",
       "    </tr>\n",
       "    <tr>\n",
       "      <td>49996</td>\n",
       "      <td>['French', 'American', 'Bar', 'European', 'Veg...</td>\n",
       "    </tr>\n",
       "    <tr>\n",
       "      <td>49997</td>\n",
       "      <td>['Japanese', 'Sushi']</td>\n",
       "    </tr>\n",
       "    <tr>\n",
       "      <td>49998</td>\n",
       "      <td>['Polish', 'European', 'Eastern European', 'Ce...</td>\n",
       "    </tr>\n",
       "    <tr>\n",
       "      <td>49999</td>\n",
       "      <td>['Spanish']</td>\n",
       "    </tr>\n",
       "  </tbody>\n",
       "</table>\n",
       "<p>50000 rows × 1 columns</p>\n",
       "</div>"
      ],
      "text/plain": [
       "                                           cuisine_style\n",
       "0                                         ['Bar', 'Pub']\n",
       "1      ['European', 'Scandinavian', 'Gluten Free Opti...\n",
       "2                                ['Vegetarian Friendly']\n",
       "3      ['Italian', 'Mediterranean', 'European', 'Vege...\n",
       "4      ['Italian', 'Mediterranean', 'European', 'Seaf...\n",
       "...                                                  ...\n",
       "49995  ['Italian', 'Vegetarian Friendly', 'Vegan Opti...\n",
       "49996  ['French', 'American', 'Bar', 'European', 'Veg...\n",
       "49997                              ['Japanese', 'Sushi']\n",
       "49998  ['Polish', 'European', 'Eastern European', 'Ce...\n",
       "49999                                        ['Spanish']\n",
       "\n",
       "[50000 rows x 1 columns]"
      ]
     },
     "execution_count": 33,
     "metadata": {},
     "output_type": "execute_result"
    }
   ],
   "source": [
    "df_cuisine.to_frame(name='cuisine_style')"
   ]
  },
  {
   "cell_type": "code",
   "execution_count": 34,
   "metadata": {},
   "outputs": [
    {
     "data": {
      "text/plain": [
       "0                                           ['Bar', 'Pub']\n",
       "1        ['European', 'Scandinavian', 'Gluten Free Opti...\n",
       "2                                  ['Vegetarian Friendly']\n",
       "3        ['Italian', 'Mediterranean', 'European', 'Vege...\n",
       "4        ['Italian', 'Mediterranean', 'European', 'Seaf...\n",
       "                               ...                        \n",
       "49995    ['Italian', 'Vegetarian Friendly', 'Vegan Opti...\n",
       "49996    ['French', 'American', 'Bar', 'European', 'Veg...\n",
       "49997                                ['Japanese', 'Sushi']\n",
       "49998    ['Polish', 'European', 'Eastern European', 'Ce...\n",
       "49999                                          ['Spanish']\n",
       "Name: cuisine_style, Length: 38410, dtype: object"
      ]
     },
     "execution_count": 34,
     "metadata": {},
     "output_type": "execute_result"
    }
   ],
   "source": [
    "df_cuisine = df_cuisine.dropna()\n",
    "df_cuisine"
   ]
  },
  {
   "cell_type": "code",
   "execution_count": 35,
   "metadata": {},
   "outputs": [
    {
     "data": {
      "text/plain": [
       "['Bar',\n",
       " 'Pub',\n",
       " 'European',\n",
       " 'Scandinavian',\n",
       " 'Gluten Free Options',\n",
       " 'Vegetarian Friendly',\n",
       " 'Vegan Options',\n",
       " 'Vegetarian Friendly',\n",
       " 'Italian',\n",
       " 'Mediterranean',\n",
       " 'European',\n",
       " 'Vegetarian Friendly',\n",
       " 'Gluten Free Options',\n",
       " 'Italian',\n",
       " 'Mediterranean',\n",
       " 'European',\n",
       " 'Seafood',\n",
       " 'Vegetarian Friendly',\n",
       " 'Gluten Free Options',\n",
       " 'French',\n",
       " 'Cafe',\n",
       " 'Fast Food',\n",
       " 'European',\n",
       " 'Portuguese',\n",
       " 'European',\n",
       " 'Scandinavian',\n",
       " 'Italian',\n",
       " 'Italian',\n",
       " 'Greek',\n",
       " 'European',\n",
       " 'Czech',\n",
       " 'Eastern European',\n",
       " 'Central European',\n",
       " 'French',\n",
       " 'Pizza',\n",
       " 'Vegetarian Friendly',\n",
       " 'Vegan Options',\n",
       " 'Bar',\n",
       " 'British',\n",
       " 'Pub',\n",
       " 'Vegetarian Friendly',\n",
       " 'Gluten Free Options',\n",
       " 'Italian',\n",
       " 'Pizza',\n",
       " 'European',\n",
       " 'Gluten Free Options',\n",
       " 'Vegetarian Friendly',\n",
       " 'Bar',\n",
       " 'Pizza',\n",
       " 'British',\n",
       " 'Vegetarian Friendly',\n",
       " 'Vegan Options',\n",
       " 'Mediterranean',\n",
       " 'Spanish',\n",
       " 'Vegetarian Friendly',\n",
       " 'Italian',\n",
       " 'Mediterranean',\n",
       " 'Pizza',\n",
       " 'Spanish',\n",
       " 'Vegetarian Friendly',\n",
       " 'Italian',\n",
       " 'Mediterranean',\n",
       " 'Vegetarian Friendly',\n",
       " 'Vegan Options',\n",
       " 'Mediterranean',\n",
       " 'Spanish',\n",
       " 'French',\n",
       " 'European',\n",
       " 'Norwegian',\n",
       " 'Italian',\n",
       " 'Vegetarian Friendly',\n",
       " 'Gluten Free Options',\n",
       " 'European',\n",
       " 'African',\n",
       " 'Moroccan',\n",
       " 'Middle Eastern',\n",
       " 'Mediterranean',\n",
       " 'Halal',\n",
       " 'Vegetarian Friendly',\n",
       " 'Gluten Free Options',\n",
       " 'Indian',\n",
       " 'French',\n",
       " 'Thai',\n",
       " 'Dutch',\n",
       " 'European',\n",
       " 'Vegetarian Friendly',\n",
       " 'Vegan Options',\n",
       " 'Gluten Free Options',\n",
       " 'French',\n",
       " 'European',\n",
       " 'Vegetarian Friendly',\n",
       " 'British',\n",
       " 'Welsh',\n",
       " 'Vegetarian Friendly',\n",
       " 'Gluten Free Options',\n",
       " 'American',\n",
       " 'Steakhouse',\n",
       " 'Seafood',\n",
       " 'European',\n",
       " 'British',\n",
       " 'Soups',\n",
       " 'Scottish',\n",
       " 'Vegetarian Friendly',\n",
       " 'Gluten Free Options',\n",
       " 'French',\n",
       " 'French',\n",
       " 'African',\n",
       " 'French',\n",
       " 'Fusion',\n",
       " 'Greek',\n",
       " 'Moroccan',\n",
       " 'Mediterranean',\n",
       " 'Middle Eastern',\n",
       " 'Vegetarian Friendly',\n",
       " 'Halal',\n",
       " 'Italian',\n",
       " 'Pizza',\n",
       " 'Street Food',\n",
       " 'Hungarian',\n",
       " 'Cafe',\n",
       " 'French',\n",
       " 'Mediterranean',\n",
       " 'Indian',\n",
       " 'Asian',\n",
       " 'British',\n",
       " 'Vegetarian Friendly',\n",
       " 'Mediterranean',\n",
       " 'European',\n",
       " 'Asian',\n",
       " 'Thai',\n",
       " 'Vegetarian Friendly',\n",
       " 'Vegan Options',\n",
       " 'Gluten Free Options',\n",
       " 'Mediterranean',\n",
       " 'Spanish',\n",
       " 'Wine Bar',\n",
       " 'Seafood',\n",
       " 'European',\n",
       " 'Central European',\n",
       " 'Hungarian',\n",
       " 'Bar',\n",
       " 'Pub',\n",
       " 'American',\n",
       " 'Barbecue',\n",
       " 'Cafe',\n",
       " 'French',\n",
       " 'European',\n",
       " 'Cafe',\n",
       " 'British',\n",
       " 'Cafe',\n",
       " 'European',\n",
       " 'Czech',\n",
       " 'Mediterranean',\n",
       " 'Bar',\n",
       " 'Pizza',\n",
       " 'European',\n",
       " 'Vegetarian Friendly',\n",
       " 'Asian',\n",
       " 'American',\n",
       " 'British',\n",
       " 'Central American',\n",
       " 'Vegetarian Friendly',\n",
       " 'Vegan Options',\n",
       " 'Gluten Free Options',\n",
       " 'French',\n",
       " 'French',\n",
       " 'Asian',\n",
       " 'European',\n",
       " 'Gluten Free Options',\n",
       " 'Vegetarian Friendly',\n",
       " 'Vegan Options',\n",
       " 'Peruvian',\n",
       " 'South American',\n",
       " 'Irish',\n",
       " 'Cafe',\n",
       " 'European',\n",
       " 'Pizza',\n",
       " 'Fast Food',\n",
       " 'Polish',\n",
       " 'Eastern European',\n",
       " 'European',\n",
       " 'Central European',\n",
       " 'Italian',\n",
       " 'Pizza',\n",
       " 'Vegetarian Friendly',\n",
       " 'Mediterranean',\n",
       " 'European',\n",
       " 'Spanish',\n",
       " 'Vegetarian Friendly',\n",
       " 'Vegan Options',\n",
       " 'Vietnamese',\n",
       " 'Street Food',\n",
       " 'Cafe',\n",
       " 'Bar',\n",
       " 'American',\n",
       " 'British',\n",
       " 'Pub',\n",
       " 'Italian',\n",
       " 'Mediterranean',\n",
       " 'European',\n",
       " 'Vegetarian Friendly',\n",
       " 'Lebanese',\n",
       " 'Mediterranean',\n",
       " 'Italian',\n",
       " 'Fast Food',\n",
       " 'Turkish',\n",
       " 'Middle Eastern',\n",
       " 'Indian',\n",
       " 'Vegetarian Friendly',\n",
       " 'European',\n",
       " 'Portuguese',\n",
       " 'Healthy',\n",
       " 'Vegetarian Friendly',\n",
       " 'Mediterranean',\n",
       " 'European',\n",
       " 'Greek',\n",
       " 'Vegetarian Friendly',\n",
       " 'Mediterranean',\n",
       " 'Spanish',\n",
       " 'French',\n",
       " 'European',\n",
       " 'Central European',\n",
       " 'Vegetarian Friendly',\n",
       " 'Japanese',\n",
       " 'Seafood',\n",
       " 'Sushi',\n",
       " 'Asian',\n",
       " 'Vegetarian Friendly',\n",
       " 'Austrian',\n",
       " 'European',\n",
       " 'American',\n",
       " 'Bar',\n",
       " 'British',\n",
       " 'Pub',\n",
       " 'Italian',\n",
       " 'Pizza',\n",
       " 'Vegetarian Friendly',\n",
       " 'Chinese',\n",
       " 'Cafe',\n",
       " 'Mediterranean',\n",
       " 'British',\n",
       " 'Vegetarian Friendly',\n",
       " 'Japanese',\n",
       " 'Sushi',\n",
       " 'Chinese',\n",
       " 'Vegetarian Friendly',\n",
       " 'European',\n",
       " 'Scandinavian',\n",
       " 'Danish',\n",
       " 'French',\n",
       " 'European',\n",
       " 'Wine Bar',\n",
       " 'Mediterranean',\n",
       " 'European',\n",
       " 'Italian',\n",
       " 'Pizza',\n",
       " 'Mediterranean',\n",
       " 'Bar',\n",
       " 'British',\n",
       " 'Pub',\n",
       " 'International',\n",
       " 'Gastropub',\n",
       " 'Vegetarian Friendly',\n",
       " 'Barbecue',\n",
       " 'Asian',\n",
       " 'Korean',\n",
       " 'Vegetarian Friendly',\n",
       " 'Vegan Options',\n",
       " 'Gluten Free Options',\n",
       " 'Italian',\n",
       " 'Italian',\n",
       " 'Pizza',\n",
       " 'Mediterranean',\n",
       " 'European',\n",
       " 'Vegetarian Friendly',\n",
       " 'German',\n",
       " 'Turkish',\n",
       " 'Greek',\n",
       " 'Vegetarian Friendly',\n",
       " 'Vegan Options',\n",
       " 'Chinese',\n",
       " 'Asian',\n",
       " 'Seafood',\n",
       " 'Dutch',\n",
       " 'Bar',\n",
       " 'Cafe',\n",
       " 'European',\n",
       " 'Pub',\n",
       " 'Mediterranean',\n",
       " 'Spanish',\n",
       " 'Contemporary',\n",
       " 'Fusion',\n",
       " 'French',\n",
       " 'Mediterranean',\n",
       " 'European',\n",
       " 'French',\n",
       " 'Halal',\n",
       " 'European',\n",
       " 'Czech',\n",
       " 'French',\n",
       " 'European',\n",
       " 'Vegetarian Friendly',\n",
       " 'Cafe',\n",
       " 'African',\n",
       " 'Middle Eastern',\n",
       " 'Arabic',\n",
       " 'Vegetarian Friendly',\n",
       " 'Vegan Options',\n",
       " 'Halal',\n",
       " 'Gluten Free Options',\n",
       " 'Cafe',\n",
       " 'Mediterranean',\n",
       " 'Spanish',\n",
       " 'Diner',\n",
       " 'Italian',\n",
       " 'Mediterranean',\n",
       " 'Spanish',\n",
       " 'Italian',\n",
       " 'Pizza',\n",
       " 'Swiss',\n",
       " 'European',\n",
       " 'Central European',\n",
       " 'French',\n",
       " 'European',\n",
       " 'British',\n",
       " 'Mediterranean',\n",
       " 'European',\n",
       " 'Portuguese',\n",
       " 'Vegetarian Friendly',\n",
       " 'Gluten Free Options',\n",
       " 'Italian',\n",
       " 'Pizza',\n",
       " 'Mediterranean',\n",
       " 'European',\n",
       " 'Vegetarian Friendly',\n",
       " 'European',\n",
       " 'Swedish',\n",
       " 'Scandinavian',\n",
       " 'Vegetarian Friendly',\n",
       " 'Gluten Free Options',\n",
       " 'Bar',\n",
       " 'Scottish',\n",
       " 'Seafood',\n",
       " 'British',\n",
       " 'Pub',\n",
       " 'Mediterranean',\n",
       " 'European',\n",
       " 'Spanish',\n",
       " 'Indian',\n",
       " 'Asian',\n",
       " 'Vegetarian Friendly',\n",
       " 'Vegan Options',\n",
       " 'Gluten Free Options',\n",
       " 'Bar',\n",
       " 'British',\n",
       " 'Pub',\n",
       " 'Italian',\n",
       " 'Pizza',\n",
       " 'Italian',\n",
       " 'Bar',\n",
       " 'European',\n",
       " 'Scandinavian',\n",
       " 'Danish',\n",
       " 'Vegetarian Friendly',\n",
       " 'Gluten Free Options',\n",
       " 'Moroccan',\n",
       " 'Mediterranean',\n",
       " 'Italian',\n",
       " 'Mediterranean',\n",
       " 'Turkish',\n",
       " 'Middle Eastern',\n",
       " 'Mediterranean',\n",
       " 'Halal',\n",
       " 'Italian',\n",
       " 'Cafe',\n",
       " 'Vegan Options',\n",
       " 'Asian',\n",
       " 'Korean',\n",
       " 'Italian',\n",
       " 'Mediterranean',\n",
       " 'Pizza',\n",
       " 'Vegetarian Friendly',\n",
       " 'Vegan Options',\n",
       " 'European',\n",
       " 'Fusion',\n",
       " 'Portuguese',\n",
       " 'Polish',\n",
       " 'European',\n",
       " 'Italian',\n",
       " 'Pizza',\n",
       " 'Fast Food',\n",
       " 'Vegetarian Friendly',\n",
       " 'Vegan Options',\n",
       " 'Bar',\n",
       " 'American',\n",
       " 'Pub',\n",
       " 'Chinese',\n",
       " 'Japanese',\n",
       " 'Italian',\n",
       " 'European',\n",
       " 'Vegetarian Friendly',\n",
       " 'Gluten Free Options',\n",
       " 'Bar',\n",
       " 'Mediterranean',\n",
       " 'European',\n",
       " 'Spanish',\n",
       " 'Seafood',\n",
       " 'Mediterranean',\n",
       " 'European',\n",
       " 'Spanish',\n",
       " 'Gluten Free Options',\n",
       " 'Eastern European',\n",
       " 'Polish',\n",
       " 'European',\n",
       " 'Central European',\n",
       " 'Fast Food',\n",
       " 'Sushi',\n",
       " 'Japanese',\n",
       " 'Middle Eastern',\n",
       " 'Persian',\n",
       " 'European',\n",
       " 'Hungarian',\n",
       " 'French',\n",
       " 'European',\n",
       " 'Danish',\n",
       " 'American',\n",
       " 'Fast Food',\n",
       " 'European',\n",
       " 'Vegetarian Friendly',\n",
       " 'Vegan Options',\n",
       " 'Japanese',\n",
       " 'Sushi',\n",
       " 'Asian',\n",
       " 'Thai',\n",
       " 'Fusion',\n",
       " 'Vegetarian Friendly',\n",
       " 'Gluten Free Options',\n",
       " 'Bar',\n",
       " 'British',\n",
       " 'Pub',\n",
       " 'Vegetarian Friendly',\n",
       " 'British',\n",
       " 'Vegetarian Friendly',\n",
       " 'European',\n",
       " 'Italian',\n",
       " 'Cafe',\n",
       " 'Danish',\n",
       " 'Pub',\n",
       " 'French',\n",
       " 'Diner',\n",
       " 'Mediterranean',\n",
       " 'Spanish',\n",
       " 'Fusion',\n",
       " 'Middle Eastern',\n",
       " 'Vegetarian Friendly',\n",
       " 'Vegan Options',\n",
       " 'European',\n",
       " 'Czech',\n",
       " 'Mediterranean',\n",
       " 'European',\n",
       " 'Turkish',\n",
       " 'Middle Eastern',\n",
       " 'Vegetarian Friendly',\n",
       " 'Vegan Options',\n",
       " 'Halal',\n",
       " 'Gluten Free Options',\n",
       " 'Mediterranean',\n",
       " 'European',\n",
       " 'Portuguese',\n",
       " 'Irish',\n",
       " 'Bar',\n",
       " 'European',\n",
       " 'Pub',\n",
       " 'British',\n",
       " 'Wine Bar',\n",
       " 'European',\n",
       " 'Wine Bar',\n",
       " 'Bar',\n",
       " 'Pub',\n",
       " 'Cafe',\n",
       " 'British',\n",
       " 'Vegetarian Friendly',\n",
       " 'Gluten Free Options',\n",
       " 'Vegan Options',\n",
       " 'Seafood',\n",
       " 'Fast Food',\n",
       " 'British',\n",
       " 'Bar',\n",
       " 'Fast Food',\n",
       " 'Pub',\n",
       " 'Italian',\n",
       " 'Pizza',\n",
       " 'Vegetarian Friendly',\n",
       " 'Cafe',\n",
       " 'Australian',\n",
       " 'Asian',\n",
       " 'Vietnamese',\n",
       " 'Soups',\n",
       " 'Vegetarian Friendly',\n",
       " 'Vegan Options',\n",
       " 'Bar',\n",
       " 'Grill',\n",
       " 'Mexican',\n",
       " 'Vietnamese',\n",
       " 'Mediterranean',\n",
       " 'European',\n",
       " 'Portuguese',\n",
       " 'Vegetarian Friendly',\n",
       " 'Seafood',\n",
       " 'Mediterranean',\n",
       " 'European',\n",
       " 'Spanish',\n",
       " 'Soups',\n",
       " 'Vegetarian Friendly',\n",
       " 'Gluten Free Options',\n",
       " 'Italian',\n",
       " 'Italian',\n",
       " 'Seafood',\n",
       " 'Mediterranean',\n",
       " 'Gluten Free Options',\n",
       " 'European',\n",
       " 'International',\n",
       " 'Spanish',\n",
       " 'Portuguese',\n",
       " 'Wine Bar',\n",
       " 'Indian',\n",
       " 'Italian',\n",
       " 'Italian',\n",
       " 'Mediterranean',\n",
       " 'European',\n",
       " 'French',\n",
       " 'Bar',\n",
       " 'French',\n",
       " 'Italian',\n",
       " 'Bar',\n",
       " 'Spanish',\n",
       " 'Contemporary',\n",
       " 'Diner',\n",
       " 'European',\n",
       " 'Central European',\n",
       " 'Italian',\n",
       " 'Polish',\n",
       " 'International',\n",
       " 'Mediterranean',\n",
       " 'Cafe',\n",
       " 'British',\n",
       " 'European',\n",
       " 'Vegetarian Friendly',\n",
       " 'Italian',\n",
       " 'Seafood',\n",
       " 'Mediterranean',\n",
       " 'Italian',\n",
       " 'Italian',\n",
       " 'Bar',\n",
       " 'British',\n",
       " 'Pub',\n",
       " 'Italian',\n",
       " 'French',\n",
       " 'Bar',\n",
       " 'Cafe',\n",
       " 'European',\n",
       " 'Vegetarian Friendly',\n",
       " 'Italian',\n",
       " 'Pizza',\n",
       " 'Mediterranean',\n",
       " 'Vegetarian Friendly',\n",
       " 'Vegan Options',\n",
       " 'Pizza',\n",
       " 'Italian',\n",
       " 'Pizza',\n",
       " 'Italian',\n",
       " 'Pizza',\n",
       " 'Cafe',\n",
       " 'Polish',\n",
       " 'European',\n",
       " 'Healthy',\n",
       " 'Vegetarian Friendly',\n",
       " 'British',\n",
       " 'Scottish',\n",
       " 'Cafe',\n",
       " 'Soups',\n",
       " 'Vegetarian Friendly',\n",
       " 'Gluten Free Options',\n",
       " 'Vegan Options',\n",
       " 'Mexican',\n",
       " 'Latin',\n",
       " 'Fast Food',\n",
       " 'Vegetarian Friendly',\n",
       " 'Vegan Options',\n",
       " 'French',\n",
       " 'European',\n",
       " 'Vegetarian Friendly',\n",
       " 'Vegan Options',\n",
       " 'Italian',\n",
       " 'Mediterranean',\n",
       " 'European',\n",
       " 'International',\n",
       " 'Vegetarian Friendly',\n",
       " 'Portuguese',\n",
       " 'Vegetarian Friendly',\n",
       " 'European',\n",
       " 'Central European',\n",
       " 'International',\n",
       " 'Vegetarian Friendly',\n",
       " 'Gluten Free Options',\n",
       " 'Vegan Options',\n",
       " 'French',\n",
       " 'European',\n",
       " 'Vegetarian Friendly',\n",
       " 'Vietnamese',\n",
       " 'Japanese',\n",
       " 'Sushi',\n",
       " 'Asian',\n",
       " 'Vegetarian Friendly',\n",
       " 'Vegan Options',\n",
       " 'Barbecue',\n",
       " 'European',\n",
       " 'Portuguese',\n",
       " 'Mediterranean',\n",
       " 'European',\n",
       " 'Spanish',\n",
       " 'Vegetarian Friendly',\n",
       " 'Gluten Free Options',\n",
       " 'European',\n",
       " 'Scandinavian',\n",
       " 'Vegetarian Friendly',\n",
       " 'Vegan Options',\n",
       " 'Gluten Free Options',\n",
       " 'European',\n",
       " 'Czech',\n",
       " 'American',\n",
       " 'Bar',\n",
       " 'Mediterranean',\n",
       " 'European',\n",
       " 'Spanish',\n",
       " 'Vegetarian Friendly',\n",
       " 'Gastropub',\n",
       " 'French',\n",
       " 'Belgian',\n",
       " 'Mediterranean',\n",
       " 'European',\n",
       " 'Pub',\n",
       " 'Italian',\n",
       " 'Mediterranean',\n",
       " 'Italian',\n",
       " 'Mediterranean',\n",
       " 'Seafood',\n",
       " 'American',\n",
       " 'Fast Food',\n",
       " 'International',\n",
       " 'Vegetarian Friendly',\n",
       " 'Vegan Options',\n",
       " 'Gluten Free Options',\n",
       " 'Mediterranean',\n",
       " 'Spanish',\n",
       " 'Seafood',\n",
       " 'Italian',\n",
       " 'Mediterranean',\n",
       " 'European',\n",
       " 'Greek',\n",
       " 'Vegetarian Friendly',\n",
       " 'Vegan Options',\n",
       " 'British',\n",
       " 'Scottish',\n",
       " 'Argentinean',\n",
       " 'South American',\n",
       " 'Italian',\n",
       " 'Cafe',\n",
       " 'Bar',\n",
       " 'British',\n",
       " 'Pub',\n",
       " 'Indian',\n",
       " 'Asian',\n",
       " 'Vegetarian Friendly',\n",
       " 'Vegan Options',\n",
       " 'French',\n",
       " 'European',\n",
       " 'Vegetarian Friendly',\n",
       " 'Vegan Options',\n",
       " 'Gluten Free Options',\n",
       " 'Italian',\n",
       " 'European',\n",
       " 'Portuguese',\n",
       " 'Thai',\n",
       " 'Asian',\n",
       " 'Pizza',\n",
       " 'Seafood',\n",
       " 'Vegetarian Friendly',\n",
       " 'International',\n",
       " 'European',\n",
       " 'Contemporary',\n",
       " 'Vegetarian Friendly',\n",
       " 'Spanish',\n",
       " 'Vegetarian Friendly',\n",
       " 'Fast Food',\n",
       " 'Vegan Options',\n",
       " 'Vegetarian Friendly',\n",
       " 'French',\n",
       " 'European',\n",
       " 'Vegetarian Friendly',\n",
       " 'Gluten Free Options',\n",
       " 'Mexican',\n",
       " 'American',\n",
       " 'Bar',\n",
       " 'Barbecue',\n",
       " 'Vegetarian Friendly',\n",
       " 'Chinese',\n",
       " 'Asian',\n",
       " 'Soups',\n",
       " 'Vegetarian Friendly',\n",
       " 'Chinese',\n",
       " 'Seafood',\n",
       " 'French',\n",
       " 'American',\n",
       " 'Bar',\n",
       " 'Cafe',\n",
       " 'European',\n",
       " 'British',\n",
       " 'Vegetarian Friendly',\n",
       " 'Vegan Options',\n",
       " 'Gluten Free Options',\n",
       " 'Mediterranean',\n",
       " 'Spanish',\n",
       " 'Vegetarian Friendly',\n",
       " 'Middle Eastern',\n",
       " 'Lebanese',\n",
       " 'Mediterranean',\n",
       " 'Italian',\n",
       " 'Pizza',\n",
       " 'Vegetarian Friendly',\n",
       " 'Vegan Options',\n",
       " 'International',\n",
       " 'Mediterranean',\n",
       " 'Japanese',\n",
       " 'Sushi',\n",
       " 'Asian',\n",
       " 'Vegetarian Friendly',\n",
       " 'Vegan Options',\n",
       " 'Gluten Free Options',\n",
       " 'Pizza',\n",
       " 'Italian',\n",
       " 'Mediterranean',\n",
       " 'European',\n",
       " 'Vegetarian Friendly',\n",
       " 'Diner',\n",
       " 'Healthy',\n",
       " 'German',\n",
       " 'Cafe',\n",
       " 'Vegetarian Friendly',\n",
       " 'Vegan Options',\n",
       " 'French',\n",
       " 'Mediterranean',\n",
       " 'Greek',\n",
       " 'Middle Eastern',\n",
       " 'Tunisian',\n",
       " 'Healthy',\n",
       " 'Italian',\n",
       " 'Cafe',\n",
       " 'Seafood',\n",
       " 'Mediterranean',\n",
       " 'Spanish',\n",
       " 'Italian',\n",
       " 'Pizza',\n",
       " 'Mediterranean',\n",
       " 'Italian',\n",
       " 'Mediterranean',\n",
       " 'European',\n",
       " 'Czech',\n",
       " 'Spanish',\n",
       " 'Mediterranean',\n",
       " 'Vegetarian Friendly',\n",
       " 'French',\n",
       " 'Mediterranean',\n",
       " 'European',\n",
       " 'French',\n",
       " 'American',\n",
       " 'Cafe',\n",
       " 'Street Food',\n",
       " 'Fast Food',\n",
       " 'Greek',\n",
       " 'European',\n",
       " 'Czech',\n",
       " 'Cafe',\n",
       " 'Fast Food',\n",
       " 'Healthy',\n",
       " 'French',\n",
       " 'Mexican',\n",
       " 'Healthy',\n",
       " 'International',\n",
       " 'Arabic',\n",
       " 'Mexican',\n",
       " 'Fast Food',\n",
       " 'Vegetarian Friendly',\n",
       " 'Vegan Options',\n",
       " 'Steakhouse',\n",
       " 'Barbecue',\n",
       " 'European',\n",
       " 'Vegetarian Friendly',\n",
       " 'Russian',\n",
       " 'Eastern European',\n",
       " 'Vegetarian Friendly',\n",
       " 'French',\n",
       " 'Mediterranean',\n",
       " 'European',\n",
       " 'Greek',\n",
       " 'Vegetarian Friendly',\n",
       " 'Vegan Options',\n",
       " 'Pizza',\n",
       " 'British',\n",
       " 'Bar',\n",
       " 'Fast Food',\n",
       " 'Barbecue',\n",
       " 'Pub',\n",
       " 'Mediterranean',\n",
       " 'European',\n",
       " 'Spanish',\n",
       " 'Vegetarian Friendly',\n",
       " 'Gluten Free Options',\n",
       " 'Vegetarian Friendly',\n",
       " 'Vegan Options',\n",
       " 'British',\n",
       " 'Contemporary',\n",
       " 'Vegetarian Friendly',\n",
       " 'Gluten Free Options',\n",
       " 'British',\n",
       " 'Italian',\n",
       " 'German',\n",
       " 'Pizza',\n",
       " 'Cafe',\n",
       " 'Italian',\n",
       " 'Seafood',\n",
       " 'Mediterranean',\n",
       " 'Pizza',\n",
       " 'Japanese',\n",
       " 'Austrian',\n",
       " 'Bar',\n",
       " 'European',\n",
       " 'Pub',\n",
       " 'Central European',\n",
       " 'German',\n",
       " 'International',\n",
       " 'Vegetarian Friendly',\n",
       " 'Turkish',\n",
       " 'Middle Eastern',\n",
       " 'Barbecue',\n",
       " 'Vegetarian Friendly',\n",
       " 'French',\n",
       " 'Vegetarian Friendly',\n",
       " 'Vegan Options',\n",
       " 'French',\n",
       " 'European',\n",
       " 'Gastropub',\n",
       " 'Belgian',\n",
       " 'Fast Food',\n",
       " 'European',\n",
       " 'Mediterranean',\n",
       " 'Greek',\n",
       " 'Italian',\n",
       " 'Bar',\n",
       " 'Pizza',\n",
       " 'Pub',\n",
       " 'Vegetarian Friendly',\n",
       " 'Vegan Options',\n",
       " 'Gluten Free Options',\n",
       " 'Portuguese',\n",
       " 'Spanish',\n",
       " 'French',\n",
       " 'Mexican',\n",
       " 'Bar',\n",
       " 'French',\n",
       " 'European',\n",
       " 'Pub',\n",
       " 'Mexican',\n",
       " 'Italian',\n",
       " 'Japanese',\n",
       " 'Mediterranean',\n",
       " 'European',\n",
       " 'Portuguese',\n",
       " 'Chinese',\n",
       " 'Asian',\n",
       " 'Mexican',\n",
       " 'Latin',\n",
       " 'French',\n",
       " 'Lebanese',\n",
       " 'Mediterranean',\n",
       " 'Italian',\n",
       " 'Vegetarian Friendly',\n",
       " 'Steakhouse',\n",
       " 'Barbecue',\n",
       " 'European',\n",
       " 'Scandinavian',\n",
       " 'Gluten Free Options',\n",
       " 'International',\n",
       " 'French',\n",
       " 'European',\n",
       " 'Vietnamese',\n",
       " 'Austrian',\n",
       " 'Vegetarian Friendly',\n",
       " 'Gluten Free Options',\n",
       " 'European',\n",
       " 'Scandinavian',\n",
       " 'Danish',\n",
       " 'Chinese',\n",
       " 'German',\n",
       " 'European',\n",
       " 'Wine Bar',\n",
       " 'Gastropub',\n",
       " 'Central European',\n",
       " 'French',\n",
       " 'European',\n",
       " 'Italian',\n",
       " 'Pizza',\n",
       " 'Seafood',\n",
       " 'Mediterranean',\n",
       " 'Vegetarian Friendly',\n",
       " 'Vegan Options',\n",
       " 'Gluten Free Options',\n",
       " 'Swiss',\n",
       " 'European',\n",
       " 'Grill',\n",
       " 'Italian',\n",
       " 'Pizza',\n",
       " 'Chinese',\n",
       " 'Japanese',\n",
       " 'Sushi',\n",
       " 'Asian',\n",
       " 'Vegetarian Friendly',\n",
       " 'Italian',\n",
       " 'Pizza',\n",
       " 'Mediterranean',\n",
       " 'Vegetarian Friendly',\n",
       " 'Vegan Options',\n",
       " 'Swiss',\n",
       " 'European',\n",
       " 'Vegetarian Friendly',\n",
       " 'Japanese',\n",
       " 'Sushi',\n",
       " 'Asian',\n",
       " 'International',\n",
       " 'Thai',\n",
       " 'Vegetarian Friendly',\n",
       " 'Vegan Options',\n",
       " 'Gluten Free Options',\n",
       " 'European',\n",
       " 'Portuguese',\n",
       " 'Italian',\n",
       " 'Pizza',\n",
       " 'European',\n",
       " 'Vegetarian Friendly',\n",
       " 'Vegan Options',\n",
       " 'Spanish',\n",
       " 'Cafe',\n",
       " 'Healthy',\n",
       " 'Fast Food',\n",
       " 'Vegan Options',\n",
       " 'Indian',\n",
       " 'Fast Food',\n",
       " 'Swiss',\n",
       " 'European',\n",
       " 'Central European',\n",
       " 'Vegetarian Friendly',\n",
       " 'Vegetarian Friendly',\n",
       " 'Vegan Options',\n",
       " 'French',\n",
       " 'Bar',\n",
       " 'Pub',\n",
       " 'Mediterranean',\n",
       " 'European',\n",
       " 'Peruvian',\n",
       " 'South American',\n",
       " 'Japanese',\n",
       " 'Portuguese',\n",
       " 'European',\n",
       " 'Pizza',\n",
       " 'Mediterranean',\n",
       " 'Turkish',\n",
       " 'French',\n",
       " 'European',\n",
       " 'Czech',\n",
       " 'Central European',\n",
       " 'Vegetarian Friendly',\n",
       " 'Vegan Options',\n",
       " 'Gluten Free Options',\n",
       " 'Portuguese',\n",
       " 'Seafood',\n",
       " 'Gastropub',\n",
       " 'Spanish',\n",
       " 'Chinese',\n",
       " 'Fast Food',\n",
       " 'Asian',\n",
       " 'European',\n",
       " 'Swedish',\n",
       " 'Italian',\n",
       " 'Seafood',\n",
       " 'Mediterranean',\n",
       " 'European',\n",
       " 'Vegetarian Friendly',\n",
       " 'Indian',\n",
       " 'Asian',\n",
       " 'Nepali',\n",
       " ...]"
      ]
     },
     "execution_count": 35,
     "metadata": {},
     "output_type": "execute_result"
    }
   ],
   "source": [
    "list_cuisine = []\n",
    "for row in df_cuisine:\n",
    "    time_list = (ast.literal_eval(row))\n",
    "    for words in time_list:\n",
    "        list_cuisine.append(words)\n",
    "\n",
    "list_cuisine"
   ]
  },
  {
   "cell_type": "markdown",
   "metadata": {},
   "source": [
    "В общем, 119_676 кухонь в дате"
   ]
  },
  {
   "cell_type": "code",
   "execution_count": 36,
   "metadata": {},
   "outputs": [
    {
     "data": {
      "text/plain": [
       "119676"
      ]
     },
     "execution_count": 36,
     "metadata": {},
     "output_type": "execute_result"
    }
   ],
   "source": [
    "len(list_cuisine)"
   ]
  },
  {
   "cell_type": "markdown",
   "metadata": {},
   "source": [
    "125 уникальных кухонь"
   ]
  },
  {
   "cell_type": "code",
   "execution_count": 37,
   "metadata": {},
   "outputs": [
    {
     "data": {
      "text/plain": [
       "125"
      ]
     },
     "execution_count": 37,
     "metadata": {},
     "output_type": "execute_result"
    }
   ],
   "source": [
    "len(set(list_cuisine))"
   ]
  },
  {
   "cell_type": "code",
   "execution_count": 38,
   "metadata": {},
   "outputs": [
    {
     "data": {
      "text/plain": [
       "{'Croatian': 33,\n",
       " 'Fast Food': 2122,\n",
       " 'Bangladeshi': 100,\n",
       " 'Burmese': 1,\n",
       " 'Lebanese': 397,\n",
       " 'Malaysian': 38,\n",
       " 'Austrian': 462,\n",
       " 'Salvadoran': 1,\n",
       " 'Vegan Options': 5684,\n",
       " 'Welsh': 3,\n",
       " 'Native American': 5,\n",
       " 'Mongolian': 20,\n",
       " 'Thai': 923,\n",
       " 'Mediterranean': 7820,\n",
       " 'Norwegian': 96,\n",
       " 'Arabic': 58,\n",
       " 'Swedish': 223,\n",
       " 'European': 12561,\n",
       " 'Scandinavian': 449,\n",
       " 'Pizza': 3502,\n",
       " 'Central European': 1727,\n",
       " 'Cuban': 32,\n",
       " 'Cajun & Creole': 27,\n",
       " 'Seafood': 1878,\n",
       " 'Street Food': 336,\n",
       " 'Israeli': 90,\n",
       " 'Irish': 352,\n",
       " 'French': 3970,\n",
       " 'Peruvian': 130,\n",
       " 'Latvian': 1,\n",
       " 'Filipino': 17,\n",
       " 'Central Asian': 12,\n",
       " 'Contemporary': 652,\n",
       " 'Pub': 3058,\n",
       " 'American': 1642,\n",
       " 'Hawaiian': 23,\n",
       " 'Ukrainian': 20,\n",
       " 'Cafe': 2883,\n",
       " 'Southwestern': 24,\n",
       " 'Eastern European': 629,\n",
       " 'Latin': 373,\n",
       " 'Yunnan': 2,\n",
       " 'Vegetarian Friendly': 14021,\n",
       " 'International': 1966,\n",
       " 'Scottish': 199,\n",
       " 'Colombian': 30,\n",
       " 'Persian': 77,\n",
       " 'Japanese': 1860,\n",
       " 'Argentinean': 214,\n",
       " 'Brew Pub': 299,\n",
       " 'Diner': 375,\n",
       " 'Georgian': 18,\n",
       " 'Swiss': 223,\n",
       " 'German': 820,\n",
       " 'Steakhouse': 729,\n",
       " 'Bar': 4094,\n",
       " 'Azerbaijani': 3,\n",
       " 'Indonesian': 71,\n",
       " 'Hungarian': 444,\n",
       " 'Czech': 745,\n",
       " 'Cambodian': 22,\n",
       " 'Gluten Free Options': 5185,\n",
       " 'Vietnamese': 622,\n",
       " 'Portuguese': 1385,\n",
       " 'Armenian': 17,\n",
       " 'Nepali': 121,\n",
       " 'Chilean': 16,\n",
       " 'Korean': 206,\n",
       " 'Xinjiang': 1,\n",
       " 'Venezuelan': 51,\n",
       " 'South American': 490,\n",
       " 'Spanish': 3456,\n",
       " 'Grill': 617,\n",
       " 'Sushi': 1450,\n",
       " 'Ecuadorean': 8,\n",
       " 'Canadian': 7,\n",
       " 'Polish': 453,\n",
       " 'Delicatessen': 473,\n",
       " 'Halal': 773,\n",
       " 'Chinese': 1446,\n",
       " 'Central American': 168,\n",
       " 'Middle Eastern': 980,\n",
       " 'Dutch': 368,\n",
       " 'Pakistani': 140,\n",
       " 'Wine Bar': 877,\n",
       " 'Danish': 225,\n",
       " 'Sri Lankan': 30,\n",
       " 'Brazilian': 152,\n",
       " 'Albanian': 8,\n",
       " 'Afghani': 27,\n",
       " 'Gastropub': 608,\n",
       " 'Romanian': 13,\n",
       " 'New Zealand': 7,\n",
       " 'Balti': 104,\n",
       " 'Indian': 1328,\n",
       " 'Barbecue': 710,\n",
       " 'Tibetan': 29,\n",
       " 'Taiwanese': 30,\n",
       " 'Asian': 3786,\n",
       " 'Caucasian': 4,\n",
       " 'Italian': 7433,\n",
       " 'Polynesian': 2,\n",
       " 'Moroccan': 173,\n",
       " 'Soups': 630,\n",
       " 'Caribbean': 124,\n",
       " 'Belgian': 335,\n",
       " 'Ethiopian': 51,\n",
       " 'African': 193,\n",
       " 'Greek': 768,\n",
       " 'Uzbek': 5,\n",
       " 'Jamaican': 36,\n",
       " 'Fusion': 748,\n",
       " 'Mexican': 572,\n",
       " 'Egyptian': 24,\n",
       " 'Healthy': 758,\n",
       " 'Turkish': 574,\n",
       " 'British': 1992,\n",
       " 'Slovenian': 85,\n",
       " 'Tunisian': 23,\n",
       " 'Russian': 66,\n",
       " 'Minority Chinese': 12,\n",
       " 'Australian': 36,\n",
       " 'Kosher': 56,\n",
       " 'Fujian': 2,\n",
       " 'Singaporean': 21}"
      ]
     },
     "execution_count": 38,
     "metadata": {},
     "output_type": "execute_result"
    }
   ],
   "source": [
    "cuisine_dict = {}\n",
    "set_cuisine = set(list_cuisine)\n",
    "\n",
    "for cuisine in set_cuisine:\n",
    "    cuisine_dict[cuisine] = 0\n",
    "cuisine_dict\n",
    "\n",
    "for word in list_cuisine:\n",
    "    cuisine_dict[word] += 1\n",
    "\n",
    "cuisine_dict"
   ]
  },
  {
   "cell_type": "code",
   "execution_count": 39,
   "metadata": {},
   "outputs": [
    {
     "data": {
      "text/plain": [
       "14021"
      ]
     },
     "execution_count": 39,
     "metadata": {},
     "output_type": "execute_result"
    }
   ],
   "source": [
    "max(cuisine_dict.values())"
   ]
  },
  {
   "cell_type": "code",
   "execution_count": 40,
   "metadata": {},
   "outputs": [
    {
     "name": "stdout",
     "output_type": "stream",
     "text": [
      "{'Burmese': 1, 'Salvadoran': 1, 'Latvian': 1, 'Xinjiang': 1, 'Yunnan': 2, 'Polynesian': 2, 'Fujian': 2, 'Welsh': 3, 'Azerbaijani': 3, 'Caucasian': 4, 'Native American': 5, 'Uzbek': 5, 'Canadian': 7, 'New Zealand': 7, 'Ecuadorean': 8, 'Albanian': 8, 'Central Asian': 12, 'Minority Chinese': 12, 'Romanian': 13, 'Chilean': 16, 'Filipino': 17, 'Armenian': 17, 'Georgian': 18, 'Mongolian': 20, 'Ukrainian': 20, 'Singaporean': 21, 'Cambodian': 22, 'Hawaiian': 23, 'Tunisian': 23, 'Southwestern': 24, 'Egyptian': 24, 'Cajun & Creole': 27, 'Afghani': 27, 'Tibetan': 29, 'Colombian': 30, 'Sri Lankan': 30, 'Taiwanese': 30, 'Cuban': 32, 'Croatian': 33, 'Jamaican': 36, 'Australian': 36, 'Malaysian': 38, 'Venezuelan': 51, 'Ethiopian': 51, 'Kosher': 56, 'Arabic': 58, 'Russian': 66, 'Indonesian': 71, 'Persian': 77, 'Slovenian': 85, 'Israeli': 90, 'Norwegian': 96, 'Bangladeshi': 100, 'Balti': 104, 'Nepali': 121, 'Caribbean': 124, 'Peruvian': 130, 'Pakistani': 140, 'Brazilian': 152, 'Central American': 168, 'Moroccan': 173, 'African': 193, 'Scottish': 199, 'Korean': 206, 'Argentinean': 214, 'Swedish': 223, 'Swiss': 223, 'Danish': 225, 'Brew Pub': 299, 'Belgian': 335, 'Street Food': 336, 'Irish': 352, 'Dutch': 368, 'Latin': 373, 'Diner': 375, 'Lebanese': 397, 'Hungarian': 444, 'Scandinavian': 449, 'Polish': 453, 'Austrian': 462, 'Delicatessen': 473, 'South American': 490, 'Mexican': 572, 'Turkish': 574, 'Gastropub': 608, 'Grill': 617, 'Vietnamese': 622, 'Eastern European': 629, 'Soups': 630, 'Contemporary': 652, 'Barbecue': 710, 'Steakhouse': 729, 'Czech': 745, 'Fusion': 748, 'Healthy': 758, 'Greek': 768, 'Halal': 773, 'German': 820, 'Wine Bar': 877, 'Thai': 923, 'Middle Eastern': 980, 'Indian': 1328, 'Portuguese': 1385, 'Chinese': 1446, 'Sushi': 1450, 'American': 1642, 'Central European': 1727, 'Japanese': 1860, 'Seafood': 1878, 'International': 1966, 'British': 1992, 'Fast Food': 2122, 'Cafe': 2883, 'Pub': 3058, 'Spanish': 3456, 'Pizza': 3502, 'Asian': 3786, 'French': 3970, 'Bar': 4094, 'Gluten Free Options': 5185, 'Vegan Options': 5684, 'Italian': 7433, 'Mediterranean': 7820, 'European': 12561, 'Vegetarian Friendly': 14021}\n"
     ]
    }
   ],
   "source": [
    "print({key: value for key, value in sorted(cuisine_dict.items(), key=lambda item: item[1])})"
   ]
  },
  {
   "cell_type": "markdown",
   "metadata": {},
   "source": [
    "Самая популярная кухня - 'Vegetarian Friendly': 14021"
   ]
  },
  {
   "cell_type": "markdown",
   "metadata": {},
   "source": [
    "## 'price_range'"
   ]
  },
  {
   "cell_type": "code",
   "execution_count": 41,
   "metadata": {},
   "outputs": [
    {
     "data": {
      "text/plain": [
       "$$ - $$$    23041\n",
       "NaN         17361\n",
       "$            7816\n",
       "$$$$         1782\n",
       "Name: price_range, dtype: int64"
      ]
     },
     "execution_count": 41,
     "metadata": {},
     "output_type": "execute_result"
    }
   ],
   "source": [
    "data['price_range'].value_counts(dropna=False)"
   ]
  },
  {
   "cell_type": "code",
   "execution_count": 42,
   "metadata": {},
   "outputs": [
    {
     "data": {
      "text/plain": [
       "<bound method GroupBy.describe of <pandas.core.groupby.generic.DataFrameGroupBy object at 0x000001BFC7F3F448>>"
      ]
     },
     "execution_count": 42,
     "metadata": {},
     "output_type": "execute_result"
    }
   ],
   "source": [
    "data[['city', 'price_range']].groupby('city').describe"
   ]
  },
  {
   "cell_type": "markdown",
   "metadata": {},
   "source": [
    "Как видно ценовой диапазон, что в общей выборке, что по городам в основном средний '\\$\\$ \\- \\$\\\\$\\\\$'."
   ]
  },
  {
   "cell_type": "markdown",
   "metadata": {},
   "source": [
    "## 'number_of_reviews'"
   ]
  },
  {
   "cell_type": "code",
   "execution_count": 43,
   "metadata": {},
   "outputs": [
    {
     "data": {
      "text/plain": [
       "NaN       3200\n",
       "2.0       2403\n",
       "3.0       2042\n",
       "4.0       1707\n",
       "5.0       1471\n",
       "          ... \n",
       "5216.0       1\n",
       "1932.0       1\n",
       "1050.0       1\n",
       "1145.0       1\n",
       "1471.0       1\n",
       "Name: number_of_reviews, Length: 1574, dtype: int64"
      ]
     },
     "execution_count": 43,
     "metadata": {},
     "output_type": "execute_result"
    }
   ],
   "source": [
    "data['number_of_reviews'].value_counts(dropna=False)"
   ]
  },
  {
   "cell_type": "code",
   "execution_count": 44,
   "metadata": {},
   "outputs": [
    {
     "data": {
      "text/plain": [
       "count    46800.000000\n",
       "mean       124.471197\n",
       "std        294.114345\n",
       "min          2.000000\n",
       "25%          9.000000\n",
       "50%         33.000000\n",
       "75%        115.000000\n",
       "max       9660.000000\n",
       "Name: number_of_reviews, dtype: float64"
      ]
     },
     "execution_count": 44,
     "metadata": {},
     "output_type": "execute_result"
    }
   ],
   "source": [
    "data['number_of_reviews'].describe()"
   ]
  },
  {
   "cell_type": "code",
   "execution_count": 45,
   "metadata": {
    "scrolled": true
   },
   "outputs": [
    {
     "data": {
      "text/html": [
       "<div>\n",
       "<style scoped>\n",
       "    .dataframe tbody tr th:only-of-type {\n",
       "        vertical-align: middle;\n",
       "    }\n",
       "\n",
       "    .dataframe tbody tr th {\n",
       "        vertical-align: top;\n",
       "    }\n",
       "\n",
       "    .dataframe thead th {\n",
       "        text-align: right;\n",
       "    }\n",
       "</style>\n",
       "<table border=\"1\" class=\"dataframe\">\n",
       "  <thead>\n",
       "    <tr style=\"text-align: right;\">\n",
       "      <th></th>\n",
       "      <th>restaurant_id</th>\n",
       "      <th>city</th>\n",
       "      <th>cuisine_style</th>\n",
       "      <th>ranking</th>\n",
       "      <th>price_range</th>\n",
       "      <th>number_of_reviews</th>\n",
       "      <th>reviews</th>\n",
       "      <th>url_ta</th>\n",
       "      <th>id_ta</th>\n",
       "      <th>sample</th>\n",
       "      <th>rating</th>\n",
       "    </tr>\n",
       "  </thead>\n",
       "  <tbody>\n",
       "    <tr>\n",
       "      <td>1369</td>\n",
       "      <td>id_1369</td>\n",
       "      <td>Rome</td>\n",
       "      <td>['Pizza', 'Italian', 'Vegetarian Friendly', 'V...</td>\n",
       "      <td>95.0</td>\n",
       "      <td>$$ - $$$</td>\n",
       "      <td>5037.0</td>\n",
       "      <td>[['Best dinner we had in Italy and in our ent....</td>\n",
       "      <td>/Restaurant_Review-g187791-d3666269-Reviews-Da...</td>\n",
       "      <td>d3666269</td>\n",
       "      <td>0</td>\n",
       "      <td>0.0</td>\n",
       "    </tr>\n",
       "    <tr>\n",
       "      <td>2550</td>\n",
       "      <td>id_2550</td>\n",
       "      <td>London</td>\n",
       "      <td>['British', 'French', 'European', 'Vegetarian ...</td>\n",
       "      <td>274.0</td>\n",
       "      <td>$$$$</td>\n",
       "      <td>5011.0</td>\n",
       "      <td>[['Lovely chilled lunch', 'Birthday Lunch'], [...</td>\n",
       "      <td>/Restaurant_Review-g186338-d776287-Reviews-The...</td>\n",
       "      <td>d776287</td>\n",
       "      <td>0</td>\n",
       "      <td>0.0</td>\n",
       "    </tr>\n",
       "    <tr>\n",
       "      <td>5295</td>\n",
       "      <td>id_5295</td>\n",
       "      <td>Brussels</td>\n",
       "      <td>['French', 'Belgian', 'Seafood', 'European']</td>\n",
       "      <td>189.0</td>\n",
       "      <td>$$ - $$$</td>\n",
       "      <td>6437.0</td>\n",
       "      <td>[['Interesting restaurant, not sure of the fu....</td>\n",
       "      <td>/Restaurant_Review-g188644-d694788-Reviews-Che...</td>\n",
       "      <td>d694788</td>\n",
       "      <td>0</td>\n",
       "      <td>0.0</td>\n",
       "    </tr>\n",
       "    <tr>\n",
       "      <td>14817</td>\n",
       "      <td>id_144</td>\n",
       "      <td>Rome</td>\n",
       "      <td>['Italian', 'Mediterranean', 'European', 'Vege...</td>\n",
       "      <td>145.0</td>\n",
       "      <td>$$ - $$$</td>\n",
       "      <td>5927.0</td>\n",
       "      <td>[['Incredible food!', 'That is a more :-)'], [...</td>\n",
       "      <td>/Restaurant_Review-g187791-d1207928-Reviews-Th...</td>\n",
       "      <td>d1207928</td>\n",
       "      <td>1</td>\n",
       "      <td>4.5</td>\n",
       "    </tr>\n",
       "    <tr>\n",
       "      <td>15717</td>\n",
       "      <td>id_559</td>\n",
       "      <td>London</td>\n",
       "      <td>['Chinese', 'Asian', 'Vegetarian Friendly', 'V...</td>\n",
       "      <td>560.0</td>\n",
       "      <td>$$$$</td>\n",
       "      <td>5216.0</td>\n",
       "      <td>[['You go for the view and are surprised by t....</td>\n",
       "      <td>/Restaurant_Review-g186338-d4346684-Reviews-Hu...</td>\n",
       "      <td>d4346684</td>\n",
       "      <td>1</td>\n",
       "      <td>4.0</td>\n",
       "    </tr>\n",
       "    <tr>\n",
       "      <td>18516</td>\n",
       "      <td>id_266</td>\n",
       "      <td>Amsterdam</td>\n",
       "      <td>['Barbecue', 'American', 'Vegetarian Friendly'...</td>\n",
       "      <td>267.0</td>\n",
       "      <td>$$ - $$$</td>\n",
       "      <td>6777.0</td>\n",
       "      <td>[['Love ! Food and cocktails amazing!', 'As al...</td>\n",
       "      <td>/Restaurant_Review-g188590-d1010937-Reviews-Ha...</td>\n",
       "      <td>d1010937</td>\n",
       "      <td>1</td>\n",
       "      <td>4.0</td>\n",
       "    </tr>\n",
       "    <tr>\n",
       "      <td>25779</td>\n",
       "      <td>id_430</td>\n",
       "      <td>Paris</td>\n",
       "      <td>['French', 'European', 'Contemporary', 'Vegeta...</td>\n",
       "      <td>431.0</td>\n",
       "      <td>$$$$</td>\n",
       "      <td>7622.0</td>\n",
       "      <td>[['This night is not about the meal, it is ab....</td>\n",
       "      <td>/Restaurant_Review-g187147-d736855-Reviews-58_...</td>\n",
       "      <td>d736855</td>\n",
       "      <td>1</td>\n",
       "      <td>4.0</td>\n",
       "    </tr>\n",
       "    <tr>\n",
       "      <td>26433</td>\n",
       "      <td>id_12</td>\n",
       "      <td>Budapest</td>\n",
       "      <td>['Hungarian', 'Vegetarian Friendly', 'Vegan Op...</td>\n",
       "      <td>13.0</td>\n",
       "      <td>$$ - $$$</td>\n",
       "      <td>7575.0</td>\n",
       "      <td>[['Traditional food, all local and great', 'Co...</td>\n",
       "      <td>/Restaurant_Review-g274887-d3351231-Reviews-Hu...</td>\n",
       "      <td>d3351231</td>\n",
       "      <td>1</td>\n",
       "      <td>4.5</td>\n",
       "    </tr>\n",
       "    <tr>\n",
       "      <td>28450</td>\n",
       "      <td>id_324</td>\n",
       "      <td>Madrid</td>\n",
       "      <td>['Bar', 'Mediterranean', 'European', 'Spanish']</td>\n",
       "      <td>325.0</td>\n",
       "      <td>$</td>\n",
       "      <td>6013.0</td>\n",
       "      <td>[['Good bar and menu options', 'Ham Museum is ...</td>\n",
       "      <td>/Restaurant_Review-g187514-d1737081-Reviews-Mu...</td>\n",
       "      <td>d1737081</td>\n",
       "      <td>1</td>\n",
       "      <td>4.0</td>\n",
       "    </tr>\n",
       "    <tr>\n",
       "      <td>29251</td>\n",
       "      <td>id_375</td>\n",
       "      <td>London</td>\n",
       "      <td>['British', 'Vegetarian Friendly', 'Gluten Fre...</td>\n",
       "      <td>376.0</td>\n",
       "      <td>$$$$</td>\n",
       "      <td>9660.0</td>\n",
       "      <td>[['Lovely setting and decent food', 'A Christm...</td>\n",
       "      <td>/Restaurant_Review-g186338-d1421189-Reviews-Lo...</td>\n",
       "      <td>d1421189</td>\n",
       "      <td>1</td>\n",
       "      <td>4.0</td>\n",
       "    </tr>\n",
       "    <tr>\n",
       "      <td>31860</td>\n",
       "      <td>id_714</td>\n",
       "      <td>Milan</td>\n",
       "      <td>['Italian', 'Pizza', 'Seafood', 'Fast Food', '...</td>\n",
       "      <td>716.0</td>\n",
       "      <td>$$ - $$$</td>\n",
       "      <td>5870.0</td>\n",
       "      <td>[['Regional cuisine', 'Nice lunch'], ['01/01/2...</td>\n",
       "      <td>/Restaurant_Review-g187849-d2219219-Reviews-Ea...</td>\n",
       "      <td>d2219219</td>\n",
       "      <td>1</td>\n",
       "      <td>3.5</td>\n",
       "    </tr>\n",
       "    <tr>\n",
       "      <td>37027</td>\n",
       "      <td>id_64</td>\n",
       "      <td>Rome</td>\n",
       "      <td>['Italian', 'Vegetarian Friendly', 'Vegan Opti...</td>\n",
       "      <td>65.0</td>\n",
       "      <td>$$ - $$$</td>\n",
       "      <td>8927.0</td>\n",
       "      <td>[['Best Service !!!!', 'Simply amazing!'], ['0...</td>\n",
       "      <td>/Restaurant_Review-g187791-d2094750-Reviews-Ca...</td>\n",
       "      <td>d2094750</td>\n",
       "      <td>1</td>\n",
       "      <td>4.5</td>\n",
       "    </tr>\n",
       "    <tr>\n",
       "      <td>42909</td>\n",
       "      <td>id_630</td>\n",
       "      <td>Milan</td>\n",
       "      <td>['Pizza', 'Vegetarian Friendly']</td>\n",
       "      <td>632.0</td>\n",
       "      <td>$</td>\n",
       "      <td>6360.0</td>\n",
       "      <td>[['Good pizza', 'Mmmm delicious'], ['01/09/201...</td>\n",
       "      <td>/Restaurant_Review-g187849-d1097521-Reviews-Pi...</td>\n",
       "      <td>d1097521</td>\n",
       "      <td>1</td>\n",
       "      <td>3.5</td>\n",
       "    </tr>\n",
       "    <tr>\n",
       "      <td>49071</td>\n",
       "      <td>id_2510</td>\n",
       "      <td>Rome</td>\n",
       "      <td>['Italian', 'Pizza', 'Mediterranean', 'Europea...</td>\n",
       "      <td>2511.0</td>\n",
       "      <td>$</td>\n",
       "      <td>6309.0</td>\n",
       "      <td>[['Very good value for money', 'Good food at r...</td>\n",
       "      <td>/Restaurant_Review-g187791-d1034580-Reviews-Ri...</td>\n",
       "      <td>d1034580</td>\n",
       "      <td>1</td>\n",
       "      <td>3.5</td>\n",
       "    </tr>\n",
       "  </tbody>\n",
       "</table>\n",
       "</div>"
      ],
      "text/plain": [
       "      restaurant_id       city  \\\n",
       "1369        id_1369       Rome   \n",
       "2550        id_2550     London   \n",
       "5295        id_5295   Brussels   \n",
       "14817        id_144       Rome   \n",
       "15717        id_559     London   \n",
       "18516        id_266  Amsterdam   \n",
       "25779        id_430      Paris   \n",
       "26433         id_12   Budapest   \n",
       "28450        id_324     Madrid   \n",
       "29251        id_375     London   \n",
       "31860        id_714      Milan   \n",
       "37027         id_64       Rome   \n",
       "42909        id_630      Milan   \n",
       "49071       id_2510       Rome   \n",
       "\n",
       "                                           cuisine_style  ranking price_range  \\\n",
       "1369   ['Pizza', 'Italian', 'Vegetarian Friendly', 'V...     95.0    $$ - $$$   \n",
       "2550   ['British', 'French', 'European', 'Vegetarian ...    274.0        $$$$   \n",
       "5295        ['French', 'Belgian', 'Seafood', 'European']    189.0    $$ - $$$   \n",
       "14817  ['Italian', 'Mediterranean', 'European', 'Vege...    145.0    $$ - $$$   \n",
       "15717  ['Chinese', 'Asian', 'Vegetarian Friendly', 'V...    560.0        $$$$   \n",
       "18516  ['Barbecue', 'American', 'Vegetarian Friendly'...    267.0    $$ - $$$   \n",
       "25779  ['French', 'European', 'Contemporary', 'Vegeta...    431.0        $$$$   \n",
       "26433  ['Hungarian', 'Vegetarian Friendly', 'Vegan Op...     13.0    $$ - $$$   \n",
       "28450    ['Bar', 'Mediterranean', 'European', 'Spanish']    325.0           $   \n",
       "29251  ['British', 'Vegetarian Friendly', 'Gluten Fre...    376.0        $$$$   \n",
       "31860  ['Italian', 'Pizza', 'Seafood', 'Fast Food', '...    716.0    $$ - $$$   \n",
       "37027  ['Italian', 'Vegetarian Friendly', 'Vegan Opti...     65.0    $$ - $$$   \n",
       "42909                   ['Pizza', 'Vegetarian Friendly']    632.0           $   \n",
       "49071  ['Italian', 'Pizza', 'Mediterranean', 'Europea...   2511.0           $   \n",
       "\n",
       "       number_of_reviews                                            reviews  \\\n",
       "1369              5037.0  [['Best dinner we had in Italy and in our ent....   \n",
       "2550              5011.0  [['Lovely chilled lunch', 'Birthday Lunch'], [...   \n",
       "5295              6437.0  [['Interesting restaurant, not sure of the fu....   \n",
       "14817             5927.0  [['Incredible food!', 'That is a more :-)'], [...   \n",
       "15717             5216.0  [['You go for the view and are surprised by t....   \n",
       "18516             6777.0  [['Love ! Food and cocktails amazing!', 'As al...   \n",
       "25779             7622.0  [['This night is not about the meal, it is ab....   \n",
       "26433             7575.0  [['Traditional food, all local and great', 'Co...   \n",
       "28450             6013.0  [['Good bar and menu options', 'Ham Museum is ...   \n",
       "29251             9660.0  [['Lovely setting and decent food', 'A Christm...   \n",
       "31860             5870.0  [['Regional cuisine', 'Nice lunch'], ['01/01/2...   \n",
       "37027             8927.0  [['Best Service !!!!', 'Simply amazing!'], ['0...   \n",
       "42909             6360.0  [['Good pizza', 'Mmmm delicious'], ['01/09/201...   \n",
       "49071             6309.0  [['Very good value for money', 'Good food at r...   \n",
       "\n",
       "                                                  url_ta     id_ta  sample  \\\n",
       "1369   /Restaurant_Review-g187791-d3666269-Reviews-Da...  d3666269       0   \n",
       "2550   /Restaurant_Review-g186338-d776287-Reviews-The...   d776287       0   \n",
       "5295   /Restaurant_Review-g188644-d694788-Reviews-Che...   d694788       0   \n",
       "14817  /Restaurant_Review-g187791-d1207928-Reviews-Th...  d1207928       1   \n",
       "15717  /Restaurant_Review-g186338-d4346684-Reviews-Hu...  d4346684       1   \n",
       "18516  /Restaurant_Review-g188590-d1010937-Reviews-Ha...  d1010937       1   \n",
       "25779  /Restaurant_Review-g187147-d736855-Reviews-58_...   d736855       1   \n",
       "26433  /Restaurant_Review-g274887-d3351231-Reviews-Hu...  d3351231       1   \n",
       "28450  /Restaurant_Review-g187514-d1737081-Reviews-Mu...  d1737081       1   \n",
       "29251  /Restaurant_Review-g186338-d1421189-Reviews-Lo...  d1421189       1   \n",
       "31860  /Restaurant_Review-g187849-d2219219-Reviews-Ea...  d2219219       1   \n",
       "37027  /Restaurant_Review-g187791-d2094750-Reviews-Ca...  d2094750       1   \n",
       "42909  /Restaurant_Review-g187849-d1097521-Reviews-Pi...  d1097521       1   \n",
       "49071  /Restaurant_Review-g187791-d1034580-Reviews-Ri...  d1034580       1   \n",
       "\n",
       "       rating  \n",
       "1369      0.0  \n",
       "2550      0.0  \n",
       "5295      0.0  \n",
       "14817     4.5  \n",
       "15717     4.0  \n",
       "18516     4.0  \n",
       "25779     4.0  \n",
       "26433     4.5  \n",
       "28450     4.0  \n",
       "29251     4.0  \n",
       "31860     3.5  \n",
       "37027     4.5  \n",
       "42909     3.5  \n",
       "49071     3.5  "
      ]
     },
     "execution_count": 45,
     "metadata": {},
     "output_type": "execute_result"
    }
   ],
   "source": [
    "data[data['number_of_reviews'] > 5000 ]"
   ]
  },
  {
   "cell_type": "code",
   "execution_count": 46,
   "metadata": {},
   "outputs": [
    {
     "data": {
      "text/plain": [
       "<bound method GroupBy.describe of <pandas.core.groupby.generic.DataFrameGroupBy object at 0x000001BFC74CB988>>"
      ]
     },
     "execution_count": 46,
     "metadata": {},
     "output_type": "execute_result"
    }
   ],
   "source": [
    "data[['city', 'number_of_reviews']].groupby('city').describe"
   ]
  },
  {
   "cell_type": "markdown",
   "metadata": {},
   "source": [
    "## 'reviews'"
   ]
  },
  {
   "cell_type": "code",
   "execution_count": 47,
   "metadata": {},
   "outputs": [
    {
     "data": {
      "text/plain": [
       "31"
      ]
     },
     "execution_count": 47,
     "metadata": {},
     "output_type": "execute_result"
    }
   ],
   "source": [
    "len(data['reviews'].value_counts().loc[lambda x : x > 1])"
   ]
  },
  {
   "cell_type": "code",
   "execution_count": 48,
   "metadata": {},
   "outputs": [
    {
     "data": {
      "text/plain": [
       "[[], []]                                                                                                                              8112\n",
       "[['Very average food. Over average prices.', 'great food with great service!'], ['11/17/2017', '08/17/2017']]                            2\n",
       "[['Improve your service', 'Great value chain restaurant'], ['12/14/2017', '07/30/2017']]                                                 2\n",
       "[['ok for beer, not for dinner'], ['12/20/2017']]                                                                                        2\n",
       "[['Good service and clean', 'Chinese fusion cuisine - ok to try if you...'], ['11/21/2017', '05/23/2017']]                               2\n",
       "[['Excellent cuisine, friendly and helpful se...', 'Not tasty'], ['12/25/2016', '06/05/2016']]                                           2\n",
       "[['Enjoyable restaurant with indoor and outdo...', 'Delicious food'], ['11/04/2017', '10/31/2017']]                                      2\n",
       "[['Very cozy!', 'Service rate: 1'], ['01/17/2016', '11/18/2015']]                                                                        2\n",
       "[['Excellent food food', 'Fantastic sushi served tapas style'], ['09/07/2016', '02/21/2016']]                                            2\n",
       "[['Great food, service and atmosphere', 'Decor and food'], ['11/06/2017', '10/22/2017']]                                                 2\n",
       "[['Great coffee and pastries, sandwiches, ver...', 'Great breakfast!'], ['02/21/2017', '09/19/2016']]                                    2\n",
       "[['Absolutely authentic and delicious!', 'Wonderful discovery'], ['09/30/2017', '08/04/2016']]                                           2\n",
       "[['Delicious'], ['06/06/2017']]                                                                                                          2\n",
       "[['Nice restaurant in Madrid', 'Highly reccomended'], ['11/10/2017', '05/21/2017']]                                                      2\n",
       "[['Good Lebanese food', 'Decent place'], ['07/19/2017', '03/17/2017']]                                                                   2\n",
       "[['The real codido madrileño'], ['03/31/2017']]                                                                                          2\n",
       "[['Great Food! Wide Variety.', 'Dinner'], ['11/26/2017', '05/23/2017']]                                                                  2\n",
       "[['Sat night', 'Can\\'t even explain.. \"A\" place.. A \"100...'], ['10/22/2017', '05/11/2017']]                                             2\n",
       "[['Delicious soup', 'My weekly treat'], ['03/19/2017', '07/30/2017']]                                                                    2\n",
       "[['Excellent'], ['09/03/2015']]                                                                                                          2\n",
       "[['Good restaurant for one meal.', 'Olive Garden Restaurant Warsaw. Food very...'], ['04/20/2015', '07/15/2013']]                        2\n",
       "[['Good Paella', 'Good enough. Nothing more'], ['09/20/2017', '05/29/2017']]                                                             2\n",
       "[['Thursday snack', 'Good value for money & good food!'], ['03/13/2017', '06/20/2016']]                                                  2\n",
       "[['Fantastic food, Excellent service', 'Surprising good Indian food in Spain'], ['01/07/2018', '11/08/2017']]                            2\n",
       "[['Happened to drop in', 'Right for a quick bite'], ['11/30/2016', '06/20/2015']]                                                        2\n",
       "[['Whenever in Madrid, we never miss this gem...', 'Underrated sushi restaurant with very good...'], ['04/11/2017', '12/02/2016']]       2\n",
       "[['Very good all around', 'Our first Madrid restaurant'], ['11/20/2017', '10/11/2017']]                                                  2\n",
       "[['Visited the rooftop bar', 'SIXTH FLOOR ROOFTOP BUT YOU CAN ONLY SEE O...'], ['06/27/2017', '10/31/2017']]                             2\n",
       "[['Simply Excellent!', 'Modern!'], ['10/22/2017', '08/29/2017']]                                                                         2\n",
       "[['Healthy vegan doughnuts are posible', 'Best Vegan Donut in the world !!!'], ['11/17/2017', '11/16/2017']]                             2\n",
       "[['Great Asian Option', 'Wow'], ['10/16/2017', '09/07/2016']]                                                                            2\n",
       "Name: reviews, dtype: int64"
      ]
     },
     "execution_count": 48,
     "metadata": {},
     "output_type": "execute_result"
    }
   ],
   "source": [
    "data['reviews'].value_counts().loc[lambda x : x > 1]"
   ]
  },
  {
   "cell_type": "markdown",
   "metadata": {},
   "source": [
    "В датасете встречаются дублированные отзывы. Количество повторов не более двух. Также 8112 записей с пустыми отзывами"
   ]
  },
  {
   "cell_type": "markdown",
   "metadata": {},
   "source": [
    "## url_ta\n"
   ]
  },
  {
   "cell_type": "code",
   "execution_count": 49,
   "metadata": {},
   "outputs": [
    {
     "data": {
      "text/plain": [
       "/Restaurant_Review-g187514-d697406-Reviews-Al_Mounia-Madrid.html                                                    2\n",
       "/Restaurant_Review-g187514-d12488993-Reviews-Kathmandu_Tandoori_House_Nepali_Indian_Cuisine-Madrid.html             2\n",
       "/Restaurant_Review-g187514-d793170-Reviews-Caripen_Bistro-Madrid.html                                               2\n",
       "/Restaurant_Review-g187514-d7827387-Reviews-El_Gusto_Es_Nuestro-Madrid.html                                         2\n",
       "/Restaurant_Review-g187514-d11698990-Reviews-Verdello_Restaurante-Madrid.html                                       2\n",
       "/Restaurant_Review-g187514-d1028622-Reviews-La_Terraza_del_Urban-Madrid.html                                        2\n",
       "/Restaurant_Review-g187514-d8753348-Reviews-Tropecientos-Madrid.html                                                2\n",
       "/Restaurant_Review-g187514-d2669414-Reviews-Vips-Madrid.html                                                        2\n",
       "/Restaurant_Review-g187514-d2360290-Reviews-Lounge_Yi-Madrid.html                                                   2\n",
       "/Restaurant_Review-g187514-d10440367-Reviews-Banyui_Thai_Restaurant-Madrid.html                                     2\n",
       "/Restaurant_Review-g187514-d13002276-Reviews-Delish_Vegan_Doughnuts-Madrid.html                                     2\n",
       "/Restaurant_Review-g187514-d7337366-Reviews-Lady_Madonna-Madrid.html                                                2\n",
       "/Restaurant_Review-g187514-d987900-Reviews-Compostela_Restaurante-Madrid.html                                       2\n",
       "/Restaurant_Review-g187514-d3647024-Reviews-La_Zamorana-Madrid.html                                                 2\n",
       "/Restaurant_Review-g187514-d9877640-Reviews-Raku_Sushi-Madrid.html                                                  2\n",
       "/Restaurant_Review-g187514-d4600226-Reviews-Cafeteria_Teresa-Madrid.html                                            2\n",
       "/Restaurant_Review-g187514-d11999956-Reviews-SugarCane_Madrid-Madrid.html                                           2\n",
       "/Restaurant_Review-g187514-d3685055-Reviews-Shukran-Madrid.html                                                     2\n",
       "/Restaurant_Review-g187514-d5617412-Reviews-Green_Marta_Iii-Madrid.html                                             2\n",
       "/Restaurant_Review-g187514-d3161682-Reviews-Cerveceria_La_Surena-Madrid.html                                        2\n",
       "/Restaurant_Review-g187514-d2477531-Reviews-Haya_19-Madrid.html                                                     2\n",
       "/Restaurant_Review-g187514-d1568045-Reviews-Restaurante_Lateral_Santa_Ana-Madrid.html                               2\n",
       "/Restaurant_Review-g187514-d5618007-Reviews-Juanyta_ME_MATA-Madrid.html                                             2\n",
       "/Restaurant_Review-g187514-d4914988-Reviews-Xiang_Asia_Restaurant-Madrid.html                                       2\n",
       "/Restaurant_Review-g187514-d11674463-Reviews-Beerhouse-Madrid.html                                                  2\n",
       "/Restaurant_Review-g187514-d7809594-Reviews-La_Guapa-Madrid.html                                                    2\n",
       "/Restaurant_Review-g187514-d1235635-Reviews-Restaurante_Arroceria_Puerta_de_Atocha-Madrid.html                      2\n",
       "/Restaurant_Review-g274856-d3396817-Reviews-Restauracja_Olive_Garden-Warsaw_Mazovia_Province_Central_Poland.html    2\n",
       "/Restaurant_Review-g187514-d2010743-Reviews-Restaurant_Furusato-Madrid.html                                         2\n",
       "/Restaurant_Review-g187514-d11921719-Reviews-Crepets-Madrid.html                                                    2\n",
       "/Restaurant_Review-g187514-d9802625-Reviews-La_Vie_en_Doux-Madrid.html                                              2\n",
       "/Restaurant_Review-g187514-d1315077-Reviews-El_Pimiento_Verde-Madrid.html                                           2\n",
       "/Restaurant_Review-g187514-d4748208-Reviews-Restaurante_Te_Oriental-Madrid.html                                     2\n",
       "/Restaurant_Review-g187514-d10047799-Reviews-Entrepuntos-Madrid.html                                                2\n",
       "/Restaurant_Review-g187514-d7342803-Reviews-Los_Hierros-Madrid.html                                                 2\n",
       "/Restaurant_Review-g274856-d10316215-Reviews-Basico_Pizza-Warsaw_Mazovia_Province_Central_Poland.html               2\n",
       "/Restaurant_Review-g187514-d3748757-Reviews-D_O_C_C_Prado-Madrid.html                                               2\n",
       "Name: url_ta, dtype: int64"
      ]
     },
     "execution_count": 49,
     "metadata": {},
     "output_type": "execute_result"
    }
   ],
   "source": [
    "data['url_ta'].value_counts().loc[lambda x : x > 1]"
   ]
  },
  {
   "cell_type": "code",
   "execution_count": 50,
   "metadata": {},
   "outputs": [
    {
     "data": {
      "text/plain": [
       "37"
      ]
     },
     "execution_count": 50,
     "metadata": {},
     "output_type": "execute_result"
    }
   ],
   "source": [
    "len(data['url_ta'].value_counts().loc[lambda x : x > 1])"
   ]
  },
  {
   "cell_type": "code",
   "execution_count": 51,
   "metadata": {},
   "outputs": [
    {
     "data": {
      "text/plain": [
       "d1028622     2\n",
       "d2669414     2\n",
       "d2477531     2\n",
       "d7809594     2\n",
       "d7342803     2\n",
       "d11698990    2\n",
       "d7337366     2\n",
       "d3647024     2\n",
       "d3161682     2\n",
       "d9877640     2\n",
       "d1568045     2\n",
       "d7827387     2\n",
       "d5618007     2\n",
       "d13002276    2\n",
       "d10440367    2\n",
       "d2360290     2\n",
       "d3748757     2\n",
       "d4748208     2\n",
       "d697406      2\n",
       "d987900      2\n",
       "d10047799    2\n",
       "d11674463    2\n",
       "d10316215    2\n",
       "d11999956    2\n",
       "d12488993    2\n",
       "d9802625     2\n",
       "d3685055     2\n",
       "d11921719    2\n",
       "d4914988     2\n",
       "d4600226     2\n",
       "d1315077     2\n",
       "d2010743     2\n",
       "d3396817     2\n",
       "d1235635     2\n",
       "d5617412     2\n",
       "d793170      2\n",
       "d8753348     2\n",
       "Name: id_ta, dtype: int64"
      ]
     },
     "execution_count": 51,
     "metadata": {},
     "output_type": "execute_result"
    }
   ],
   "source": [
    "data['id_ta'].value_counts().loc[lambda x : x > 1]"
   ]
  },
  {
   "cell_type": "code",
   "execution_count": 52,
   "metadata": {},
   "outputs": [
    {
     "data": {
      "text/plain": [
       "37"
      ]
     },
     "execution_count": 52,
     "metadata": {},
     "output_type": "execute_result"
    }
   ],
   "source": [
    "len(data['id_ta'].value_counts().loc[lambda x : x > 1])"
   ]
  },
  {
   "cell_type": "markdown",
   "metadata": {},
   "source": [
    "Дублируются идентификаторы ресторана в базе данных TripAdvisor"
   ]
  },
  {
   "cell_type": "code",
   "execution_count": 53,
   "metadata": {},
   "outputs": [
    {
     "name": "stdout",
     "output_type": "stream",
     "text": [
      "4534     [['Visited the rooftop bar', 'SIXTH FLOOR ROOF...\n",
      "28388    [['Visited the rooftop bar', 'SIXTH FLOOR ROOF...\n",
      "Name: reviews, dtype: object\n"
     ]
    }
   ],
   "source": [
    "print(data[data['id_ta'] == 'd1028622']['reviews'])"
   ]
  },
  {
   "cell_type": "code",
   "execution_count": 54,
   "metadata": {},
   "outputs": [
    {
     "data": {
      "text/html": [
       "<div>\n",
       "<style scoped>\n",
       "    .dataframe tbody tr th:only-of-type {\n",
       "        vertical-align: middle;\n",
       "    }\n",
       "\n",
       "    .dataframe tbody tr th {\n",
       "        vertical-align: top;\n",
       "    }\n",
       "\n",
       "    .dataframe thead th {\n",
       "        text-align: right;\n",
       "    }\n",
       "</style>\n",
       "<table border=\"1\" class=\"dataframe\">\n",
       "  <thead>\n",
       "    <tr style=\"text-align: right;\">\n",
       "      <th></th>\n",
       "      <th>restaurant_id</th>\n",
       "      <th>city</th>\n",
       "      <th>cuisine_style</th>\n",
       "      <th>ranking</th>\n",
       "      <th>price_range</th>\n",
       "      <th>number_of_reviews</th>\n",
       "      <th>reviews</th>\n",
       "      <th>url_ta</th>\n",
       "      <th>id_ta</th>\n",
       "      <th>sample</th>\n",
       "      <th>rating</th>\n",
       "    </tr>\n",
       "  </thead>\n",
       "  <tbody>\n",
       "    <tr>\n",
       "      <td>4534</td>\n",
       "      <td>id_4534</td>\n",
       "      <td>Madrid</td>\n",
       "      <td>['Bar', 'European', 'Spanish', 'Delicatessen']</td>\n",
       "      <td>1253.0</td>\n",
       "      <td>$$$$</td>\n",
       "      <td>116.0</td>\n",
       "      <td>[['Visited the rooftop bar', 'SIXTH FLOOR ROOF...</td>\n",
       "      <td>/Restaurant_Review-g187514-d1028622-Reviews-La...</td>\n",
       "      <td>d1028622</td>\n",
       "      <td>0</td>\n",
       "      <td>0.0</td>\n",
       "    </tr>\n",
       "    <tr>\n",
       "      <td>28388</td>\n",
       "      <td>id_1229</td>\n",
       "      <td>Madrid</td>\n",
       "      <td>['Bar', 'European', 'Spanish', 'Delicatessen']</td>\n",
       "      <td>1231.0</td>\n",
       "      <td>$$$$</td>\n",
       "      <td>116.0</td>\n",
       "      <td>[['Visited the rooftop bar', 'SIXTH FLOOR ROOF...</td>\n",
       "      <td>/Restaurant_Review-g187514-d1028622-Reviews-La...</td>\n",
       "      <td>d1028622</td>\n",
       "      <td>1</td>\n",
       "      <td>4.0</td>\n",
       "    </tr>\n",
       "  </tbody>\n",
       "</table>\n",
       "</div>"
      ],
      "text/plain": [
       "      restaurant_id    city                                   cuisine_style  \\\n",
       "4534        id_4534  Madrid  ['Bar', 'European', 'Spanish', 'Delicatessen']   \n",
       "28388       id_1229  Madrid  ['Bar', 'European', 'Spanish', 'Delicatessen']   \n",
       "\n",
       "       ranking price_range  number_of_reviews  \\\n",
       "4534    1253.0        $$$$              116.0   \n",
       "28388   1231.0        $$$$              116.0   \n",
       "\n",
       "                                                 reviews  \\\n",
       "4534   [['Visited the rooftop bar', 'SIXTH FLOOR ROOF...   \n",
       "28388  [['Visited the rooftop bar', 'SIXTH FLOOR ROOF...   \n",
       "\n",
       "                                                  url_ta     id_ta  sample  \\\n",
       "4534   /Restaurant_Review-g187514-d1028622-Reviews-La...  d1028622       0   \n",
       "28388  /Restaurant_Review-g187514-d1028622-Reviews-La...  d1028622       1   \n",
       "\n",
       "       rating  \n",
       "4534      0.0  \n",
       "28388     4.0  "
      ]
     },
     "execution_count": 54,
     "metadata": {},
     "output_type": "execute_result"
    }
   ],
   "source": [
    "data[data['id_ta'] == 'd1028622']"
   ]
  },
  {
   "cell_type": "markdown",
   "metadata": {},
   "source": [
    "## 4. Обработка неизвестных значений NaN и создание новых признаков. \n"
   ]
  },
  {
   "cell_type": "code",
   "execution_count": 55,
   "metadata": {},
   "outputs": [
    {
     "data": {
      "text/plain": [
       "<matplotlib.axes._subplots.AxesSubplot at 0x1bfc7f3df08>"
      ]
     },
     "execution_count": 55,
     "metadata": {},
     "output_type": "execute_result"
    },
    {
     "data": {
      "image/png": "[encoded data removed]",
      "text/plain": [
       "<Figure size 1800x720 with 1 Axes>"
      ]
     },
     "metadata": {
      "needs_background": "light"
     },
     "output_type": "display_data"
    }
   ],
   "source": [
    "msno.matrix(data, sparkline=False)"
   ]
  },
  {
   "cell_type": "code",
   "execution_count": 56,
   "metadata": {},
   "outputs": [
    {
     "data": {
      "text/plain": [
       "Index(['cuisine_style', 'price_range', 'number_of_reviews', 'reviews'], dtype='object')"
      ]
     },
     "execution_count": 56,
     "metadata": {},
     "output_type": "execute_result"
    }
   ],
   "source": [
    "cols_with_nans = (data.isnull().any()[lambda column: column]).index\n",
    "cols_with_nans"
   ]
  },
  {
   "cell_type": "markdown",
   "metadata": {},
   "source": [
    "#### Cоздаем признаки с пропущенными данными (0, 1):\n",
    "\n",
    "- number_of_reviews_isNAN\n",
    "- cuisine_style_isNAN\n",
    "- price_range_isNAN\n",
    "- reviwes_isNAN"
   ]
  },
  {
   "cell_type": "code",
   "execution_count": 57,
   "metadata": {
    "scrolled": true
   },
   "outputs": [
    {
     "data": {
      "text/html": [
       "<div>\n",
       "<style scoped>\n",
       "    .dataframe tbody tr th:only-of-type {\n",
       "        vertical-align: middle;\n",
       "    }\n",
       "\n",
       "    .dataframe tbody tr th {\n",
       "        vertical-align: top;\n",
       "    }\n",
       "\n",
       "    .dataframe thead th {\n",
       "        text-align: right;\n",
       "    }\n",
       "</style>\n",
       "<table border=\"1\" class=\"dataframe\">\n",
       "  <thead>\n",
       "    <tr style=\"text-align: right;\">\n",
       "      <th></th>\n",
       "      <th>restaurant_id</th>\n",
       "      <th>city</th>\n",
       "      <th>cuisine_style</th>\n",
       "      <th>ranking</th>\n",
       "      <th>price_range</th>\n",
       "      <th>number_of_reviews</th>\n",
       "      <th>reviews</th>\n",
       "      <th>url_ta</th>\n",
       "      <th>id_ta</th>\n",
       "      <th>sample</th>\n",
       "      <th>rating</th>\n",
       "      <th>number_of_reviews_isNAN</th>\n",
       "      <th>cuisine_style_isNAN</th>\n",
       "      <th>price_range_isNAN</th>\n",
       "      <th>reviwes_isNAN</th>\n",
       "    </tr>\n",
       "  </thead>\n",
       "  <tbody>\n",
       "    <tr>\n",
       "      <td>47400</td>\n",
       "      <td>id_2485</td>\n",
       "      <td>Amsterdam</td>\n",
       "      <td>['Dutch', 'European']</td>\n",
       "      <td>2492.0</td>\n",
       "      <td>NaN</td>\n",
       "      <td>2.0</td>\n",
       "      <td>[['Good chill out place', 'Cosy dutch inspired...</td>\n",
       "      <td>/Restaurant_Review-g188590-d6879059-Reviews-Re...</td>\n",
       "      <td>d6879059</td>\n",
       "      <td>1</td>\n",
       "      <td>4.5</td>\n",
       "      <td>0</td>\n",
       "      <td>0</td>\n",
       "      <td>1</td>\n",
       "      <td>0</td>\n",
       "    </tr>\n",
       "    <tr>\n",
       "      <td>32832</td>\n",
       "      <td>id_9411</td>\n",
       "      <td>London</td>\n",
       "      <td>['African', 'European']</td>\n",
       "      <td>9420.0</td>\n",
       "      <td>$$$$</td>\n",
       "      <td>NaN</td>\n",
       "      <td>[['Perfection in Peckham'], ['12/23/2017']]</td>\n",
       "      <td>/Restaurant_Review-g186338-d13294491-Reviews-K...</td>\n",
       "      <td>d13294491</td>\n",
       "      <td>1</td>\n",
       "      <td>5.0</td>\n",
       "      <td>1</td>\n",
       "      <td>0</td>\n",
       "      <td>0</td>\n",
       "      <td>0</td>\n",
       "    </tr>\n",
       "    <tr>\n",
       "      <td>46989</td>\n",
       "      <td>id_3832</td>\n",
       "      <td>Milan</td>\n",
       "      <td>NaN</td>\n",
       "      <td>3834.0</td>\n",
       "      <td>NaN</td>\n",
       "      <td>18.0</td>\n",
       "      <td>[[], []]</td>\n",
       "      <td>/Restaurant_Review-g187849-d6432239-Reviews-Le...</td>\n",
       "      <td>d6432239</td>\n",
       "      <td>1</td>\n",
       "      <td>4.0</td>\n",
       "      <td>0</td>\n",
       "      <td>1</td>\n",
       "      <td>1</td>\n",
       "      <td>0</td>\n",
       "    </tr>\n",
       "    <tr>\n",
       "      <td>49395</td>\n",
       "      <td>id_9822</td>\n",
       "      <td>Paris</td>\n",
       "      <td>NaN</td>\n",
       "      <td>9824.0</td>\n",
       "      <td>NaN</td>\n",
       "      <td>8.0</td>\n",
       "      <td>[['Yummy Fries', 'Great chicken!'], ['01/04/20...</td>\n",
       "      <td>/Restaurant_Review-g187147-d9569868-Reviews-La...</td>\n",
       "      <td>d9569868</td>\n",
       "      <td>1</td>\n",
       "      <td>4.0</td>\n",
       "      <td>0</td>\n",
       "      <td>1</td>\n",
       "      <td>1</td>\n",
       "      <td>0</td>\n",
       "    </tr>\n",
       "    <tr>\n",
       "      <td>47463</td>\n",
       "      <td>id_6895</td>\n",
       "      <td>London</td>\n",
       "      <td>NaN</td>\n",
       "      <td>6904.0</td>\n",
       "      <td>NaN</td>\n",
       "      <td>12.0</td>\n",
       "      <td>[['Great cafe', 'Cozy little restaurant'], ['0...</td>\n",
       "      <td>/Restaurant_Review-g186338-d8381516-Reviews-Ba...</td>\n",
       "      <td>d8381516</td>\n",
       "      <td>1</td>\n",
       "      <td>4.5</td>\n",
       "      <td>0</td>\n",
       "      <td>1</td>\n",
       "      <td>1</td>\n",
       "      <td>0</td>\n",
       "    </tr>\n",
       "    <tr>\n",
       "      <td>1703</td>\n",
       "      <td>id_1703</td>\n",
       "      <td>Zurich</td>\n",
       "      <td>NaN</td>\n",
       "      <td>1429.0</td>\n",
       "      <td>NaN</td>\n",
       "      <td>8.0</td>\n",
       "      <td>[['Nice savoury snacks but overpriced', 'Expen...</td>\n",
       "      <td>/Restaurant_Review-g188113-d10066497-Reviews-P...</td>\n",
       "      <td>d10066497</td>\n",
       "      <td>0</td>\n",
       "      <td>0.0</td>\n",
       "      <td>0</td>\n",
       "      <td>1</td>\n",
       "      <td>1</td>\n",
       "      <td>0</td>\n",
       "    </tr>\n",
       "    <tr>\n",
       "      <td>22233</td>\n",
       "      <td>id_1765</td>\n",
       "      <td>Prague</td>\n",
       "      <td>['European', 'Czech', 'Central European']</td>\n",
       "      <td>1768.0</td>\n",
       "      <td>$$ - $$$</td>\n",
       "      <td>24.0</td>\n",
       "      <td>[['quick lunch - good meal', 'Excellent meal']...</td>\n",
       "      <td>/Restaurant_Review-g274707-d2299212-Reviews-Re...</td>\n",
       "      <td>d2299212</td>\n",
       "      <td>1</td>\n",
       "      <td>4.0</td>\n",
       "      <td>0</td>\n",
       "      <td>0</td>\n",
       "      <td>0</td>\n",
       "      <td>0</td>\n",
       "    </tr>\n",
       "    <tr>\n",
       "      <td>34808</td>\n",
       "      <td>id_2846</td>\n",
       "      <td>Vienna</td>\n",
       "      <td>NaN</td>\n",
       "      <td>2848.0</td>\n",
       "      <td>NaN</td>\n",
       "      <td>6.0</td>\n",
       "      <td>[['Excellent', 'Mcdonalds is always there when...</td>\n",
       "      <td>/Restaurant_Review-g190454-d12556254-Reviews-M...</td>\n",
       "      <td>d12556254</td>\n",
       "      <td>1</td>\n",
       "      <td>3.5</td>\n",
       "      <td>0</td>\n",
       "      <td>1</td>\n",
       "      <td>1</td>\n",
       "      <td>0</td>\n",
       "    </tr>\n",
       "    <tr>\n",
       "      <td>47727</td>\n",
       "      <td>id_3367</td>\n",
       "      <td>Madrid</td>\n",
       "      <td>['International', 'Mediterranean', 'Spanish', ...</td>\n",
       "      <td>3369.0</td>\n",
       "      <td>$$ - $$$</td>\n",
       "      <td>34.0</td>\n",
       "      <td>[['Nice atmosphere, good food', 'stumbled in']...</td>\n",
       "      <td>/Restaurant_Review-g187514-d6090536-Reviews-Si...</td>\n",
       "      <td>d6090536</td>\n",
       "      <td>1</td>\n",
       "      <td>3.5</td>\n",
       "      <td>0</td>\n",
       "      <td>0</td>\n",
       "      <td>0</td>\n",
       "      <td>0</td>\n",
       "    </tr>\n",
       "    <tr>\n",
       "      <td>33718</td>\n",
       "      <td>id_10344</td>\n",
       "      <td>London</td>\n",
       "      <td>NaN</td>\n",
       "      <td>10353.0</td>\n",
       "      <td>NaN</td>\n",
       "      <td>3.0</td>\n",
       "      <td>[['Take-away', 'Kung Pao Chicken - the best'],...</td>\n",
       "      <td>/Restaurant_Review-g186338-d5220270-Reviews-Wi...</td>\n",
       "      <td>d5220270</td>\n",
       "      <td>1</td>\n",
       "      <td>4.5</td>\n",
       "      <td>0</td>\n",
       "      <td>1</td>\n",
       "      <td>1</td>\n",
       "      <td>0</td>\n",
       "    </tr>\n",
       "  </tbody>\n",
       "</table>\n",
       "</div>"
      ],
      "text/plain": [
       "      restaurant_id       city  \\\n",
       "47400       id_2485  Amsterdam   \n",
       "32832       id_9411     London   \n",
       "46989       id_3832      Milan   \n",
       "49395       id_9822      Paris   \n",
       "47463       id_6895     London   \n",
       "1703        id_1703     Zurich   \n",
       "22233       id_1765     Prague   \n",
       "34808       id_2846     Vienna   \n",
       "47727       id_3367     Madrid   \n",
       "33718      id_10344     London   \n",
       "\n",
       "                                           cuisine_style  ranking price_range  \\\n",
       "47400                              ['Dutch', 'European']   2492.0         NaN   \n",
       "32832                            ['African', 'European']   9420.0        $$$$   \n",
       "46989                                                NaN   3834.0         NaN   \n",
       "49395                                                NaN   9824.0         NaN   \n",
       "47463                                                NaN   6904.0         NaN   \n",
       "1703                                                 NaN   1429.0         NaN   \n",
       "22233          ['European', 'Czech', 'Central European']   1768.0    $$ - $$$   \n",
       "34808                                                NaN   2848.0         NaN   \n",
       "47727  ['International', 'Mediterranean', 'Spanish', ...   3369.0    $$ - $$$   \n",
       "33718                                                NaN  10353.0         NaN   \n",
       "\n",
       "       number_of_reviews                                            reviews  \\\n",
       "47400                2.0  [['Good chill out place', 'Cosy dutch inspired...   \n",
       "32832                NaN        [['Perfection in Peckham'], ['12/23/2017']]   \n",
       "46989               18.0                                           [[], []]   \n",
       "49395                8.0  [['Yummy Fries', 'Great chicken!'], ['01/04/20...   \n",
       "47463               12.0  [['Great cafe', 'Cozy little restaurant'], ['0...   \n",
       "1703                 8.0  [['Nice savoury snacks but overpriced', 'Expen...   \n",
       "22233               24.0  [['quick lunch - good meal', 'Excellent meal']...   \n",
       "34808                6.0  [['Excellent', 'Mcdonalds is always there when...   \n",
       "47727               34.0  [['Nice atmosphere, good food', 'stumbled in']...   \n",
       "33718                3.0  [['Take-away', 'Kung Pao Chicken - the best'],...   \n",
       "\n",
       "                                                  url_ta      id_ta  sample  \\\n",
       "47400  /Restaurant_Review-g188590-d6879059-Reviews-Re...   d6879059       1   \n",
       "32832  /Restaurant_Review-g186338-d13294491-Reviews-K...  d13294491       1   \n",
       "46989  /Restaurant_Review-g187849-d6432239-Reviews-Le...   d6432239       1   \n",
       "49395  /Restaurant_Review-g187147-d9569868-Reviews-La...   d9569868       1   \n",
       "47463  /Restaurant_Review-g186338-d8381516-Reviews-Ba...   d8381516       1   \n",
       "1703   /Restaurant_Review-g188113-d10066497-Reviews-P...  d10066497       0   \n",
       "22233  /Restaurant_Review-g274707-d2299212-Reviews-Re...   d2299212       1   \n",
       "34808  /Restaurant_Review-g190454-d12556254-Reviews-M...  d12556254       1   \n",
       "47727  /Restaurant_Review-g187514-d6090536-Reviews-Si...   d6090536       1   \n",
       "33718  /Restaurant_Review-g186338-d5220270-Reviews-Wi...   d5220270       1   \n",
       "\n",
       "       rating  number_of_reviews_isNAN  cuisine_style_isNAN  \\\n",
       "47400     4.5                        0                    0   \n",
       "32832     5.0                        1                    0   \n",
       "46989     4.0                        0                    1   \n",
       "49395     4.0                        0                    1   \n",
       "47463     4.5                        0                    1   \n",
       "1703      0.0                        0                    1   \n",
       "22233     4.0                        0                    0   \n",
       "34808     3.5                        0                    1   \n",
       "47727     3.5                        0                    0   \n",
       "33718     4.5                        0                    1   \n",
       "\n",
       "       price_range_isNAN  reviwes_isNAN  \n",
       "47400                  1              0  \n",
       "32832                  0              0  \n",
       "46989                  1              0  \n",
       "49395                  1              0  \n",
       "47463                  1              0  \n",
       "1703                   1              0  \n",
       "22233                  0              0  \n",
       "34808                  1              0  \n",
       "47727                  0              0  \n",
       "33718                  1              0  "
      ]
     },
     "execution_count": 57,
     "metadata": {},
     "output_type": "execute_result"
    }
   ],
   "source": [
    "data['number_of_reviews_isNAN'] = pd.isna(data['number_of_reviews']).astype('uint8')\n",
    "data['cuisine_style_isNAN'] = pd.isna(data['cuisine_style']).astype('uint8')\n",
    "data['price_range_isNAN'] = pd.isna(data['price_range']).astype('uint8')\n",
    "data['reviwes_isNAN'] = pd.isna(data['reviews']).astype('uint8')\n",
    "data.sample(10)"
   ]
  },
  {
   "cell_type": "markdown",
   "metadata": {},
   "source": [
    "#### Добавляем новый признак: capital"
   ]
  },
  {
   "cell_type": "code",
   "execution_count": 58,
   "metadata": {},
   "outputs": [
    {
     "data": {
      "text/html": [
       "<div>\n",
       "<style scoped>\n",
       "    .dataframe tbody tr th:only-of-type {\n",
       "        vertical-align: middle;\n",
       "    }\n",
       "\n",
       "    .dataframe tbody tr th {\n",
       "        vertical-align: top;\n",
       "    }\n",
       "\n",
       "    .dataframe thead th {\n",
       "        text-align: right;\n",
       "    }\n",
       "</style>\n",
       "<table border=\"1\" class=\"dataframe\">\n",
       "  <thead>\n",
       "    <tr style=\"text-align: right;\">\n",
       "      <th></th>\n",
       "      <th>CountryName</th>\n",
       "      <th>CapitalName</th>\n",
       "      <th>CapitalLatitude</th>\n",
       "      <th>CapitalLongitude</th>\n",
       "      <th>CountryCode</th>\n",
       "      <th>ContinentName</th>\n",
       "    </tr>\n",
       "  </thead>\n",
       "  <tbody>\n",
       "    <tr>\n",
       "      <td>0</td>\n",
       "      <td>Somaliland</td>\n",
       "      <td>Hargeisa</td>\n",
       "      <td>9.550000</td>\n",
       "      <td>44.050000</td>\n",
       "      <td>NaN</td>\n",
       "      <td>Africa</td>\n",
       "    </tr>\n",
       "    <tr>\n",
       "      <td>1</td>\n",
       "      <td>South Georgia and South Sandwich Islands</td>\n",
       "      <td>King Edward Point</td>\n",
       "      <td>-54.283333</td>\n",
       "      <td>-36.500000</td>\n",
       "      <td>GS</td>\n",
       "      <td>Antarctica</td>\n",
       "    </tr>\n",
       "    <tr>\n",
       "      <td>2</td>\n",
       "      <td>French Southern and Antarctic Lands</td>\n",
       "      <td>Port-aux-Français</td>\n",
       "      <td>-49.350000</td>\n",
       "      <td>70.216667</td>\n",
       "      <td>TF</td>\n",
       "      <td>Antarctica</td>\n",
       "    </tr>\n",
       "    <tr>\n",
       "      <td>3</td>\n",
       "      <td>Palestine</td>\n",
       "      <td>Jerusalem</td>\n",
       "      <td>31.766667</td>\n",
       "      <td>35.233333</td>\n",
       "      <td>PS</td>\n",
       "      <td>Asia</td>\n",
       "    </tr>\n",
       "    <tr>\n",
       "      <td>4</td>\n",
       "      <td>Aland Islands</td>\n",
       "      <td>Mariehamn</td>\n",
       "      <td>60.116667</td>\n",
       "      <td>19.900000</td>\n",
       "      <td>AX</td>\n",
       "      <td>Europe</td>\n",
       "    </tr>\n",
       "    <tr>\n",
       "      <td>...</td>\n",
       "      <td>...</td>\n",
       "      <td>...</td>\n",
       "      <td>...</td>\n",
       "      <td>...</td>\n",
       "      <td>...</td>\n",
       "      <td>...</td>\n",
       "    </tr>\n",
       "    <tr>\n",
       "      <td>240</td>\n",
       "      <td>Northern Cyprus</td>\n",
       "      <td>North Nicosia</td>\n",
       "      <td>35.183333</td>\n",
       "      <td>33.366667</td>\n",
       "      <td>NaN</td>\n",
       "      <td>Europe</td>\n",
       "    </tr>\n",
       "    <tr>\n",
       "      <td>241</td>\n",
       "      <td>Hong Kong</td>\n",
       "      <td>NaN</td>\n",
       "      <td>0.000000</td>\n",
       "      <td>0.000000</td>\n",
       "      <td>HK</td>\n",
       "      <td>Asia</td>\n",
       "    </tr>\n",
       "    <tr>\n",
       "      <td>242</td>\n",
       "      <td>Heard Island and McDonald Islands</td>\n",
       "      <td>NaN</td>\n",
       "      <td>0.000000</td>\n",
       "      <td>0.000000</td>\n",
       "      <td>HM</td>\n",
       "      <td>Antarctica</td>\n",
       "    </tr>\n",
       "    <tr>\n",
       "      <td>243</td>\n",
       "      <td>British Indian Ocean Territory</td>\n",
       "      <td>Diego Garcia</td>\n",
       "      <td>-7.300000</td>\n",
       "      <td>72.400000</td>\n",
       "      <td>IO</td>\n",
       "      <td>Africa</td>\n",
       "    </tr>\n",
       "    <tr>\n",
       "      <td>244</td>\n",
       "      <td>Macau</td>\n",
       "      <td>NaN</td>\n",
       "      <td>0.000000</td>\n",
       "      <td>0.000000</td>\n",
       "      <td>MO</td>\n",
       "      <td>Asia</td>\n",
       "    </tr>\n",
       "  </tbody>\n",
       "</table>\n",
       "<p>245 rows × 6 columns</p>\n",
       "</div>"
      ],
      "text/plain": [
       "                                  CountryName        CapitalName  \\\n",
       "0                                  Somaliland           Hargeisa   \n",
       "1    South Georgia and South Sandwich Islands  King Edward Point   \n",
       "2         French Southern and Antarctic Lands  Port-aux-Français   \n",
       "3                                   Palestine          Jerusalem   \n",
       "4                               Aland Islands          Mariehamn   \n",
       "..                                        ...                ...   \n",
       "240                           Northern Cyprus      North Nicosia   \n",
       "241                                 Hong Kong                NaN   \n",
       "242         Heard Island and McDonald Islands                NaN   \n",
       "243            British Indian Ocean Territory       Diego Garcia   \n",
       "244                                     Macau                NaN   \n",
       "\n",
       "     CapitalLatitude  CapitalLongitude CountryCode ContinentName  \n",
       "0           9.550000         44.050000         NaN        Africa  \n",
       "1         -54.283333        -36.500000          GS    Antarctica  \n",
       "2         -49.350000         70.216667          TF    Antarctica  \n",
       "3          31.766667         35.233333          PS          Asia  \n",
       "4          60.116667         19.900000          AX        Europe  \n",
       "..               ...               ...         ...           ...  \n",
       "240        35.183333         33.366667         NaN        Europe  \n",
       "241         0.000000          0.000000          HK          Asia  \n",
       "242         0.000000          0.000000          HM    Antarctica  \n",
       "243        -7.300000         72.400000          IO        Africa  \n",
       "244         0.000000          0.000000          MO          Asia  \n",
       "\n",
       "[245 rows x 6 columns]"
      ]
     },
     "execution_count": 58,
     "metadata": {},
     "output_type": "execute_result"
    }
   ],
   "source": [
    "capitals = pd.read_csv('concap.csv')\n",
    "capitals"
   ]
  },
  {
   "cell_type": "code",
   "execution_count": 59,
   "metadata": {},
   "outputs": [
    {
     "data": {
      "text/html": [
       "<div>\n",
       "<style scoped>\n",
       "    .dataframe tbody tr th:only-of-type {\n",
       "        vertical-align: middle;\n",
       "    }\n",
       "\n",
       "    .dataframe tbody tr th {\n",
       "        vertical-align: top;\n",
       "    }\n",
       "\n",
       "    .dataframe thead th {\n",
       "        text-align: right;\n",
       "    }\n",
       "</style>\n",
       "<table border=\"1\" class=\"dataframe\">\n",
       "  <thead>\n",
       "    <tr style=\"text-align: right;\">\n",
       "      <th></th>\n",
       "      <th>capital</th>\n",
       "    </tr>\n",
       "    <tr>\n",
       "      <th>country</th>\n",
       "      <th></th>\n",
       "    </tr>\n",
       "  </thead>\n",
       "  <tbody>\n",
       "    <tr>\n",
       "      <td>Wallis and Futuna</td>\n",
       "      <td>Mata-Utu</td>\n",
       "    </tr>\n",
       "    <tr>\n",
       "      <td>Jersey</td>\n",
       "      <td>Saint Helier</td>\n",
       "    </tr>\n",
       "    <tr>\n",
       "      <td>Mexico</td>\n",
       "      <td>Mexico City</td>\n",
       "    </tr>\n",
       "    <tr>\n",
       "      <td>Barbados</td>\n",
       "      <td>Bridgetown</td>\n",
       "    </tr>\n",
       "    <tr>\n",
       "      <td>Sint Maarten</td>\n",
       "      <td>Philipsburg</td>\n",
       "    </tr>\n",
       "    <tr>\n",
       "      <td>Palau</td>\n",
       "      <td>Melekeok</td>\n",
       "    </tr>\n",
       "    <tr>\n",
       "      <td>American Samoa</td>\n",
       "      <td>Pago Pago</td>\n",
       "    </tr>\n",
       "    <tr>\n",
       "      <td>Zambia</td>\n",
       "      <td>Lusaka</td>\n",
       "    </tr>\n",
       "    <tr>\n",
       "      <td>Bahamas</td>\n",
       "      <td>Nassau</td>\n",
       "    </tr>\n",
       "    <tr>\n",
       "      <td>Burkina Faso</td>\n",
       "      <td>Ouagadougou</td>\n",
       "    </tr>\n",
       "    <tr>\n",
       "      <td>Azerbaijan</td>\n",
       "      <td>Baku</td>\n",
       "    </tr>\n",
       "    <tr>\n",
       "      <td>Uzbekistan</td>\n",
       "      <td>Tashkent</td>\n",
       "    </tr>\n",
       "    <tr>\n",
       "      <td>Somaliland</td>\n",
       "      <td>Hargeisa</td>\n",
       "    </tr>\n",
       "    <tr>\n",
       "      <td>Cocos Islands</td>\n",
       "      <td>West Island</td>\n",
       "    </tr>\n",
       "    <tr>\n",
       "      <td>Heard Island and McDonald Islands</td>\n",
       "      <td>NaN</td>\n",
       "    </tr>\n",
       "    <tr>\n",
       "      <td>Saint Vincent and the Grenadines</td>\n",
       "      <td>Kingstown</td>\n",
       "    </tr>\n",
       "    <tr>\n",
       "      <td>Eritrea</td>\n",
       "      <td>Asmara</td>\n",
       "    </tr>\n",
       "    <tr>\n",
       "      <td>Palestine</td>\n",
       "      <td>Jerusalem</td>\n",
       "    </tr>\n",
       "    <tr>\n",
       "      <td>Greece</td>\n",
       "      <td>Athens</td>\n",
       "    </tr>\n",
       "    <tr>\n",
       "      <td>Ethiopia</td>\n",
       "      <td>Addis Ababa</td>\n",
       "    </tr>\n",
       "  </tbody>\n",
       "</table>\n",
       "</div>"
      ],
      "text/plain": [
       "                                        capital\n",
       "country                                        \n",
       "Wallis and Futuna                      Mata-Utu\n",
       "Jersey                             Saint Helier\n",
       "Mexico                              Mexico City\n",
       "Barbados                             Bridgetown\n",
       "Sint Maarten                        Philipsburg\n",
       "Palau                                  Melekeok\n",
       "American Samoa                        Pago Pago\n",
       "Zambia                                   Lusaka\n",
       "Bahamas                                  Nassau\n",
       "Burkina Faso                        Ouagadougou\n",
       "Azerbaijan                                 Baku\n",
       "Uzbekistan                             Tashkent\n",
       "Somaliland                             Hargeisa\n",
       "Cocos Islands                       West Island\n",
       "Heard Island and McDonald Islands           NaN\n",
       "Saint Vincent and the Grenadines      Kingstown\n",
       "Eritrea                                  Asmara\n",
       "Palestine                             Jerusalem\n",
       "Greece                                   Athens\n",
       "Ethiopia                            Addis Ababa"
      ]
     },
     "execution_count": 59,
     "metadata": {},
     "output_type": "execute_result"
    }
   ],
   "source": [
    "capitals = capitals[['CountryName', 'CapitalName']]\n",
    "capitals.columns = ['country', 'capital']\n",
    "capitals = capitals.set_index('country')\n",
    "capitals.index = capitals.index.str.strip()\n",
    "capitals.sample(20)"
   ]
  },
  {
   "cell_type": "code",
   "execution_count": 60,
   "metadata": {},
   "outputs": [
    {
     "data": {
      "text/html": [
       "<div>\n",
       "<style scoped>\n",
       "    .dataframe tbody tr th:only-of-type {\n",
       "        vertical-align: middle;\n",
       "    }\n",
       "\n",
       "    .dataframe tbody tr th {\n",
       "        vertical-align: top;\n",
       "    }\n",
       "\n",
       "    .dataframe thead th {\n",
       "        text-align: right;\n",
       "    }\n",
       "</style>\n",
       "<table border=\"1\" class=\"dataframe\">\n",
       "  <thead>\n",
       "    <tr style=\"text-align: right;\">\n",
       "      <th></th>\n",
       "      <th>country</th>\n",
       "      <th>population</th>\n",
       "    </tr>\n",
       "    <tr>\n",
       "      <th>city</th>\n",
       "      <th></th>\n",
       "      <th></th>\n",
       "    </tr>\n",
       "  </thead>\n",
       "  <tbody>\n",
       "    <tr>\n",
       "      <td>Palmer</td>\n",
       "      <td>United States</td>\n",
       "      <td>7209.0</td>\n",
       "    </tr>\n",
       "    <tr>\n",
       "      <td>Prieska</td>\n",
       "      <td>South Africa</td>\n",
       "      <td>11236.0</td>\n",
       "    </tr>\n",
       "    <tr>\n",
       "      <td>Scarborough</td>\n",
       "      <td>United Kingdom</td>\n",
       "      <td>70571.0</td>\n",
       "    </tr>\n",
       "    <tr>\n",
       "      <td>Meredith</td>\n",
       "      <td>United States</td>\n",
       "      <td>6334.0</td>\n",
       "    </tr>\n",
       "    <tr>\n",
       "      <td>Yangmei</td>\n",
       "      <td>Taiwan</td>\n",
       "      <td>175000.0</td>\n",
       "    </tr>\n",
       "    <tr>\n",
       "      <td>Verkhoyansk</td>\n",
       "      <td>Russia</td>\n",
       "      <td>1388.0</td>\n",
       "    </tr>\n",
       "    <tr>\n",
       "      <td>Middletown</td>\n",
       "      <td>United States</td>\n",
       "      <td>65952.0</td>\n",
       "    </tr>\n",
       "    <tr>\n",
       "      <td>Yreka</td>\n",
       "      <td>United States</td>\n",
       "      <td>7437.0</td>\n",
       "    </tr>\n",
       "    <tr>\n",
       "      <td>Zheleznogorsk</td>\n",
       "      <td>Russia</td>\n",
       "      <td>97900.0</td>\n",
       "    </tr>\n",
       "    <tr>\n",
       "      <td>Khromtaū</td>\n",
       "      <td>Kazakhstan</td>\n",
       "      <td>23715.0</td>\n",
       "    </tr>\n",
       "  </tbody>\n",
       "</table>\n",
       "</div>"
      ],
      "text/plain": [
       "                      country  population\n",
       "city                                     \n",
       "Palmer          United States      7209.0\n",
       "Prieska          South Africa     11236.0\n",
       "Scarborough    United Kingdom     70571.0\n",
       "Meredith        United States      6334.0\n",
       "Yangmei                Taiwan    175000.0\n",
       "Verkhoyansk            Russia      1388.0\n",
       "Middletown      United States     65952.0\n",
       "Yreka           United States      7437.0\n",
       "Zheleznogorsk          Russia     97900.0\n",
       "Khromtaū           Kazakhstan     23715.0"
      ]
     },
     "execution_count": 60,
     "metadata": {},
     "output_type": "execute_result"
    }
   ],
   "source": [
    "cities = pd.read_csv('worldcities.csv')\n",
    "cities = cities[['city', 'country', 'population']].copy().set_index('city')\n",
    "cities.sample(10)"
   ]
  },
  {
   "cell_type": "code",
   "execution_count": 61,
   "metadata": {},
   "outputs": [
    {
     "data": {
      "text/html": [
       "<div>\n",
       "<style scoped>\n",
       "    .dataframe tbody tr th:only-of-type {\n",
       "        vertical-align: middle;\n",
       "    }\n",
       "\n",
       "    .dataframe tbody tr th {\n",
       "        vertical-align: top;\n",
       "    }\n",
       "\n",
       "    .dataframe thead th {\n",
       "        text-align: right;\n",
       "    }\n",
       "</style>\n",
       "<table border=\"1\" class=\"dataframe\">\n",
       "  <thead>\n",
       "    <tr style=\"text-align: right;\">\n",
       "      <th></th>\n",
       "      <th>coastline</th>\n",
       "      <th>gdp</th>\n",
       "      <th>phones</th>\n",
       "      <th>agriculture</th>\n",
       "      <th>service</th>\n",
       "    </tr>\n",
       "    <tr>\n",
       "      <th>country</th>\n",
       "      <th></th>\n",
       "      <th></th>\n",
       "      <th></th>\n",
       "      <th></th>\n",
       "      <th></th>\n",
       "    </tr>\n",
       "  </thead>\n",
       "  <tbody>\n",
       "    <tr>\n",
       "      <td>Fiji</td>\n",
       "      <td>6,18</td>\n",
       "      <td>5800.0</td>\n",
       "      <td>112,6</td>\n",
       "      <td>0,089</td>\n",
       "      <td>0,776</td>\n",
       "    </tr>\n",
       "    <tr>\n",
       "      <td>Estonia</td>\n",
       "      <td>8,39</td>\n",
       "      <td>12300.0</td>\n",
       "      <td>333,8</td>\n",
       "      <td>0,04</td>\n",
       "      <td>0,666</td>\n",
       "    </tr>\n",
       "    <tr>\n",
       "      <td>Hong Kong</td>\n",
       "      <td>67,12</td>\n",
       "      <td>28800.0</td>\n",
       "      <td>546,7</td>\n",
       "      <td>0,001</td>\n",
       "      <td>0,906</td>\n",
       "    </tr>\n",
       "    <tr>\n",
       "      <td>Burundi</td>\n",
       "      <td>0,00</td>\n",
       "      <td>600.0</td>\n",
       "      <td>3,4</td>\n",
       "      <td>0,463</td>\n",
       "      <td>0,334</td>\n",
       "    </tr>\n",
       "    <tr>\n",
       "      <td>Namibia</td>\n",
       "      <td>0,19</td>\n",
       "      <td>7200.0</td>\n",
       "      <td>62,6</td>\n",
       "      <td>0,097</td>\n",
       "      <td>0,588</td>\n",
       "    </tr>\n",
       "    <tr>\n",
       "      <td>Israel</td>\n",
       "      <td>1,31</td>\n",
       "      <td>19800.0</td>\n",
       "      <td>462,3</td>\n",
       "      <td>0,026</td>\n",
       "      <td>0,657</td>\n",
       "    </tr>\n",
       "    <tr>\n",
       "      <td>Azerbaijan</td>\n",
       "      <td>0,00</td>\n",
       "      <td>3400.0</td>\n",
       "      <td>137,1</td>\n",
       "      <td>0,141</td>\n",
       "      <td>0,402</td>\n",
       "    </tr>\n",
       "    <tr>\n",
       "      <td>Bhutan</td>\n",
       "      <td>0,00</td>\n",
       "      <td>1300.0</td>\n",
       "      <td>14,3</td>\n",
       "      <td>0,258</td>\n",
       "      <td>0,363</td>\n",
       "    </tr>\n",
       "    <tr>\n",
       "      <td>Congo, Dem. Rep.</td>\n",
       "      <td>0,00</td>\n",
       "      <td>700.0</td>\n",
       "      <td>0,2</td>\n",
       "      <td>0,55</td>\n",
       "      <td>0,34</td>\n",
       "    </tr>\n",
       "    <tr>\n",
       "      <td>Botswana</td>\n",
       "      <td>0,00</td>\n",
       "      <td>9000.0</td>\n",
       "      <td>80,5</td>\n",
       "      <td>0,024</td>\n",
       "      <td>0,507</td>\n",
       "    </tr>\n",
       "  </tbody>\n",
       "</table>\n",
       "</div>"
      ],
      "text/plain": [
       "                 coastline      gdp phones agriculture service\n",
       "country                                                       \n",
       "Fiji                  6,18   5800.0  112,6       0,089   0,776\n",
       "Estonia               8,39  12300.0  333,8        0,04   0,666\n",
       "Hong Kong            67,12  28800.0  546,7       0,001   0,906\n",
       "Burundi               0,00    600.0    3,4       0,463   0,334\n",
       "Namibia               0,19   7200.0   62,6       0,097   0,588\n",
       "Israel                1,31  19800.0  462,3       0,026   0,657\n",
       "Azerbaijan            0,00   3400.0  137,1       0,141   0,402\n",
       "Bhutan                0,00   1300.0   14,3       0,258   0,363\n",
       "Congo, Dem. Rep.      0,00    700.0    0,2        0,55    0,34\n",
       "Botswana              0,00   9000.0   80,5       0,024   0,507"
      ]
     },
     "execution_count": 61,
     "metadata": {},
     "output_type": "execute_result"
    }
   ],
   "source": [
    "countries = pd.read_csv('countries of the world.csv')\n",
    "countries = countries[[\n",
    "    'Country',\n",
    "    'Coastline (coast/area ratio)',\n",
    "    'GDP ($ per capita)',\n",
    "    'Phones (per 1000)',\n",
    "    'Agriculture',\n",
    "    'Service'\n",
    "]].copy()\n",
    "countries.columns = ['country', 'coastline', 'gdp', 'phones', 'agriculture', 'service']\n",
    "countries = countries.set_index('country')\n",
    "countries.index = countries.index.str.strip()\n",
    "countries.sample(10)"
   ]
  },
  {
   "cell_type": "code",
   "execution_count": null,
   "metadata": {},
   "outputs": [],
   "source": []
  },
  {
   "cell_type": "code",
   "execution_count": null,
   "metadata": {},
   "outputs": [],
   "source": []
  },
  {
   "cell_type": "code",
   "execution_count": null,
   "metadata": {},
   "outputs": [],
   "source": []
  },
  {
   "cell_type": "code",
   "execution_count": null,
   "metadata": {},
   "outputs": [],
   "source": []
  },
  {
   "cell_type": "code",
   "execution_count": null,
   "metadata": {},
   "outputs": [],
   "source": []
  },
  {
   "cell_type": "code",
   "execution_count": null,
   "metadata": {},
   "outputs": [],
   "source": []
  },
  {
   "cell_type": "code",
   "execution_count": null,
   "metadata": {},
   "outputs": [],
   "source": []
  },
  {
   "cell_type": "code",
   "execution_count": null,
   "metadata": {},
   "outputs": [],
   "source": []
  },
  {
   "cell_type": "code",
   "execution_count": null,
   "metadata": {},
   "outputs": [],
   "source": []
  },
  {
   "cell_type": "code",
   "execution_count": null,
   "metadata": {},
   "outputs": [],
   "source": []
  },
  {
   "cell_type": "code",
   "execution_count": null,
   "metadata": {},
   "outputs": [],
   "source": []
  },
  {
   "cell_type": "code",
   "execution_count": 62,
   "metadata": {},
   "outputs": [],
   "source": [
    "# Далее заполняем пропуски 0, вы можете попробовать заполнением средним или средним по городу и тд...\n",
    "#data['Number of Reviews'].fillna(0, inplace=True)"
   ]
  },
  {
   "cell_type": "code",
   "execution_count": 63,
   "metadata": {},
   "outputs": [],
   "source": [
    "# Создадим класс для обработки пропусков объектами которого можно формировать \n",
    "# различные способы заполнения пропусков\n",
    "\n",
    "class FillNaByFeature():\n",
    "    def __init__(self, feature, value, data):\n",
    "        self.df = data[[feature, value]].groupby(feature).describe()\n",
    "        self.feature = feature\n",
    "        self.value = value\n",
    "    \n",
    "    def fill_na(self, row, statistic=0):\n",
    "        #if np.isnan(row[self.value]):\n",
    "        if pd.isnull(row[self.value]):\n",
    "            if statistic == 'mean':\n",
    "                return self.df[self.value, 'mean'][row[self.feature]]\n",
    "            if statistic == 'median':\n",
    "                return self.df[self.value, '50%'][row[self.feature]]\n",
    "            if statistic == 'top':\n",
    "                return self.df[self.value, 'top'][row[self.feature]]\n",
    "            if statistic == 0:\n",
    "                return 0\n",
    "        else:\n",
    "            return row[self.value]"
   ]
  },
  {
   "cell_type": "code",
   "execution_count": 64,
   "metadata": {},
   "outputs": [
    {
     "ename": "KeyError",
     "evalue": "\"None of [Index(['City', 'Number of Reviews'], dtype='object')] are in the [columns]\"",
     "output_type": "error",
     "traceback": [
      "\u001b[1;31m---------------------------------------------------------------------------\u001b[0m",
      "\u001b[1;31mKeyError\u001b[0m                                  Traceback (most recent call last)",
      "\u001b[1;32m<ipython-input-64-9eb99cbbbc67>\u001b[0m in \u001b[0;36m<module>\u001b[1;34m\u001b[0m\n\u001b[0;32m      1\u001b[0m \u001b[1;31m# Создаем объект для заполнения пропусков признака 'Number of Reviews' по городу\u001b[0m\u001b[1;33m\u001b[0m\u001b[1;33m\u001b[0m\u001b[1;33m\u001b[0m\u001b[0m\n\u001b[1;32m----> 2\u001b[1;33m \u001b[0mfilling_number_of_review\u001b[0m \u001b[1;33m=\u001b[0m \u001b[0mFillNaByFeature\u001b[0m\u001b[1;33m(\u001b[0m\u001b[1;34m'City'\u001b[0m\u001b[1;33m,\u001b[0m \u001b[1;34m'Number of Reviews'\u001b[0m\u001b[1;33m,\u001b[0m \u001b[0mdata\u001b[0m \u001b[1;33m)\u001b[0m\u001b[1;33m\u001b[0m\u001b[1;33m\u001b[0m\u001b[0m\n\u001b[0m\u001b[0;32m      3\u001b[0m \u001b[1;31m#filling_number_of_review = FillNaByFeature('Restaurant_id', 'Number of Reviews', data )\u001b[0m\u001b[1;33m\u001b[0m\u001b[1;33m\u001b[0m\u001b[1;33m\u001b[0m\u001b[0m\n",
      "\u001b[1;32m<ipython-input-63-8dc6f2a8ccf0>\u001b[0m in \u001b[0;36m__init__\u001b[1;34m(self, feature, value, data)\u001b[0m\n\u001b[0;32m      4\u001b[0m \u001b[1;32mclass\u001b[0m \u001b[0mFillNaByFeature\u001b[0m\u001b[1;33m(\u001b[0m\u001b[1;33m)\u001b[0m\u001b[1;33m:\u001b[0m\u001b[1;33m\u001b[0m\u001b[1;33m\u001b[0m\u001b[0m\n\u001b[0;32m      5\u001b[0m     \u001b[1;32mdef\u001b[0m \u001b[0m__init__\u001b[0m\u001b[1;33m(\u001b[0m\u001b[0mself\u001b[0m\u001b[1;33m,\u001b[0m \u001b[0mfeature\u001b[0m\u001b[1;33m,\u001b[0m \u001b[0mvalue\u001b[0m\u001b[1;33m,\u001b[0m \u001b[0mdata\u001b[0m\u001b[1;33m)\u001b[0m\u001b[1;33m:\u001b[0m\u001b[1;33m\u001b[0m\u001b[1;33m\u001b[0m\u001b[0m\n\u001b[1;32m----> 6\u001b[1;33m         \u001b[0mself\u001b[0m\u001b[1;33m.\u001b[0m\u001b[0mdf\u001b[0m \u001b[1;33m=\u001b[0m \u001b[0mdata\u001b[0m\u001b[1;33m[\u001b[0m\u001b[1;33m[\u001b[0m\u001b[0mfeature\u001b[0m\u001b[1;33m,\u001b[0m \u001b[0mvalue\u001b[0m\u001b[1;33m]\u001b[0m\u001b[1;33m]\u001b[0m\u001b[1;33m.\u001b[0m\u001b[0mgroupby\u001b[0m\u001b[1;33m(\u001b[0m\u001b[0mfeature\u001b[0m\u001b[1;33m)\u001b[0m\u001b[1;33m.\u001b[0m\u001b[0mdescribe\u001b[0m\u001b[1;33m(\u001b[0m\u001b[1;33m)\u001b[0m\u001b[1;33m\u001b[0m\u001b[1;33m\u001b[0m\u001b[0m\n\u001b[0m\u001b[0;32m      7\u001b[0m         \u001b[0mself\u001b[0m\u001b[1;33m.\u001b[0m\u001b[0mfeature\u001b[0m \u001b[1;33m=\u001b[0m \u001b[0mfeature\u001b[0m\u001b[1;33m\u001b[0m\u001b[1;33m\u001b[0m\u001b[0m\n\u001b[0;32m      8\u001b[0m         \u001b[0mself\u001b[0m\u001b[1;33m.\u001b[0m\u001b[0mvalue\u001b[0m \u001b[1;33m=\u001b[0m \u001b[0mvalue\u001b[0m\u001b[1;33m\u001b[0m\u001b[1;33m\u001b[0m\u001b[0m\n",
      "\u001b[1;32m~\\Anaconda3\\lib\\site-packages\\pandas\\core\\frame.py\u001b[0m in \u001b[0;36m__getitem__\u001b[1;34m(self, key)\u001b[0m\n\u001b[0;32m   2984\u001b[0m             \u001b[1;32mif\u001b[0m \u001b[0mis_iterator\u001b[0m\u001b[1;33m(\u001b[0m\u001b[0mkey\u001b[0m\u001b[1;33m)\u001b[0m\u001b[1;33m:\u001b[0m\u001b[1;33m\u001b[0m\u001b[1;33m\u001b[0m\u001b[0m\n\u001b[0;32m   2985\u001b[0m                 \u001b[0mkey\u001b[0m \u001b[1;33m=\u001b[0m \u001b[0mlist\u001b[0m\u001b[1;33m(\u001b[0m\u001b[0mkey\u001b[0m\u001b[1;33m)\u001b[0m\u001b[1;33m\u001b[0m\u001b[1;33m\u001b[0m\u001b[0m\n\u001b[1;32m-> 2986\u001b[1;33m             \u001b[0mindexer\u001b[0m \u001b[1;33m=\u001b[0m \u001b[0mself\u001b[0m\u001b[1;33m.\u001b[0m\u001b[0mloc\u001b[0m\u001b[1;33m.\u001b[0m\u001b[0m_convert_to_indexer\u001b[0m\u001b[1;33m(\u001b[0m\u001b[0mkey\u001b[0m\u001b[1;33m,\u001b[0m \u001b[0maxis\u001b[0m\u001b[1;33m=\u001b[0m\u001b[1;36m1\u001b[0m\u001b[1;33m,\u001b[0m \u001b[0mraise_missing\u001b[0m\u001b[1;33m=\u001b[0m\u001b[1;32mTrue\u001b[0m\u001b[1;33m)\u001b[0m\u001b[1;33m\u001b[0m\u001b[1;33m\u001b[0m\u001b[0m\n\u001b[0m\u001b[0;32m   2987\u001b[0m \u001b[1;33m\u001b[0m\u001b[0m\n\u001b[0;32m   2988\u001b[0m         \u001b[1;31m# take() does not accept boolean indexers\u001b[0m\u001b[1;33m\u001b[0m\u001b[1;33m\u001b[0m\u001b[1;33m\u001b[0m\u001b[0m\n",
      "\u001b[1;32m~\\Anaconda3\\lib\\site-packages\\pandas\\core\\indexing.py\u001b[0m in \u001b[0;36m_convert_to_indexer\u001b[1;34m(self, obj, axis, is_setter, raise_missing)\u001b[0m\n\u001b[0;32m   1283\u001b[0m                 \u001b[1;31m# When setting, missing keys are not allowed, even with .loc:\u001b[0m\u001b[1;33m\u001b[0m\u001b[1;33m\u001b[0m\u001b[1;33m\u001b[0m\u001b[0m\n\u001b[0;32m   1284\u001b[0m                 \u001b[0mkwargs\u001b[0m \u001b[1;33m=\u001b[0m \u001b[1;33m{\u001b[0m\u001b[1;34m\"raise_missing\"\u001b[0m\u001b[1;33m:\u001b[0m \u001b[1;32mTrue\u001b[0m \u001b[1;32mif\u001b[0m \u001b[0mis_setter\u001b[0m \u001b[1;32melse\u001b[0m \u001b[0mraise_missing\u001b[0m\u001b[1;33m}\u001b[0m\u001b[1;33m\u001b[0m\u001b[1;33m\u001b[0m\u001b[0m\n\u001b[1;32m-> 1285\u001b[1;33m                 \u001b[1;32mreturn\u001b[0m \u001b[0mself\u001b[0m\u001b[1;33m.\u001b[0m\u001b[0m_get_listlike_indexer\u001b[0m\u001b[1;33m(\u001b[0m\u001b[0mobj\u001b[0m\u001b[1;33m,\u001b[0m \u001b[0maxis\u001b[0m\u001b[1;33m,\u001b[0m \u001b[1;33m**\u001b[0m\u001b[0mkwargs\u001b[0m\u001b[1;33m)\u001b[0m\u001b[1;33m[\u001b[0m\u001b[1;36m1\u001b[0m\u001b[1;33m]\u001b[0m\u001b[1;33m\u001b[0m\u001b[1;33m\u001b[0m\u001b[0m\n\u001b[0m\u001b[0;32m   1286\u001b[0m         \u001b[1;32melse\u001b[0m\u001b[1;33m:\u001b[0m\u001b[1;33m\u001b[0m\u001b[1;33m\u001b[0m\u001b[0m\n\u001b[0;32m   1287\u001b[0m             \u001b[1;32mtry\u001b[0m\u001b[1;33m:\u001b[0m\u001b[1;33m\u001b[0m\u001b[1;33m\u001b[0m\u001b[0m\n",
      "\u001b[1;32m~\\Anaconda3\\lib\\site-packages\\pandas\\core\\indexing.py\u001b[0m in \u001b[0;36m_get_listlike_indexer\u001b[1;34m(self, key, axis, raise_missing)\u001b[0m\n\u001b[0;32m   1090\u001b[0m \u001b[1;33m\u001b[0m\u001b[0m\n\u001b[0;32m   1091\u001b[0m         self._validate_read_indexer(\n\u001b[1;32m-> 1092\u001b[1;33m             \u001b[0mkeyarr\u001b[0m\u001b[1;33m,\u001b[0m \u001b[0mindexer\u001b[0m\u001b[1;33m,\u001b[0m \u001b[0mo\u001b[0m\u001b[1;33m.\u001b[0m\u001b[0m_get_axis_number\u001b[0m\u001b[1;33m(\u001b[0m\u001b[0maxis\u001b[0m\u001b[1;33m)\u001b[0m\u001b[1;33m,\u001b[0m \u001b[0mraise_missing\u001b[0m\u001b[1;33m=\u001b[0m\u001b[0mraise_missing\u001b[0m\u001b[1;33m\u001b[0m\u001b[1;33m\u001b[0m\u001b[0m\n\u001b[0m\u001b[0;32m   1093\u001b[0m         )\n\u001b[0;32m   1094\u001b[0m         \u001b[1;32mreturn\u001b[0m \u001b[0mkeyarr\u001b[0m\u001b[1;33m,\u001b[0m \u001b[0mindexer\u001b[0m\u001b[1;33m\u001b[0m\u001b[1;33m\u001b[0m\u001b[0m\n",
      "\u001b[1;32m~\\Anaconda3\\lib\\site-packages\\pandas\\core\\indexing.py\u001b[0m in \u001b[0;36m_validate_read_indexer\u001b[1;34m(self, key, indexer, axis, raise_missing)\u001b[0m\n\u001b[0;32m   1175\u001b[0m                 raise KeyError(\n\u001b[0;32m   1176\u001b[0m                     \"None of [{key}] are in the [{axis}]\".format(\n\u001b[1;32m-> 1177\u001b[1;33m                         \u001b[0mkey\u001b[0m\u001b[1;33m=\u001b[0m\u001b[0mkey\u001b[0m\u001b[1;33m,\u001b[0m \u001b[0maxis\u001b[0m\u001b[1;33m=\u001b[0m\u001b[0mself\u001b[0m\u001b[1;33m.\u001b[0m\u001b[0mobj\u001b[0m\u001b[1;33m.\u001b[0m\u001b[0m_get_axis_name\u001b[0m\u001b[1;33m(\u001b[0m\u001b[0maxis\u001b[0m\u001b[1;33m)\u001b[0m\u001b[1;33m\u001b[0m\u001b[1;33m\u001b[0m\u001b[0m\n\u001b[0m\u001b[0;32m   1178\u001b[0m                     )\n\u001b[0;32m   1179\u001b[0m                 )\n",
      "\u001b[1;31mKeyError\u001b[0m: \"None of [Index(['City', 'Number of Reviews'], dtype='object')] are in the [columns]\""
     ]
    }
   ],
   "source": [
    "# Создаем объект для заполнения пропусков признака 'Number of Reviews' по городу\n",
    "filling_number_of_review = FillNaByFeature('City', 'Number of Reviews', data )\n",
    "#filling_number_of_review = FillNaByFeature('Restaurant_id', 'Number of Reviews', data )"
   ]
  },
  {
   "cell_type": "code",
   "execution_count": null,
   "metadata": {},
   "outputs": [],
   "source": [
    "# Создадим объект для заполнения пропусков признака 'Price Range' по городу\n",
    "filling_price_range = FillNaByFeature('City', 'Price Range', data)"
   ]
  },
  {
   "cell_type": "code",
   "execution_count": null,
   "metadata": {},
   "outputs": [],
   "source": [
    "data.head(10)"
   ]
  },
  {
   "cell_type": "code",
   "execution_count": null,
   "metadata": {},
   "outputs": [],
   "source": [
    "# Заполним пропуски 'Number of Reviews' медианой по городу\n",
    "data['Number of Reviews'] = data.apply(filling_number_of_review.fill_na, args=('median',), axis=1)"
   ]
  },
  {
   "cell_type": "code",
   "execution_count": null,
   "metadata": {},
   "outputs": [],
   "source": [
    "# Заполним пропуски 'Price Range' часто встречающимся значением по городу\n",
    "data['Price Range'] = data.apply(filling_price_range.fill_na, args=('top',), axis=1)"
   ]
  },
  {
   "cell_type": "code",
   "execution_count": null,
   "metadata": {},
   "outputs": [],
   "source": [
    "data.head(10)"
   ]
  },
  {
   "cell_type": "code",
   "execution_count": null,
   "metadata": {},
   "outputs": [],
   "source": [
    "data.info()"
   ]
  },
  {
   "cell_type": "code",
   "execution_count": null,
   "metadata": {},
   "outputs": [],
   "source": [
    "data[data.Reviews.isnull()]"
   ]
  },
  {
   "cell_type": "code",
   "execution_count": null,
   "metadata": {},
   "outputs": [],
   "source": [
    "data.sample(5)"
   ]
  },
  {
   "cell_type": "code",
   "execution_count": null,
   "metadata": {},
   "outputs": [],
   "source": [
    "data.head(10)"
   ]
  },
  {
   "cell_type": "code",
   "execution_count": null,
   "metadata": {},
   "outputs": [],
   "source": [
    "# Создадим объект для заполнения пропусков признака 'Cuisine Style' по городу\n",
    "filling_cuisine_style = FillNaByFeature('City', 'Cuisine Style', data)"
   ]
  },
  {
   "cell_type": "code",
   "execution_count": null,
   "metadata": {},
   "outputs": [],
   "source": [
    "# Заполним пропуски 'Cuisine Style' часто встречающимся значением по городу\n",
    "data['Cuisine Style'] = data.apply(filling_cuisine_style.fill_na, args=('top',), axis=1)"
   ]
  },
  {
   "cell_type": "code",
   "execution_count": null,
   "metadata": {},
   "outputs": [],
   "source": [
    "data.head(10)"
   ]
  },
  {
   "cell_type": "code",
   "execution_count": null,
   "metadata": {},
   "outputs": [],
   "source": [
    "data[data['Reviews'].isnull()]\n"
   ]
  },
  {
   "cell_type": "code",
   "execution_count": null,
   "metadata": {},
   "outputs": [],
   "source": [
    "# Заполнил вначале пропуски в поле 'Reviews' пустым значением как и у других записей с пустыми обзорами. Добавим отдельное поле 'Reviews_isNaN' для пустых обзоров.\n",
    "# Затем распарсим значения на отдельные отзывы и их даты.\n",
    "data['Reviews'] = data['Reviews'].fillna('[[], []]')"
   ]
  },
  {
   "cell_type": "code",
   "execution_count": null,
   "metadata": {},
   "outputs": [],
   "source": [
    "data[data['ID_TA'] == 'd12683988'] # test"
   ]
  },
  {
   "cell_type": "code",
   "execution_count": null,
   "metadata": {},
   "outputs": [],
   "source": [
    "data['Reviews_isNaN'] = data['Reviews'].apply(lambda x: 1 if x == '[[], []]' else 0)\n"
   ]
  },
  {
   "cell_type": "code",
   "execution_count": null,
   "metadata": {},
   "outputs": [],
   "source": [
    "data.info()"
   ]
  },
  {
   "cell_type": "code",
   "execution_count": null,
   "metadata": {},
   "outputs": [],
   "source": [
    "data['Reviews_isNaN'].value_counts()"
   ]
  },
  {
   "cell_type": "markdown",
   "metadata": {},
   "source": [
    "### 2. Обработка признаков\n",
    "Для начала посмотрим какие признаки у нас могут быть категориальными."
   ]
  },
  {
   "cell_type": "code",
   "execution_count": null,
   "metadata": {},
   "outputs": [],
   "source": [
    "data.nunique(dropna=False)"
   ]
  },
  {
   "cell_type": "markdown",
   "metadata": {},
   "source": [
    "Какие признаки можно считать категориальными?"
   ]
  },
  {
   "cell_type": "markdown",
   "metadata": {},
   "source": [
    "'City'  \n",
    "'Cuisine Style'"
   ]
  },
  {
   "cell_type": "markdown",
   "metadata": {},
   "source": [
    "Для кодирования категориальных признаков есть множество подходов:\n",
    "* Label Encoding\n",
    "* One-Hot Encoding\n",
    "* Target Encoding\n",
    "* Hashing\n",
    "\n",
    "Выбор кодирования зависит от признака и выбраной модели.\n",
    "Не будем сейчас сильно погружаться в эту тематику, давайте посмотрим лучше пример с One-Hot Encoding:\n",
    "![](https://i.imgur.com/mtimFxh.png)"
   ]
  },
  {
   "cell_type": "code",
   "execution_count": null,
   "metadata": {},
   "outputs": [],
   "source": [
    "data.head(5)"
   ]
  },
  {
   "cell_type": "code",
   "execution_count": null,
   "metadata": {},
   "outputs": [],
   "source": [
    "data.sample(5)"
   ]
  },
  {
   "cell_type": "markdown",
   "metadata": {},
   "source": [
    "#### Возьмем следующий признак \"Price Range\"."
   ]
  },
  {
   "cell_type": "code",
   "execution_count": null,
   "metadata": {},
   "outputs": [],
   "source": [
    "data['Price Range'].value_counts()"
   ]
  },
  {
   "cell_type": "markdown",
   "metadata": {},
   "source": [
    "По описанию 'Price Range' это - Цены в ресторане.  \n",
    "Их можно поставить по возрастанию (значит это не категориальный признак). А это значит, что их можно заменить последовательными числами, например 1,2,3  \n",
    "*Попробуйте сделать обработку этого признака уже самостоятельно!*"
   ]
  },
  {
   "cell_type": "code",
   "execution_count": null,
   "metadata": {},
   "outputs": [],
   "source": [
    "# Ваша обработка 'Price Range'\n",
    "\n",
    "data['Price Range'] = data['Price Range'].apply(lambda x: 3 if x == '$$$$' else x)\n",
    "data['Price Range'] = data['Price Range'].apply(lambda x: 2 if x == '$$ - $$$' else x)\n",
    "data['Price Range'] = data['Price Range'].apply(lambda x: 1 if x == '$' else x)\n",
    "\n"
   ]
  },
  {
   "cell_type": "code",
   "execution_count": null,
   "metadata": {},
   "outputs": [],
   "source": [
    "data['Price Range'].value_counts()"
   ]
  },
  {
   "cell_type": "markdown",
   "metadata": {},
   "source": [
    "> Для некоторых алгоритмов МЛ даже для не категориальных признаков можно применить One-Hot Encoding, и это может улучшить качество модели. Пробуйте разные подходы к кодированию признака - никто не знает заранее, что может взлететь."
   ]
  },
  {
   "cell_type": "markdown",
   "metadata": {},
   "source": [
    "### Обработать другие признаки вы должны самостоятельно!\n",
    "Для обработки других признаков вам возможно придется даже написать свою функцию, а может даже и не одну, но в этом и есть ваша практика в этом модуле!     \n",
    "Следуя подсказкам в модуле вы сможете более подробно узнать, как сделать эти приобразования."
   ]
  },
  {
   "cell_type": "code",
   "execution_count": null,
   "metadata": {},
   "outputs": [],
   "source": [
    "# тут ваш код на обработку других признаков\n",
    "# .....\n"
   ]
  },
  {
   "cell_type": "code",
   "execution_count": null,
   "metadata": {},
   "outputs": [],
   "source": [
    "data['Cuisine Style'] = data['Cuisine Style'].apply(lambda x: x.replace('\"', '').replace('[', '').replace(']', '').replace(\"'\", \"\").replace(', ', ',').split(','))\n",
    "type(data['Cuisine Style'].iloc[0])"
   ]
  },
  {
   "cell_type": "code",
   "execution_count": null,
   "metadata": {},
   "outputs": [],
   "source": [
    "df_cuisine_style = data['Cuisine Style'].str.join('@').str.get_dummies('@')"
   ]
  },
  {
   "cell_type": "code",
   "execution_count": null,
   "metadata": {},
   "outputs": [],
   "source": [
    "df_cuisine_style"
   ]
  },
  {
   "cell_type": "code",
   "execution_count": null,
   "metadata": {},
   "outputs": [],
   "source": [
    "data = pd.concat([data, df_cuisine_style], axis=1)"
   ]
  },
  {
   "cell_type": "code",
   "execution_count": null,
   "metadata": {},
   "outputs": [],
   "source": [
    "# Добавим дополнитеьный признак - количество стилей кухонь в ресторане\n",
    "data['cuisine_style_count'] = data['Cuisine Style'].apply(lambda x: len(x))\n",
    "data[['Cuisine Style', 'cuisine_style_count']]"
   ]
  },
  {
   "cell_type": "code",
   "execution_count": null,
   "metadata": {},
   "outputs": [],
   "source": [
    "# Функция для парсинга поля 'Reviews' \n",
    "# Входные данные: строка, индекс (0 - 3)\n",
    "# Выходные данные: Строки обзора, либо даты\n",
    "\n",
    "def review_parsing(input_str, index=\"\"):\n",
    "    input_str = input_str.replace(\"[\", \"\").replace(\"]\", \"\")\n",
    "    begin_item = True\n",
    "    limiter = \"\"\n",
    "    out_list = []\n",
    "    out_str =\"\"\n",
    "    limiter_count = 0\n",
    "    for symbol in enumerate(input_str):\n",
    "        if begin_item and symbol[1] != ' ' and symbol[1] != ',' and limiter_count == 0:\n",
    "            limiter = symbol[1]\n",
    "            begin_item = False\n",
    "            limiter_count += 1\n",
    "        elif symbol[1] == limiter:\n",
    "            if symbol[0] < len(input_str) - 1 and symbol[0] > 0:\n",
    "                if input_str[symbol[0] + 1] == ',' and (input_str[symbol[0] - 1] != '\\\\' or \\\n",
    "                                                        input_str[symbol[0] - 1] == '\\\\' and input_str[symbol[0] - 2] == '\\\\'):\n",
    "                    limiter_count += 1\n",
    "            else:\n",
    "                limiter_count += 1\n",
    "            if limiter_count == 2:\n",
    "                out_list.append(out_str)\n",
    "                out_str = \"\"\n",
    "                begin_item = True\n",
    "                limiter_count = 0\n",
    "        elif limiter_count == 1:\n",
    "            out_str += symbol[1]\n",
    "    if len(out_list) == 0:\n",
    "        out_list =  [np.NaN, np.NaN, np.NaN, np.NaN]\n",
    "    elif len(out_list) == 2:\n",
    "        out_list.insert(1, np.NaN)\n",
    "        out_list.append(np.NaN)\n",
    "    if index == '':\n",
    "        return out_list\n",
    "    else:\n",
    "        return out_list[index]"
   ]
  },
  {
   "cell_type": "code",
   "execution_count": null,
   "metadata": {},
   "outputs": [],
   "source": [
    "# Из данных 'Reviews' извлечем последний отзыв\n",
    "data['last_review'] = data['Reviews'].apply(review_parsing, index=0)"
   ]
  },
  {
   "cell_type": "code",
   "execution_count": null,
   "metadata": {},
   "outputs": [],
   "source": [
    "# Из данных 'Reviews' извлечем дату последнего отзыва\n",
    "data['last_review_date'] =  pd.to_datetime(data['Reviews'].apply(review_parsing, index=2))"
   ]
  },
  {
   "cell_type": "code",
   "execution_count": null,
   "metadata": {},
   "outputs": [],
   "source": [
    "# Из данных 'Reviews' извлечем предпоследний отзыв\n",
    "data['prev_review'] = data['Reviews'].apply(review_parsing, index=1)"
   ]
  },
  {
   "cell_type": "code",
   "execution_count": null,
   "metadata": {},
   "outputs": [],
   "source": [
    "# Из данных 'Reviews' извлечем дату предпоследнего отзыва\n",
    "data['prev_review_date'] = pd.to_datetime(data['Reviews'].apply(review_parsing, index=3))"
   ]
  },
  {
   "cell_type": "code",
   "execution_count": null,
   "metadata": {},
   "outputs": [],
   "source": [
    "# Создадим новый признак - количество дней прошедших между последним и предпоследним отзывом\n",
    "data['review_days_elasped'] = (data.last_review_date - data.prev_review_date).apply(lambda x: abs(x.days))"
   ]
  },
  {
   "cell_type": "code",
   "execution_count": null,
   "metadata": {},
   "outputs": [],
   "source": [
    "data[['Reviews', 'last_review', 'last_review_date', 'prev_review', 'prev_review_date', 'review_days_elasped' ]]"
   ]
  },
  {
   "cell_type": "code",
   "execution_count": null,
   "metadata": {},
   "outputs": [],
   "source": [
    "# Создадим новые признаки, кол-во символов в отзыве, пропущенные отзывы заполним нулями\n",
    "data['last_review_len'] = data['last_review'].apply(lambda x: len(x) if pd.notnull(x) else 0)\n",
    "data['prev_review_len'] = data['prev_review'].apply(lambda x: len(x) if pd.notnull(x) else 0)\n",
    "data[['Reviews', 'last_review', 'last_review_len', 'prev_review', 'prev_review_len']].sample(10)"
   ]
  },
  {
   "cell_type": "code",
   "execution_count": null,
   "metadata": {},
   "outputs": [],
   "source": [
    "data.review_days_elasped.describe()"
   ]
  },
  {
   "cell_type": "code",
   "execution_count": null,
   "metadata": {},
   "outputs": [],
   "source": [
    "data['review_days_elasped'] = data['review_days_elasped'].fillna(9999)"
   ]
  },
  {
   "cell_type": "code",
   "execution_count": null,
   "metadata": {},
   "outputs": [],
   "source": [
    "data.info(verbose=True, null_counts=True)"
   ]
  },
  {
   "cell_type": "markdown",
   "metadata": {},
   "source": [
    "Для генерации новых признаков проведем более детальный анализ по названиям городов, используя внешние данные. В частности выясним количество жителей в представленной выборке городов и примерный уровень жизни жителей этих городов, используя данные о доходах стран представляющих эти города. Для этого воспользуемся датасетами: world-cities ( популяция ) и income-by-country (уровень доходов стран)."
   ]
  },
  {
   "cell_type": "code",
   "execution_count": null,
   "metadata": {},
   "outputs": [],
   "source": [
    "# Португальский город Oporto представленный в данном проекте в некоторых источниках \n",
    "# называется Porto. Добавим его в список городов. \n",
    "\n",
    "cities_list.append('Porto')"
   ]
  },
  {
   "cell_type": "code",
   "execution_count": null,
   "metadata": {},
   "outputs": [],
   "source": [
    "cities_list"
   ]
  },
  {
   "cell_type": "code",
   "execution_count": null,
   "metadata": {},
   "outputs": [],
   "source": [
    "cities_details = pd.read_csv('../input/world-cities/worldcities.csv')\n",
    "cities_details.sample(5)"
   ]
  },
  {
   "cell_type": "code",
   "execution_count": null,
   "metadata": {},
   "outputs": [],
   "source": [
    "cities_details = cities_details[cities_details.city_ascii.isin(cities_list)]\n"
   ]
  },
  {
   "cell_type": "code",
   "execution_count": null,
   "metadata": {},
   "outputs": [],
   "source": [
    "cities_details.city_ascii.value_counts()"
   ]
  },
  {
   "cell_type": "markdown",
   "metadata": {},
   "source": [
    "Как видим в результирующем датасете по нашей выборке городов оказалось несколько Афин и Лондонов. Привет Соединенным Штатам!) Исключим данные города из выборки"
   ]
  },
  {
   "cell_type": "code",
   "execution_count": null,
   "metadata": {},
   "outputs": [],
   "source": [
    "cities_details[cities_details.city == 'London']"
   ]
  },
  {
   "cell_type": "code",
   "execution_count": null,
   "metadata": {},
   "outputs": [],
   "source": [
    "cities_details = cities_details.query(\"iso2 not in ['US', 'CA', 'VE']\")"
   ]
  },
  {
   "cell_type": "code",
   "execution_count": null,
   "metadata": {},
   "outputs": [],
   "source": [
    "cities_details.city_ascii.value_counts().sort_index(ascending=True)"
   ]
  },
  {
   "cell_type": "code",
   "execution_count": null,
   "metadata": {},
   "outputs": [],
   "source": [
    "country_list = list(cities_details.country)"
   ]
  },
  {
   "cell_type": "code",
   "execution_count": null,
   "metadata": {},
   "outputs": [],
   "source": [
    "income_country = pd.read_excel('../input/income-by-country/Income by Country.xlsx')"
   ]
  },
  {
   "cell_type": "code",
   "execution_count": null,
   "metadata": {},
   "outputs": [],
   "source": [
    "income_country.sample(5)"
   ]
  },
  {
   "cell_type": "code",
   "execution_count": null,
   "metadata": {},
   "outputs": [],
   "source": [
    "income_country = income_country[income_country.Country.isin(country_list)][['Country', 2018]]"
   ]
  },
  {
   "cell_type": "code",
   "execution_count": null,
   "metadata": {},
   "outputs": [],
   "source": [
    "income_country"
   ]
  },
  {
   "cell_type": "code",
   "execution_count": null,
   "metadata": {},
   "outputs": [],
   "source": [
    "income_country.rename(columns = {'Country':'country',2018: 'income'}, inplace = True)"
   ]
  },
  {
   "cell_type": "code",
   "execution_count": null,
   "metadata": {},
   "outputs": [],
   "source": [
    "income_country"
   ]
  },
  {
   "cell_type": "code",
   "execution_count": null,
   "metadata": {},
   "outputs": [],
   "source": [
    "income_city = cities_details[['city_ascii', 'country', 'population', 'lat', 'lng']]\n",
    "income_city"
   ]
  },
  {
   "cell_type": "code",
   "execution_count": null,
   "metadata": {},
   "outputs": [],
   "source": [
    "df_cities = income_city.merge(income_country, on='country', how='right')"
   ]
  },
  {
   "cell_type": "code",
   "execution_count": null,
   "metadata": {},
   "outputs": [],
   "source": [
    "df_cities.rename(columns = {'city_ascii':'City'}, inplace = True)"
   ]
  },
  {
   "cell_type": "code",
   "execution_count": null,
   "metadata": {},
   "outputs": [],
   "source": [
    "df_cities['City'] = df_cities['City'].apply(lambda x: 'Oporto' if x == 'Porto' else x)"
   ]
  },
  {
   "cell_type": "code",
   "execution_count": null,
   "metadata": {},
   "outputs": [],
   "source": [
    "df_cities"
   ]
  },
  {
   "cell_type": "code",
   "execution_count": null,
   "metadata": {},
   "outputs": [],
   "source": [
    "# Для df_cities сгененрируем новый параметр характеризующий в целом благосостояние города,\n",
    "# путем умножения параметров численности и уровня дохода\n",
    "df_cities['City_income'] = df_cities['population'] * df_cities['income']"
   ]
  },
  {
   "cell_type": "code",
   "execution_count": null,
   "metadata": {},
   "outputs": [],
   "source": [
    "df_cities"
   ]
  },
  {
   "cell_type": "code",
   "execution_count": null,
   "metadata": {},
   "outputs": [],
   "source": [
    "# Добавим в основной датасет данные о широте города и благосостоянии\n",
    "data = data.merge(df_cities[['City', 'lat', 'population', 'City_income']], on=['City'])"
   ]
  },
  {
   "cell_type": "code",
   "execution_count": null,
   "metadata": {},
   "outputs": [],
   "source": [
    "# Для того чтобы охарактеризовать отдельный ресторан в зависимости от города и ранга \n",
    "# сгенерируем новый признак полученный путем деления благосостояния на ранг\n",
    "data['City_income_rank'] = data['City_income'] / data['Ranking']\n",
    "\n",
    "#data['City_income_rank'] = data['City_income'] / (data['Ranking'] * data['lat'])"
   ]
  },
  {
   "cell_type": "code",
   "execution_count": null,
   "metadata": {},
   "outputs": [],
   "source": [
    "data['number_reviews_ranking'] = data['Number of Reviews'] * data['Ranking']"
   ]
  },
  {
   "cell_type": "code",
   "execution_count": null,
   "metadata": {},
   "outputs": [],
   "source": [
    "data['numberofr_rank'] = data['Number of Reviews'] / data['Ranking']"
   ]
  },
  {
   "cell_type": "code",
   "execution_count": null,
   "metadata": {},
   "outputs": [],
   "source": [
    "#data['City_income_number_rev'] = data['City_income'] * data['Number of Reviews']"
   ]
  },
  {
   "cell_type": "code",
   "execution_count": null,
   "metadata": {},
   "outputs": [],
   "source": [
    "#data['number_reviews_lat'] = data['Number of Reviews'] * data['lat']"
   ]
  },
  {
   "cell_type": "code",
   "execution_count": null,
   "metadata": {},
   "outputs": [],
   "source": [
    "#data['rev_nan_income'] = data['Number_of_Reviews_isNAN'] * data['City_income']"
   ]
  },
  {
   "cell_type": "code",
   "execution_count": null,
   "metadata": {},
   "outputs": [],
   "source": [
    "#data['cir_nr'] = data['City_income_rank'] * data['Number of Reviews'] "
   ]
  },
  {
   "cell_type": "code",
   "execution_count": null,
   "metadata": {},
   "outputs": [],
   "source": [
    "#data['number_reviews_cuisine'] = data['Number of Reviews'] * data['cuisine_style_count']"
   ]
  },
  {
   "cell_type": "code",
   "execution_count": null,
   "metadata": {},
   "outputs": [],
   "source": [
    "#data['ranking_lat'] = data['Ranking'] * data['lat']"
   ]
  },
  {
   "cell_type": "code",
   "execution_count": null,
   "metadata": {},
   "outputs": [],
   "source": [
    "data['popul_num_rev'] = data['population'] / data['Number of Reviews']"
   ]
  },
  {
   "cell_type": "code",
   "execution_count": null,
   "metadata": {},
   "outputs": [],
   "source": [
    "data['popul_rank'] = data['population'] / data['Ranking']"
   ]
  },
  {
   "cell_type": "code",
   "execution_count": null,
   "metadata": {},
   "outputs": [],
   "source": [
    "#data['City_income_last_rev'] = data['City_income'] * data['last_review_len']"
   ]
  },
  {
   "cell_type": "code",
   "execution_count": null,
   "metadata": {},
   "outputs": [],
   "source": [
    "# убираем не нужные для модели признаки\n",
    "data.drop(['population', 'Restaurant_id', 'Cuisine Style', 'Reviews', 'ID_TA','URL_TA', \\\n",
    "                 'last_review', 'last_review_date', 'prev_review', 'prev_review_date','City_income'], axis = 1, inplace=True)\n",
    "#data.drop(['lat','Restaurant_id', 'Cuisine Style', 'Reviews', 'ID_TA','URL_TA', \\\n",
    "#                 'last_review', 'last_review_date', 'prev_review', 'prev_review_date','City_income'], axis = 1, inplace=True)"
   ]
  },
  {
   "cell_type": "code",
   "execution_count": null,
   "metadata": {},
   "outputs": [],
   "source": [
    "data.info(verbose=True, null_counts=True)"
   ]
  },
  {
   "cell_type": "code",
   "execution_count": null,
   "metadata": {},
   "outputs": [],
   "source": [
    "data"
   ]
  },
  {
   "cell_type": "code",
   "execution_count": null,
   "metadata": {},
   "outputs": [],
   "source": [
    "# для One-Hot Encoding в pandas есть готовая функция - get_dummies. Особенно радует параметр dummy_na\n",
    "data = pd.get_dummies(data, columns=[ 'City',], dummy_na=True)\n",
    "#data.drop(['City'], axis = 1, inplace=True)"
   ]
  },
  {
   "cell_type": "markdown",
   "metadata": {},
   "source": [
    "![](https://cs10.pikabu.ru/post_img/2018/09/06/11/1536261023140110012.jpg)"
   ]
  },
  {
   "cell_type": "markdown",
   "metadata": {},
   "source": [
    "# EDA \n",
    "[Exploratory Data Analysis](https://ru.wikipedia.org/wiki/Разведочный_анализ_данных) - Анализ данных\n",
    "На этом этапе мы строим графики, ищем закономерности, аномалии, выбросы или связи между признаками.\n",
    "В общем цель этого этапа понять, что эти данные могут нам дать и как признаки могут быть взаимосвязаны между собой.\n",
    "Понимание изначальных признаков позволит сгенерировать новые, более сильные и, тем самым, сделать нашу модель лучше.\n",
    "![](https://miro.medium.com/max/2598/1*RXdMb7Uk6mGqWqPguHULaQ.png)"
   ]
  },
  {
   "cell_type": "markdown",
   "metadata": {},
   "source": [
    "### Посмотрим распределение признака"
   ]
  },
  {
   "cell_type": "code",
   "execution_count": null,
   "metadata": {},
   "outputs": [],
   "source": [
    "plt.rcParams['figure.figsize'] = (10,7)\n",
    "df_train['Ranking'].hist(bins=100)"
   ]
  },
  {
   "cell_type": "markdown",
   "metadata": {},
   "source": [
    "У нас много ресторанов, которые не дотягивают и до 2500 места в своем городе, а что там по городам?"
   ]
  },
  {
   "cell_type": "code",
   "execution_count": null,
   "metadata": {},
   "outputs": [],
   "source": [
    "df_train['Ranking'].describe()"
   ]
  },
  {
   "cell_type": "code",
   "execution_count": null,
   "metadata": {},
   "outputs": [],
   "source": [
    "df_train['City'].value_counts(ascending=True).plot(kind='barh')"
   ]
  },
  {
   "cell_type": "markdown",
   "metadata": {},
   "source": [
    "А кто-то говорил, что французы любят поесть=) Посмотрим, как изменится распределение в большом городе:"
   ]
  },
  {
   "cell_type": "code",
   "execution_count": null,
   "metadata": {},
   "outputs": [],
   "source": [
    "df_train['Ranking'][df_train['City'] =='London'].hist(bins=100)"
   ]
  },
  {
   "cell_type": "code",
   "execution_count": null,
   "metadata": {},
   "outputs": [],
   "source": [
    "# посмотрим на топ 10 городов\n",
    "for x in (df_train['City'].value_counts())[0:10].index:\n",
    "    df_train['Ranking'][df_train['City'] == x].hist(bins=100)\n",
    "plt.show()"
   ]
  },
  {
   "cell_type": "code",
   "execution_count": null,
   "metadata": {},
   "outputs": [],
   "source": [
    "df_train[df_train['City'] == 'London'].Ranking.describe()"
   ]
  },
  {
   "cell_type": "code",
   "execution_count": null,
   "metadata": {},
   "outputs": [],
   "source": [
    "df_train[(df_train['City'] == 'London') & (df_train['Ranking'] < 30) ]"
   ]
  },
  {
   "cell_type": "markdown",
   "metadata": {},
   "source": [
    "Получается, что Ranking имеет нормальное распределение, просто в больших городах больше ресторанов, из-за мы этого имеем смещение.\n",
    "\n",
    ">Подумайте как из этого можно сделать признак для вашей модели. Я покажу вам пример, как визуализация помогает находить взаимосвязи. А далее действуйте без подсказок =) \n"
   ]
  },
  {
   "cell_type": "markdown",
   "metadata": {},
   "source": [
    "### Посмотрим распределение целевой переменной"
   ]
  },
  {
   "cell_type": "code",
   "execution_count": null,
   "metadata": {},
   "outputs": [],
   "source": [
    "df_train['Rating'].value_counts(ascending=True).plot(kind='barh')"
   ]
  },
  {
   "cell_type": "markdown",
   "metadata": {},
   "source": [
    "### Посмотрим распределение целевой переменной относительно признака"
   ]
  },
  {
   "cell_type": "code",
   "execution_count": null,
   "metadata": {},
   "outputs": [],
   "source": [
    "df_train['Ranking'][df_train['Rating'] == 5].hist(bins=100)"
   ]
  },
  {
   "cell_type": "code",
   "execution_count": null,
   "metadata": {},
   "outputs": [],
   "source": [
    "df_train['Ranking'][df_train['Rating'] < 4].hist(bins=100)"
   ]
  },
  {
   "cell_type": "markdown",
   "metadata": {},
   "source": [
    "### И один из моих любимых - [корреляция признаков](https://ru.wikipedia.org/wiki/Корреляция)\n",
    "На этом графике уже сейчас вы сможете заметить, как признаки связаны между собой и с целевой переменной."
   ]
  },
  {
   "cell_type": "code",
   "execution_count": null,
   "metadata": {},
   "outputs": [],
   "source": [
    "plt.rcParams['figure.figsize'] = (15,10)\n",
    "sns.heatmap(data.drop(['sample'], axis=1).corr(),)"
   ]
  },
  {
   "cell_type": "markdown",
   "metadata": {},
   "source": [
    "Вообще благодаря визуализации в этом датасете можно узнать много интересных фактов, например:\n",
    "* где больше Пицерий в Мадриде или Лондоне?\n",
    "* в каком городе кухня ресторанов более разнообразна?\n",
    "\n",
    "придумайте свои вопрос и найдите на него ответ в данных)"
   ]
  },
  {
   "cell_type": "markdown",
   "metadata": {},
   "source": [
    "# Data Preprocessing\n",
    "Теперь, для удобства и воспроизводимости кода, завернем всю обработку в одну большую функцию."
   ]
  },
  {
   "cell_type": "code",
   "execution_count": null,
   "metadata": {},
   "outputs": [],
   "source": [
    "# # на всякий случай, заново подгружаем данные\n",
    "# df_train = pd.read_csv(DATA_DIR+'/main_task.csv')\n",
    "# df_test = pd.read_csv(DATA_DIR+'/kaggle_task.csv')\n",
    "# df_train['sample'] = 1 # помечаем где у нас трейн\n",
    "# df_test['sample'] = 0 # помечаем где у нас тест\n",
    "# df_test['Rating'] = 0 # в тесте у нас нет значения Rating, мы его должны предсказать, по этому пока просто заполняем нулями\n",
    "\n",
    "# data = df_test.append(df_train, sort=False).reset_index(drop=True) # объединяем\n",
    "# data.info()"
   ]
  },
  {
   "cell_type": "code",
   "execution_count": null,
   "metadata": {},
   "outputs": [],
   "source": [
    "# def preproc_data(df_input):\n",
    "#     '''includes several functions to pre-process the predictor data.'''\n",
    "    \n",
    "#     df_output = df_input.copy()\n",
    "    \n",
    "#     # ################### 1. Предобработка ############################################################## \n",
    "#     # убираем не нужные для модели признаки\n",
    "#     df_output.drop(['Restaurant_id','ID_TA','URL_TA'], axis = 1, inplace=True)\n",
    "    \n",
    "    \n",
    "#     # ################### 2. NAN ############################################################## \n",
    "#     # Далее заполняем пропуски, вы можете попробовать заполнением средним или средним по городу и тд...\n",
    "#     df_output['Number of Reviews'].fillna(0, inplace=True)\n",
    "#     # тут ваш код по обработке NAN\n",
    "#     # ....\n",
    "    \n",
    "    \n",
    "#     # ################### 3. Encoding ############################################################## \n",
    "#     # для One-Hot Encoding в pandas есть готовая функция - get_dummies. Особенно радует параметр dummy_na\n",
    "#     df_output = pd.get_dummies(df_output, columns=[ 'City',], dummy_na=True)\n",
    "#     # тут ваш код не Encoding фитчей\n",
    "#     # ....\n",
    "    \n",
    "    \n",
    "#     # ################### 4. Feature Engineering ####################################################\n",
    "#     # тут ваш код не генерацию новых фитчей\n",
    "#     # ....\n",
    "    \n",
    "    \n",
    "#     # ################### 5. Clean #################################################### \n",
    "#     # убираем признаки которые еще не успели обработать, \n",
    "#     # модель на признаках с dtypes \"object\" обучаться не будет, просто выберим их и удалим\n",
    "#     object_columns = [s for s in df_output.columns if df_output[s].dtypes == 'object']\n",
    "#     df_output.drop(object_columns, axis = 1, inplace=True)\n",
    "    \n",
    "#     return df_output"
   ]
  },
  {
   "cell_type": "markdown",
   "metadata": {},
   "source": [
    ">По хорошему, можно было бы перевести эту большую функцию в класс и разбить на подфункции (согласно ООП). "
   ]
  },
  {
   "cell_type": "markdown",
   "metadata": {},
   "source": [
    "#### Запускаем и проверяем что получилось"
   ]
  },
  {
   "cell_type": "code",
   "execution_count": null,
   "metadata": {},
   "outputs": [],
   "source": [
    "#df_preproc = preproc_data(data)\n",
    "df_preproc = data\n",
    "df_preproc.sample(10)"
   ]
  },
  {
   "cell_type": "code",
   "execution_count": null,
   "metadata": {},
   "outputs": [],
   "source": [
    "df_preproc.info()"
   ]
  },
  {
   "cell_type": "code",
   "execution_count": null,
   "metadata": {},
   "outputs": [],
   "source": [
    "# Теперь выделим тестовую часть\n",
    "train_data = df_preproc.query('sample == 1').drop(['sample'], axis=1)\n",
    "test_data = df_preproc.query('sample == 0').drop(['sample'], axis=1)\n",
    "\n",
    "y = train_data.Rating.values            # наш таргет\n",
    "X = train_data.drop(['Rating'], axis=1)"
   ]
  },
  {
   "cell_type": "markdown",
   "metadata": {},
   "source": [
    "**Перед тем как отправлять наши данные на обучение, разделим данные на еще один тест и трейн, для валидации. \n",
    "Это поможет нам проверить, как хорошо наша модель работает, до отправки submissiona на kaggle.**"
   ]
  },
  {
   "cell_type": "code",
   "execution_count": null,
   "metadata": {},
   "outputs": [],
   "source": [
    "# Воспользуемся специальной функцие train_test_split для разбивки тестовых данных\n",
    "# выделим 20% данных на валидацию (параметр test_size)\n",
    "X_train, X_test, y_train, y_test = train_test_split(X, y, test_size=0.2, random_state=RANDOM_SEED)"
   ]
  },
  {
   "cell_type": "code",
   "execution_count": null,
   "metadata": {},
   "outputs": [],
   "source": [
    "# проверяем\n",
    "test_data.shape, train_data.shape, X.shape, X_train.shape, X_test.shape"
   ]
  },
  {
   "cell_type": "markdown",
   "metadata": {},
   "source": [
    "# Model \n",
    "Сам ML"
   ]
  },
  {
   "cell_type": "code",
   "execution_count": null,
   "metadata": {},
   "outputs": [],
   "source": [
    "# Импортируем необходимые библиотеки:\n",
    "from sklearn.ensemble import RandomForestRegressor # инструмент для создания и обучения модели\n",
    "from sklearn import metrics # инструменты для оценки точности модели"
   ]
  },
  {
   "cell_type": "code",
   "execution_count": null,
   "metadata": {},
   "outputs": [],
   "source": [
    "# Создаём модель (НАСТРОЙКИ НЕ ТРОГАЕМ)\n",
    "model = RandomForestRegressor(n_estimators=100, verbose=1, n_jobs=-1, random_state=RANDOM_SEED)"
   ]
  },
  {
   "cell_type": "code",
   "execution_count": null,
   "metadata": {},
   "outputs": [],
   "source": [
    "# Обучаем модель на тестовом наборе данных\n",
    "model.fit(X_train, y_train)\n",
    "\n",
    "# Используем обученную модель для предсказания рейтинга ресторанов в тестовой выборке.\n",
    "# Предсказанные значения записываем в переменную y_pred\n",
    "y_pred = model.predict(X_test)"
   ]
  },
  {
   "cell_type": "code",
   "execution_count": null,
   "metadata": {},
   "outputs": [],
   "source": [
    "# Сравниваем предсказанные значения (y_pred) с реальными (y_test), и смотрим насколько они в среднем отличаются\n",
    "# Метрика называется Mean Absolute Error (MAE) и показывает среднее отклонение предсказанных значений от фактических.\n",
    "print('MAE:', metrics.mean_absolute_error(y_test, y_pred))"
   ]
  },
  {
   "cell_type": "code",
   "execution_count": null,
   "metadata": {},
   "outputs": [],
   "source": [
    "# в RandomForestRegressor есть возможность вывести самые важные признаки для модели\n",
    "plt.rcParams['figure.figsize'] = (10,10)\n",
    "feat_importances = pd.Series(model.feature_importances_, index=X.columns)\n",
    "feat_importances.nlargest(15).plot(kind='barh')"
   ]
  },
  {
   "cell_type": "markdown",
   "metadata": {},
   "source": [
    "# Submission\n",
    "Если все устраевает - готовим Submission на кагл"
   ]
  },
  {
   "cell_type": "code",
   "execution_count": null,
   "metadata": {},
   "outputs": [],
   "source": [
    "test_data.sample(10)"
   ]
  },
  {
   "cell_type": "code",
   "execution_count": null,
   "metadata": {},
   "outputs": [],
   "source": [
    "test_data = test_data.drop(['Rating'], axis=1)"
   ]
  },
  {
   "cell_type": "code",
   "execution_count": null,
   "metadata": {},
   "outputs": [],
   "source": [
    "sample_submission"
   ]
  },
  {
   "cell_type": "code",
   "execution_count": null,
   "metadata": {},
   "outputs": [],
   "source": [
    "predict_submission = model.predict(test_data)"
   ]
  },
  {
   "cell_type": "code",
   "execution_count": null,
   "metadata": {},
   "outputs": [],
   "source": [
    "predict_submission"
   ]
  },
  {
   "cell_type": "code",
   "execution_count": null,
   "metadata": {},
   "outputs": [],
   "source": [
    "sample_submission['Rating'] = predict_submission\n",
    "sample_submission.to_csv('submission.csv', index=False)\n",
    "sample_submission.head(10)"
   ]
  },
  {
   "cell_type": "markdown",
   "metadata": {},
   "source": [
    "# What's next?\n",
    "Или что делать, чтоб улучшить результат:\n",
    "* Обработать оставшиеся признаки в понятный для машины формат\n",
    "* Посмотреть, что еще можно извлечь из признаков\n",
    "* Сгенерировать новые признаки\n",
    "* Подгрузить дополнительные данные, например: по населению или благосостоянию городов\n",
    "* Подобрать состав признаков\n",
    "\n",
    "В общем, процесс творческий и весьма увлекательный! Удачи в соревновании!\n"
   ]
  },
  {
   "cell_type": "code",
   "execution_count": null,
   "metadata": {},
   "outputs": [],
   "source": []
  }
 ],
 "metadata": {
  "kernelspec": {
   "display_name": "Python 3",
   "language": "python",
   "name": "python3"
  },
  "language_info": {
   "codemirror_mode": {
    "name": "ipython",
    "version": 3
   },
   "file_extension": ".py",
   "mimetype": "text/x-python",
   "name": "python",
   "nbconvert_exporter": "python",
   "pygments_lexer": "ipython3",
   "version": "3.7.4"
  }
 },
 "nbformat": 4,
 "nbformat_minor": 4
}
